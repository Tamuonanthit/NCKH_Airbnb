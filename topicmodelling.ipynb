{
 "cells": [
  {
   "cell_type": "markdown",
   "metadata": {},
   "source": [
    "# 1. Setting the Working Environment"
   ]
  },
  {
   "cell_type": "code",
   "execution_count": 44,
   "metadata": {},
   "outputs": [
    {
     "name": "stdout",
     "output_type": "stream",
     "text": [
      "Requirement already satisfied: pyLDAvis in c:\\users\\asus\\appdata\\local\\packages\\pythonsoftwarefoundation.python.3.11_qbz5n2kfra8p0\\localcache\\local-packages\\python311\\site-packages (3.4.1)\n",
      "Requirement already satisfied: numpy>=1.24.2 in c:\\users\\asus\\appdata\\local\\packages\\pythonsoftwarefoundation.python.3.11_qbz5n2kfra8p0\\localcache\\local-packages\\python311\\site-packages (from pyLDAvis) (1.26.1)\n",
      "Requirement already satisfied: scipy in c:\\users\\asus\\appdata\\local\\packages\\pythonsoftwarefoundation.python.3.11_qbz5n2kfra8p0\\localcache\\local-packages\\python311\\site-packages (from pyLDAvis) (1.11.3)\n",
      "Requirement already satisfied: pandas>=2.0.0 in c:\\users\\asus\\appdata\\local\\packages\\pythonsoftwarefoundation.python.3.11_qbz5n2kfra8p0\\localcache\\local-packages\\python311\\site-packages (from pyLDAvis) (2.1.2)\n",
      "Requirement already satisfied: joblib>=1.2.0 in c:\\users\\asus\\appdata\\local\\packages\\pythonsoftwarefoundation.python.3.11_qbz5n2kfra8p0\\localcache\\local-packages\\python311\\site-packages (from pyLDAvis) (1.3.2)\n",
      "Requirement already satisfied: jinja2 in c:\\users\\asus\\appdata\\local\\packages\\pythonsoftwarefoundation.python.3.11_qbz5n2kfra8p0\\localcache\\local-packages\\python311\\site-packages (from pyLDAvis) (3.1.3)\n",
      "Requirement already satisfied: numexpr in c:\\users\\asus\\appdata\\local\\packages\\pythonsoftwarefoundation.python.3.11_qbz5n2kfra8p0\\localcache\\local-packages\\python311\\site-packages (from pyLDAvis) (2.9.0)\n",
      "Requirement already satisfied: funcy in c:\\users\\asus\\appdata\\local\\packages\\pythonsoftwarefoundation.python.3.11_qbz5n2kfra8p0\\localcache\\local-packages\\python311\\site-packages (from pyLDAvis) (2.0)\n",
      "Requirement already satisfied: scikit-learn>=1.0.0 in c:\\users\\asus\\appdata\\local\\packages\\pythonsoftwarefoundation.python.3.11_qbz5n2kfra8p0\\localcache\\local-packages\\python311\\site-packages (from pyLDAvis) (1.3.2)\n",
      "Requirement already satisfied: gensim in c:\\users\\asus\\appdata\\local\\packages\\pythonsoftwarefoundation.python.3.11_qbz5n2kfra8p0\\localcache\\local-packages\\python311\\site-packages (from pyLDAvis) (4.3.2)\n",
      "Requirement already satisfied: setuptools in c:\\program files\\windowsapps\\pythonsoftwarefoundation.python.3.11_3.11.2288.0_x64__qbz5n2kfra8p0\\lib\\site-packages (from pyLDAvis) (65.5.0)\n",
      "Requirement already satisfied: python-dateutil>=2.8.2 in c:\\users\\asus\\appdata\\local\\packages\\pythonsoftwarefoundation.python.3.11_qbz5n2kfra8p0\\localcache\\local-packages\\python311\\site-packages (from pandas>=2.0.0->pyLDAvis) (2.8.2)\n",
      "Requirement already satisfied: pytz>=2020.1 in c:\\users\\asus\\appdata\\local\\packages\\pythonsoftwarefoundation.python.3.11_qbz5n2kfra8p0\\localcache\\local-packages\\python311\\site-packages (from pandas>=2.0.0->pyLDAvis) (2023.3.post1)\n",
      "Requirement already satisfied: tzdata>=2022.1 in c:\\users\\asus\\appdata\\local\\packages\\pythonsoftwarefoundation.python.3.11_qbz5n2kfra8p0\\localcache\\local-packages\\python311\\site-packages (from pandas>=2.0.0->pyLDAvis) (2023.3)\n",
      "Requirement already satisfied: threadpoolctl>=2.0.0 in c:\\users\\asus\\appdata\\local\\packages\\pythonsoftwarefoundation.python.3.11_qbz5n2kfra8p0\\localcache\\local-packages\\python311\\site-packages (from scikit-learn>=1.0.0->pyLDAvis) (3.2.0)\n",
      "Requirement already satisfied: smart-open>=1.8.1 in c:\\users\\asus\\appdata\\local\\packages\\pythonsoftwarefoundation.python.3.11_qbz5n2kfra8p0\\localcache\\local-packages\\python311\\site-packages (from gensim->pyLDAvis) (7.0.1)\n",
      "Requirement already satisfied: MarkupSafe>=2.0 in c:\\users\\asus\\appdata\\local\\packages\\pythonsoftwarefoundation.python.3.11_qbz5n2kfra8p0\\localcache\\local-packages\\python311\\site-packages (from jinja2->pyLDAvis) (2.1.1)\n",
      "Requirement already satisfied: six>=1.5 in c:\\users\\asus\\appdata\\local\\packages\\pythonsoftwarefoundation.python.3.11_qbz5n2kfra8p0\\localcache\\local-packages\\python311\\site-packages (from python-dateutil>=2.8.2->pandas>=2.0.0->pyLDAvis) (1.16.0)\n",
      "Requirement already satisfied: wrapt in c:\\users\\asus\\appdata\\local\\packages\\pythonsoftwarefoundation.python.3.11_qbz5n2kfra8p0\\localcache\\local-packages\\python311\\site-packages (from smart-open>=1.8.1->gensim->pyLDAvis) (1.16.0)\n"
     ]
    },
    {
     "name": "stderr",
     "output_type": "stream",
     "text": [
      "\n",
      "[notice] A new release of pip is available: 23.3.1 -> 24.0\n",
      "[notice] To update, run: C:\\Users\\ASUS\\AppData\\Local\\Microsoft\\WindowsApps\\PythonSoftwareFoundation.Python.3.11_qbz5n2kfra8p0\\python.exe -m pip install --upgrade pip\n"
     ]
    },
    {
     "name": "stdout",
     "output_type": "stream",
     "text": [
      "Requirement already satisfied: wordcloud in c:\\users\\asus\\appdata\\local\\packages\\pythonsoftwarefoundation.python.3.11_qbz5n2kfra8p0\\localcache\\local-packages\\python311\\site-packages (1.9.3)\n",
      "Requirement already satisfied: numpy>=1.6.1 in c:\\users\\asus\\appdata\\local\\packages\\pythonsoftwarefoundation.python.3.11_qbz5n2kfra8p0\\localcache\\local-packages\\python311\\site-packages (from wordcloud) (1.26.1)\n",
      "Requirement already satisfied: pillow in c:\\users\\asus\\appdata\\local\\packages\\pythonsoftwarefoundation.python.3.11_qbz5n2kfra8p0\\localcache\\local-packages\\python311\\site-packages (from wordcloud) (10.1.0)\n",
      "Requirement already satisfied: matplotlib in c:\\users\\asus\\appdata\\local\\packages\\pythonsoftwarefoundation.python.3.11_qbz5n2kfra8p0\\localcache\\local-packages\\python311\\site-packages (from wordcloud) (3.8.1)\n",
      "Requirement already satisfied: contourpy>=1.0.1 in c:\\users\\asus\\appdata\\local\\packages\\pythonsoftwarefoundation.python.3.11_qbz5n2kfra8p0\\localcache\\local-packages\\python311\\site-packages (from matplotlib->wordcloud) (1.2.0)\n",
      "Requirement already satisfied: cycler>=0.10 in c:\\users\\asus\\appdata\\local\\packages\\pythonsoftwarefoundation.python.3.11_qbz5n2kfra8p0\\localcache\\local-packages\\python311\\site-packages (from matplotlib->wordcloud) (0.12.1)\n",
      "Requirement already satisfied: fonttools>=4.22.0 in c:\\users\\asus\\appdata\\local\\packages\\pythonsoftwarefoundation.python.3.11_qbz5n2kfra8p0\\localcache\\local-packages\\python311\\site-packages (from matplotlib->wordcloud) (4.44.0)\n",
      "Requirement already satisfied: kiwisolver>=1.3.1 in c:\\users\\asus\\appdata\\local\\packages\\pythonsoftwarefoundation.python.3.11_qbz5n2kfra8p0\\localcache\\local-packages\\python311\\site-packages (from matplotlib->wordcloud) (1.4.5)\n",
      "Requirement already satisfied: packaging>=20.0 in c:\\users\\asus\\appdata\\local\\packages\\pythonsoftwarefoundation.python.3.11_qbz5n2kfra8p0\\localcache\\local-packages\\python311\\site-packages (from matplotlib->wordcloud) (23.2)\n",
      "Requirement already satisfied: pyparsing>=2.3.1 in c:\\users\\asus\\appdata\\local\\packages\\pythonsoftwarefoundation.python.3.11_qbz5n2kfra8p0\\localcache\\local-packages\\python311\\site-packages (from matplotlib->wordcloud) (3.1.1)\n",
      "Requirement already satisfied: python-dateutil>=2.7 in c:\\users\\asus\\appdata\\local\\packages\\pythonsoftwarefoundation.python.3.11_qbz5n2kfra8p0\\localcache\\local-packages\\python311\\site-packages (from matplotlib->wordcloud) (2.8.2)\n",
      "Requirement already satisfied: six>=1.5 in c:\\users\\asus\\appdata\\local\\packages\\pythonsoftwarefoundation.python.3.11_qbz5n2kfra8p0\\localcache\\local-packages\\python311\\site-packages (from python-dateutil>=2.7->matplotlib->wordcloud) (1.16.0)\n"
     ]
    },
    {
     "name": "stderr",
     "output_type": "stream",
     "text": [
      "\n",
      "[notice] A new release of pip is available: 23.3.1 -> 24.0\n",
      "[notice] To update, run: C:\\Users\\ASUS\\AppData\\Local\\Microsoft\\WindowsApps\\PythonSoftwareFoundation.Python.3.11_qbz5n2kfra8p0\\python.exe -m pip install --upgrade pip\n"
     ]
    },
    {
     "name": "stdout",
     "output_type": "stream",
     "text": [
      "Requirement already satisfied: gensim in c:\\users\\asus\\appdata\\local\\packages\\pythonsoftwarefoundation.python.3.11_qbz5n2kfra8p0\\localcache\\local-packages\\python311\\site-packages (4.3.2)\n",
      "Requirement already satisfied: numpy>=1.18.5 in c:\\users\\asus\\appdata\\local\\packages\\pythonsoftwarefoundation.python.3.11_qbz5n2kfra8p0\\localcache\\local-packages\\python311\\site-packages (from gensim) (1.26.1)\n",
      "Requirement already satisfied: scipy>=1.7.0 in c:\\users\\asus\\appdata\\local\\packages\\pythonsoftwarefoundation.python.3.11_qbz5n2kfra8p0\\localcache\\local-packages\\python311\\site-packages (from gensim) (1.11.3)\n",
      "Requirement already satisfied: smart-open>=1.8.1 in c:\\users\\asus\\appdata\\local\\packages\\pythonsoftwarefoundation.python.3.11_qbz5n2kfra8p0\\localcache\\local-packages\\python311\\site-packages (from gensim) (7.0.1)\n",
      "Requirement already satisfied: wrapt in c:\\users\\asus\\appdata\\local\\packages\\pythonsoftwarefoundation.python.3.11_qbz5n2kfra8p0\\localcache\\local-packages\\python311\\site-packages (from smart-open>=1.8.1->gensim) (1.16.0)\n"
     ]
    },
    {
     "name": "stderr",
     "output_type": "stream",
     "text": [
      "\n",
      "[notice] A new release of pip is available: 23.3.1 -> 24.0\n",
      "[notice] To update, run: C:\\Users\\ASUS\\AppData\\Local\\Microsoft\\WindowsApps\\PythonSoftwareFoundation.Python.3.11_qbz5n2kfra8p0\\python.exe -m pip install --upgrade pip\n"
     ]
    },
    {
     "name": "stdout",
     "output_type": "stream",
     "text": [
      "Requirement already satisfied: nltk in c:\\users\\asus\\appdata\\local\\packages\\pythonsoftwarefoundation.python.3.11_qbz5n2kfra8p0\\localcache\\local-packages\\python311\\site-packages (3.8.1)\n",
      "Requirement already satisfied: click in c:\\users\\asus\\appdata\\local\\packages\\pythonsoftwarefoundation.python.3.11_qbz5n2kfra8p0\\localcache\\local-packages\\python311\\site-packages (from nltk) (8.1.7)\n",
      "Requirement already satisfied: joblib in c:\\users\\asus\\appdata\\local\\packages\\pythonsoftwarefoundation.python.3.11_qbz5n2kfra8p0\\localcache\\local-packages\\python311\\site-packages (from nltk) (1.3.2)\n",
      "Requirement already satisfied: regex>=2021.8.3 in c:\\users\\asus\\appdata\\local\\packages\\pythonsoftwarefoundation.python.3.11_qbz5n2kfra8p0\\localcache\\local-packages\\python311\\site-packages (from nltk) (2023.12.25)\n",
      "Requirement already satisfied: tqdm in c:\\users\\asus\\appdata\\local\\packages\\pythonsoftwarefoundation.python.3.11_qbz5n2kfra8p0\\localcache\\local-packages\\python311\\site-packages (from nltk) (4.66.2)\n",
      "Requirement already satisfied: colorama in c:\\users\\asus\\appdata\\local\\packages\\pythonsoftwarefoundation.python.3.11_qbz5n2kfra8p0\\localcache\\local-packages\\python311\\site-packages (from click->nltk) (0.4.6)\n"
     ]
    },
    {
     "name": "stderr",
     "output_type": "stream",
     "text": [
      "\n",
      "[notice] A new release of pip is available: 23.3.1 -> 24.0\n",
      "[notice] To update, run: C:\\Users\\ASUS\\AppData\\Local\\Microsoft\\WindowsApps\\PythonSoftwareFoundation.Python.3.11_qbz5n2kfra8p0\\python.exe -m pip install --upgrade pip\n"
     ]
    }
   ],
   "source": [
    "!pip install pyLDAvis\n",
    "!pip install wordcloud\n",
    "!pip install gensim\n",
    "!pip install nltk"
   ]
  },
  {
   "cell_type": "code",
   "execution_count": 45,
   "metadata": {},
   "outputs": [],
   "source": [
    "import pyLDAvis\n",
    "import pyLDAvis.gensim_models \n",
    "import pandas as pd\n",
    "import os\n",
    "import gensim\n",
    "from gensim.utils import simple_preprocess\n",
    "import nltk\n",
    "from nltk.corpus import stopwords\n",
    "import gensim.corpora as corpora\n",
    "import warnings\n",
    "warnings.filterwarnings('ignore')"
   ]
  },
  {
   "cell_type": "markdown",
   "metadata": {},
   "source": [
    "# 2. Importing Data"
   ]
  },
  {
   "cell_type": "code",
   "execution_count": 46,
   "metadata": {},
   "outputs": [
    {
     "name": "stdout",
     "output_type": "stream",
     "text": [
      "The shape of data ---> (100617, 7)\n"
     ]
    },
    {
     "data": {
      "text/html": [
       "<div>\n",
       "<style scoped>\n",
       "    .dataframe tbody tr th:only-of-type {\n",
       "        vertical-align: middle;\n",
       "    }\n",
       "\n",
       "    .dataframe tbody tr th {\n",
       "        vertical-align: top;\n",
       "    }\n",
       "\n",
       "    .dataframe thead th {\n",
       "        text-align: right;\n",
       "    }\n",
       "</style>\n",
       "<table border=\"1\" class=\"dataframe\">\n",
       "  <thead>\n",
       "    <tr style=\"text-align: right;\">\n",
       "      <th></th>\n",
       "      <th>Unnamed: 0</th>\n",
       "      <th>reviewer_name</th>\n",
       "      <th>reviewer_country</th>\n",
       "      <th>rental_date</th>\n",
       "      <th>comments</th>\n",
       "      <th>sentiment</th>\n",
       "      <th>label</th>\n",
       "    </tr>\n",
       "  </thead>\n",
       "  <tbody>\n",
       "    <tr>\n",
       "      <th>0</th>\n",
       "      <td>0</td>\n",
       "      <td>Huệ</td>\n",
       "      <td>Việt Nam</td>\n",
       "      <td>2023-03-02</td>\n",
       "      <td>good place</td>\n",
       "      <td>positive</td>\n",
       "      <td>1</td>\n",
       "    </tr>\n",
       "    <tr>\n",
       "      <th>1</th>\n",
       "      <td>1</td>\n",
       "      <td>Đình</td>\n",
       "      <td>Việt Nam</td>\n",
       "      <td>2023-03-18</td>\n",
       "      <td>wind noisy</td>\n",
       "      <td>negative</td>\n",
       "      <td>2</td>\n",
       "    </tr>\n",
       "    <tr>\n",
       "      <th>2</th>\n",
       "      <td>2</td>\n",
       "      <td>Ngọc</td>\n",
       "      <td>Việt Nam</td>\n",
       "      <td>2023-08-01</td>\n",
       "      <td>good service staff contact nearly clock</td>\n",
       "      <td>positive</td>\n",
       "      <td>1</td>\n",
       "    </tr>\n",
       "    <tr>\n",
       "      <th>3</th>\n",
       "      <td>3</td>\n",
       "      <td>Tuyết</td>\n",
       "      <td>Việt Nam</td>\n",
       "      <td>2023-09-06</td>\n",
       "      <td>location near sea beautiful clean rooms</td>\n",
       "      <td>positive</td>\n",
       "      <td>1</td>\n",
       "    </tr>\n",
       "    <tr>\n",
       "      <th>4</th>\n",
       "      <td>4</td>\n",
       "      <td>Hùng</td>\n",
       "      <td>Việt Nam</td>\n",
       "      <td>2023-01-16</td>\n",
       "      <td>nice room clean wide friendly friendly friendly</td>\n",
       "      <td>positive</td>\n",
       "      <td>1</td>\n",
       "    </tr>\n",
       "    <tr>\n",
       "      <th>5</th>\n",
       "      <td>5</td>\n",
       "      <td>Song</td>\n",
       "      <td>Việt Nam</td>\n",
       "      <td>2023-02-09</td>\n",
       "      <td>ks near back beach room clean opportunity supp...</td>\n",
       "      <td>positive</td>\n",
       "      <td>1</td>\n",
       "    </tr>\n",
       "    <tr>\n",
       "      <th>6</th>\n",
       "      <td>6</td>\n",
       "      <td>Truong</td>\n",
       "      <td>Việt Nam</td>\n",
       "      <td>2023-03-21</td>\n",
       "      <td>good price near sea cute landlords</td>\n",
       "      <td>positive</td>\n",
       "      <td>1</td>\n",
       "    </tr>\n",
       "    <tr>\n",
       "      <th>7</th>\n",
       "      <td>7</td>\n",
       "      <td>Trần</td>\n",
       "      <td>Việt Nam</td>\n",
       "      <td>2023-04-16</td>\n",
       "      <td>airy space modern equipment</td>\n",
       "      <td>positive</td>\n",
       "      <td>1</td>\n",
       "    </tr>\n",
       "    <tr>\n",
       "      <th>8</th>\n",
       "      <td>8</td>\n",
       "      <td>Hưng</td>\n",
       "      <td>Việt Nam</td>\n",
       "      <td>2023-06-18</td>\n",
       "      <td>comfortable space dedicated service staff ever...</td>\n",
       "      <td>positive</td>\n",
       "      <td>1</td>\n",
       "    </tr>\n",
       "    <tr>\n",
       "      <th>9</th>\n",
       "      <td>9</td>\n",
       "      <td>Trường</td>\n",
       "      <td>Việt Nam</td>\n",
       "      <td>2023-09-11</td>\n",
       "      <td>clean</td>\n",
       "      <td>positive</td>\n",
       "      <td>1</td>\n",
       "    </tr>\n",
       "  </tbody>\n",
       "</table>\n",
       "</div>"
      ],
      "text/plain": [
       "   Unnamed: 0 reviewer_name reviewer_country rental_date  \\\n",
       "0           0           Huệ        Việt Nam  2023-03-02   \n",
       "1           1          Đình        Việt Nam  2023-03-18   \n",
       "2           2          Ngọc        Việt Nam  2023-08-01   \n",
       "3           3         Tuyết        Việt Nam  2023-09-06   \n",
       "4           4          Hùng        Việt Nam  2023-01-16   \n",
       "5           5          Song        Việt Nam  2023-02-09   \n",
       "6           6        Truong        Việt Nam  2023-03-21   \n",
       "7           7          Trần        Việt Nam  2023-04-16   \n",
       "8           8          Hưng        Việt Nam  2023-06-18   \n",
       "9           9        Trường        Việt Nam  2023-09-11   \n",
       "\n",
       "                                            comments sentiment  label  \n",
       "0                                         good place  positive      1  \n",
       "1                                         wind noisy  negative      2  \n",
       "2            good service staff contact nearly clock  positive      1  \n",
       "3            location near sea beautiful clean rooms  positive      1  \n",
       "4    nice room clean wide friendly friendly friendly  positive      1  \n",
       "5  ks near back beach room clean opportunity supp...  positive      1  \n",
       "6                 good price near sea cute landlords  positive      1  \n",
       "7                       airy space modern equipment   positive      1  \n",
       "8  comfortable space dedicated service staff ever...  positive      1  \n",
       "9                                              clean  positive      1  "
      ]
     },
     "execution_count": 46,
     "metadata": {},
     "output_type": "execute_result"
    }
   ],
   "source": [
    "# Master Folder PathC\n",
    "path = \"E:\\\\NCKH\\\\NCKHNew\\\\labeled_data_final.csv\"\n",
    "df = pd.read_csv(os.path.join(path))\n",
    "print(\"The shape of data --->\",df.shape)\n",
    "df.head(10) # Print head"
   ]
  },
  {
   "cell_type": "markdown",
   "metadata": {},
   "source": [
    "# 3. Inital Pre-Processing Data"
   ]
  },
  {
   "cell_type": "code",
   "execution_count": 47,
   "metadata": {},
   "outputs": [
    {
     "data": {
      "text/html": [
       "<div>\n",
       "<style scoped>\n",
       "    .dataframe tbody tr th:only-of-type {\n",
       "        vertical-align: middle;\n",
       "    }\n",
       "\n",
       "    .dataframe tbody tr th {\n",
       "        vertical-align: top;\n",
       "    }\n",
       "\n",
       "    .dataframe thead th {\n",
       "        text-align: right;\n",
       "    }\n",
       "</style>\n",
       "<table border=\"1\" class=\"dataframe\">\n",
       "  <thead>\n",
       "    <tr style=\"text-align: right;\">\n",
       "      <th></th>\n",
       "      <th>rental_date</th>\n",
       "      <th>comments</th>\n",
       "      <th>sentiment</th>\n",
       "      <th>label</th>\n",
       "    </tr>\n",
       "  </thead>\n",
       "  <tbody>\n",
       "    <tr>\n",
       "      <th>0</th>\n",
       "      <td>2023-03-02</td>\n",
       "      <td>good place</td>\n",
       "      <td>positive</td>\n",
       "      <td>1</td>\n",
       "    </tr>\n",
       "    <tr>\n",
       "      <th>1</th>\n",
       "      <td>2023-03-18</td>\n",
       "      <td>wind noisy</td>\n",
       "      <td>negative</td>\n",
       "      <td>2</td>\n",
       "    </tr>\n",
       "    <tr>\n",
       "      <th>2</th>\n",
       "      <td>2023-08-01</td>\n",
       "      <td>good service staff contact nearly clock</td>\n",
       "      <td>positive</td>\n",
       "      <td>1</td>\n",
       "    </tr>\n",
       "    <tr>\n",
       "      <th>3</th>\n",
       "      <td>2023-09-06</td>\n",
       "      <td>location near sea beautiful clean rooms</td>\n",
       "      <td>positive</td>\n",
       "      <td>1</td>\n",
       "    </tr>\n",
       "    <tr>\n",
       "      <th>4</th>\n",
       "      <td>2023-01-16</td>\n",
       "      <td>nice room clean wide friendly friendly friendly</td>\n",
       "      <td>positive</td>\n",
       "      <td>1</td>\n",
       "    </tr>\n",
       "    <tr>\n",
       "      <th>...</th>\n",
       "      <td>...</td>\n",
       "      <td>...</td>\n",
       "      <td>...</td>\n",
       "      <td>...</td>\n",
       "    </tr>\n",
       "    <tr>\n",
       "      <th>100612</th>\n",
       "      <td>2023-11-15</td>\n",
       "      <td>ok</td>\n",
       "      <td>positive</td>\n",
       "      <td>1</td>\n",
       "    </tr>\n",
       "    <tr>\n",
       "      <th>100613</th>\n",
       "      <td>2023-11-14</td>\n",
       "      <td>nigel real life buoy checked airbnb think flig...</td>\n",
       "      <td>positive</td>\n",
       "      <td>1</td>\n",
       "    </tr>\n",
       "    <tr>\n",
       "      <th>100614</th>\n",
       "      <td>2023-11-14</td>\n",
       "      <td>looks like photos locations super communicatio...</td>\n",
       "      <td>positive</td>\n",
       "      <td>1</td>\n",
       "    </tr>\n",
       "    <tr>\n",
       "      <th>100615</th>\n",
       "      <td>2023-11-12</td>\n",
       "      <td>great location clean accommodation necessary a...</td>\n",
       "      <td>positive</td>\n",
       "      <td>1</td>\n",
       "    </tr>\n",
       "    <tr>\n",
       "      <th>100616</th>\n",
       "      <td>2023-11-12</td>\n",
       "      <td>location best part location landlord responded...</td>\n",
       "      <td>positive</td>\n",
       "      <td>1</td>\n",
       "    </tr>\n",
       "  </tbody>\n",
       "</table>\n",
       "<p>100617 rows × 4 columns</p>\n",
       "</div>"
      ],
      "text/plain": [
       "       rental_date                                           comments  \\\n",
       "0       2023-03-02                                         good place   \n",
       "1       2023-03-18                                         wind noisy   \n",
       "2       2023-08-01            good service staff contact nearly clock   \n",
       "3       2023-09-06            location near sea beautiful clean rooms   \n",
       "4       2023-01-16    nice room clean wide friendly friendly friendly   \n",
       "...            ...                                                ...   \n",
       "100612  2023-11-15                                                 ok   \n",
       "100613  2023-11-14  nigel real life buoy checked airbnb think flig...   \n",
       "100614  2023-11-14  looks like photos locations super communicatio...   \n",
       "100615  2023-11-12  great location clean accommodation necessary a...   \n",
       "100616  2023-11-12  location best part location landlord responded...   \n",
       "\n",
       "       sentiment  label  \n",
       "0       positive      1  \n",
       "1       negative      2  \n",
       "2       positive      1  \n",
       "3       positive      1  \n",
       "4       positive      1  \n",
       "...          ...    ...  \n",
       "100612  positive      1  \n",
       "100613  positive      1  \n",
       "100614  positive      1  \n",
       "100615  positive      1  \n",
       "100616  positive      1  \n",
       "\n",
       "[100617 rows x 4 columns]"
      ]
     },
     "execution_count": 47,
     "metadata": {},
     "output_type": "execute_result"
    }
   ],
   "source": [
    "#Remove the columns\n",
    "df = df.drop(['Unnamed: 0','reviewer_name','reviewer_country'], axis = 1)\n",
    "df"
   ]
  },
  {
   "cell_type": "markdown",
   "metadata": {},
   "source": [
    "# 4. Initating the LDA analysis"
   ]
  },
  {
   "cell_type": "code",
   "execution_count": 48,
   "metadata": {},
   "outputs": [
    {
     "name": "stdout",
     "output_type": "stream",
     "text": [
      "['good', 'place']\n"
     ]
    }
   ],
   "source": [
    "stop_words = stopwords.words('english')\n",
    "stop_words.extend(['from', 'subject', 're', 'us', 'could','would','use','model','one','two','set', 'also', 'bit', 'hoi', \n",
    "                   'even', 'without', 'nan', 'ks', 'lot'])\n",
    "\"\"\"\n",
    "    Functions for converting sentence to words\n",
    "\"\"\"  \n",
    "def sent_to_words(sentences):\n",
    "    for sentence in sentences:\n",
    "        yield(gensim.utils.simple_preprocess(str(sentence), deacc=True))\n",
    "\"\"\"\n",
    "    Functions removing the stopwords \n",
    "\"\"\"        \n",
    "def remove_stopwords(texts):\n",
    "    return [[word for word in simple_preprocess(str(doc)) \n",
    "             if word not in stop_words] for doc in texts]\n",
    "\n",
    "data = df.comments.values.tolist()#creating the array of token \n",
    "data_words = list(sent_to_words(data))#converting them into list\n",
    "\n",
    "data_words = remove_stopwords(data_words)# remove stop words\n",
    "print(data_words[:1][0][:30])"
   ]
  },
  {
   "cell_type": "code",
   "execution_count": 49,
   "metadata": {},
   "outputs": [
    {
     "name": "stdout",
     "output_type": "stream",
     "text": [
      "[(0, 1), (1, 1)]\n"
     ]
    }
   ],
   "source": [
    "# Create Dictionary \n",
    "id2word = corpora.Dictionary(data_words)\n",
    "\n",
    "# Create Corpus\n",
    "texts = data_words\n",
    "\n",
    "# Term Document Frequency\n",
    "corpus = [id2word.doc2bow(text) for text in texts]\n",
    "\n",
    "# Printing the corpus in a numeric form which implies the frequency of the word\n",
    "print(corpus[:1][0][:30])"
   ]
  },
  {
   "cell_type": "code",
   "execution_count": 50,
   "metadata": {},
   "outputs": [],
   "source": [
    "# #Showing the code\n",
    "# id2word"
   ]
  },
  {
   "cell_type": "markdown",
   "metadata": {},
   "source": [
    "# 5. LDA model training"
   ]
  },
  {
   "cell_type": "code",
   "execution_count": 51,
   "metadata": {},
   "outputs": [],
   "source": [
    "# from pprint import pprint\n",
    "# # number of topics\n",
    "# num_topics = 4\n",
    "\n",
    "# # Build LDA model\n",
    "# lda_model = gensim.models.LdaMulticore(corpus=corpus,\n",
    "#                                        id2word=id2word,\n",
    "#                                        num_topics=num_topics)\n",
    "\n",
    "# # Print the Keyword in the 10 topics\n",
    "# pprint(lda_model.print_topics())\n",
    "# doc_lda = lda_model[corpus]"
   ]
  },
  {
   "cell_type": "markdown",
   "metadata": {},
   "source": [
    "# 6. Analysing the LDA model"
   ]
  },
  {
   "cell_type": "code",
   "execution_count": 52,
   "metadata": {},
   "outputs": [],
   "source": [
    "import os\n",
    "import pickle\n",
    "import pyLDAvis\n",
    "import pyLDAvis.gensim_models\n",
    "\n",
    "# # Khai báo đường dẫn đến thư mục lưu trữ dữ liệu\n",
    "# LDAvis_data_dir = os.path.join(\"E:\\\\NCKH\\\\NCKHNew\\\\img\", '02_Results')\n",
    "# if not os.path.exists(LDAvis_data_dir):\n",
    "#     os.makedirs(LDAvis_data_dir)\n",
    "\n",
    "# # Đường dẫn tới tệp dữ liệu của pyLDAvis\n",
    "# LDAvis_data_filepath = os.path.join(LDAvis_data_dir, 'ldavis_prepared_'+str(num_topics))\n",
    "\n",
    "# # Kiểm tra xem liệu quá trình chuẩn bị dữ liệu cho trực quan hóa đã được thực hiện chưa\n",
    "# if 1 == 1:\n",
    "#     # Chuẩn bị dữ liệu cho trực quan hóa\n",
    "#     LDAvis_prepared = pyLDAvis.gensim_models.prepare(lda_model, corpus, id2word)\n",
    "#     # Lưu trữ dữ liệu vào một tệp\n",
    "#     with open(LDAvis_data_filepath, 'wb') as f:\n",
    "#         pickle.dump(LDAvis_prepared, f)\n",
    "\n",
    "# # Load dữ liệu đã chuẩn bị từ tệp\n",
    "# with open(LDAvis_data_filepath, 'rb') as f:\n",
    "#     LDAvis_prepared = pickle.load(f)\n",
    "\n",
    "# # Lưu trữ trực quan hóa dưới dạng một tệp HTML\n",
    "# pyLDAvis.save_html(LDAvis_prepared, 'ldavis_prepared_'+ str(num_topics) +'.html')\n",
    "\n",
    "# # Hiển thị trực quan hóa trên trình duyệt web\n",
    "# pyLDAvis.display(LDAvis_prepared)\n"
   ]
  },
  {
   "cell_type": "markdown",
   "metadata": {},
   "source": [
    "# 8. Topic modelling positive comments"
   ]
  },
  {
   "cell_type": "markdown",
   "metadata": {},
   "source": [
    "## Data"
   ]
  },
  {
   "cell_type": "code",
   "execution_count": 53,
   "metadata": {},
   "outputs": [
    {
     "data": {
      "text/html": [
       "<div>\n",
       "<style scoped>\n",
       "    .dataframe tbody tr th:only-of-type {\n",
       "        vertical-align: middle;\n",
       "    }\n",
       "\n",
       "    .dataframe tbody tr th {\n",
       "        vertical-align: top;\n",
       "    }\n",
       "\n",
       "    .dataframe thead th {\n",
       "        text-align: right;\n",
       "    }\n",
       "</style>\n",
       "<table border=\"1\" class=\"dataframe\">\n",
       "  <thead>\n",
       "    <tr style=\"text-align: right;\">\n",
       "      <th></th>\n",
       "      <th>rental_date</th>\n",
       "      <th>comments</th>\n",
       "      <th>sentiment</th>\n",
       "      <th>label</th>\n",
       "    </tr>\n",
       "  </thead>\n",
       "  <tbody>\n",
       "    <tr>\n",
       "      <th>0</th>\n",
       "      <td>2023-03-02</td>\n",
       "      <td>good place</td>\n",
       "      <td>positive</td>\n",
       "      <td>1</td>\n",
       "    </tr>\n",
       "    <tr>\n",
       "      <th>2</th>\n",
       "      <td>2023-08-01</td>\n",
       "      <td>good service staff contact nearly clock</td>\n",
       "      <td>positive</td>\n",
       "      <td>1</td>\n",
       "    </tr>\n",
       "    <tr>\n",
       "      <th>3</th>\n",
       "      <td>2023-09-06</td>\n",
       "      <td>location near sea beautiful clean rooms</td>\n",
       "      <td>positive</td>\n",
       "      <td>1</td>\n",
       "    </tr>\n",
       "    <tr>\n",
       "      <th>4</th>\n",
       "      <td>2023-01-16</td>\n",
       "      <td>nice room clean wide friendly friendly friendly</td>\n",
       "      <td>positive</td>\n",
       "      <td>1</td>\n",
       "    </tr>\n",
       "    <tr>\n",
       "      <th>5</th>\n",
       "      <td>2023-02-09</td>\n",
       "      <td>ks near back beach room clean opportunity supp...</td>\n",
       "      <td>positive</td>\n",
       "      <td>1</td>\n",
       "    </tr>\n",
       "    <tr>\n",
       "      <th>...</th>\n",
       "      <td>...</td>\n",
       "      <td>...</td>\n",
       "      <td>...</td>\n",
       "      <td>...</td>\n",
       "    </tr>\n",
       "    <tr>\n",
       "      <th>100612</th>\n",
       "      <td>2023-11-15</td>\n",
       "      <td>ok</td>\n",
       "      <td>positive</td>\n",
       "      <td>1</td>\n",
       "    </tr>\n",
       "    <tr>\n",
       "      <th>100613</th>\n",
       "      <td>2023-11-14</td>\n",
       "      <td>nigel real life buoy checked airbnb think flig...</td>\n",
       "      <td>positive</td>\n",
       "      <td>1</td>\n",
       "    </tr>\n",
       "    <tr>\n",
       "      <th>100614</th>\n",
       "      <td>2023-11-14</td>\n",
       "      <td>looks like photos locations super communicatio...</td>\n",
       "      <td>positive</td>\n",
       "      <td>1</td>\n",
       "    </tr>\n",
       "    <tr>\n",
       "      <th>100615</th>\n",
       "      <td>2023-11-12</td>\n",
       "      <td>great location clean accommodation necessary a...</td>\n",
       "      <td>positive</td>\n",
       "      <td>1</td>\n",
       "    </tr>\n",
       "    <tr>\n",
       "      <th>100616</th>\n",
       "      <td>2023-11-12</td>\n",
       "      <td>location best part location landlord responded...</td>\n",
       "      <td>positive</td>\n",
       "      <td>1</td>\n",
       "    </tr>\n",
       "  </tbody>\n",
       "</table>\n",
       "<p>77557 rows × 4 columns</p>\n",
       "</div>"
      ],
      "text/plain": [
       "       rental_date                                           comments  \\\n",
       "0       2023-03-02                                         good place   \n",
       "2       2023-08-01            good service staff contact nearly clock   \n",
       "3       2023-09-06            location near sea beautiful clean rooms   \n",
       "4       2023-01-16    nice room clean wide friendly friendly friendly   \n",
       "5       2023-02-09  ks near back beach room clean opportunity supp...   \n",
       "...            ...                                                ...   \n",
       "100612  2023-11-15                                                 ok   \n",
       "100613  2023-11-14  nigel real life buoy checked airbnb think flig...   \n",
       "100614  2023-11-14  looks like photos locations super communicatio...   \n",
       "100615  2023-11-12  great location clean accommodation necessary a...   \n",
       "100616  2023-11-12  location best part location landlord responded...   \n",
       "\n",
       "       sentiment  label  \n",
       "0       positive      1  \n",
       "2       positive      1  \n",
       "3       positive      1  \n",
       "4       positive      1  \n",
       "5       positive      1  \n",
       "...          ...    ...  \n",
       "100612  positive      1  \n",
       "100613  positive      1  \n",
       "100614  positive      1  \n",
       "100615  positive      1  \n",
       "100616  positive      1  \n",
       "\n",
       "[77557 rows x 4 columns]"
      ]
     },
     "execution_count": 53,
     "metadata": {},
     "output_type": "execute_result"
    }
   ],
   "source": [
    "df_pos = df.loc[df['label'] == 1]\n",
    "df_pos"
   ]
  },
  {
   "cell_type": "code",
   "execution_count": 54,
   "metadata": {},
   "outputs": [
    {
     "name": "stdout",
     "output_type": "stream",
     "text": [
      "['good', 'place']\n"
     ]
    }
   ],
   "source": [
    "data = df_pos.comments.values.tolist()#creating the array of token \n",
    "data_words = list(sent_to_words(data))#converting them into list\n",
    "\n",
    "data_words = remove_stopwords(data_words)# remove stop words\n",
    "print(data_words[:1][0][:30])"
   ]
  },
  {
   "cell_type": "code",
   "execution_count": 55,
   "metadata": {},
   "outputs": [
    {
     "name": "stdout",
     "output_type": "stream",
     "text": [
      "[(0, 1), (1, 1)]\n"
     ]
    }
   ],
   "source": [
    "# Create Dictionary \n",
    "id2word = corpora.Dictionary(data_words)\n",
    "\n",
    "# Create Corpus\n",
    "texts = data_words\n",
    "\n",
    "# Term Document Frequency\n",
    "corpus = [id2word.doc2bow(text) for text in texts]\n",
    "\n",
    "# Printing the corpus in a numeric form which implies the frequency of the word\n",
    "print(corpus[:1][0][:30])"
   ]
  },
  {
   "cell_type": "code",
   "execution_count": 56,
   "metadata": {},
   "outputs": [
    {
     "data": {
      "text/plain": [
       "<gensim.corpora.dictionary.Dictionary at 0x1919a773dd0>"
      ]
     },
     "execution_count": 56,
     "metadata": {},
     "output_type": "execute_result"
    }
   ],
   "source": [
    "#Showing the code\n",
    "id2word"
   ]
  },
  {
   "cell_type": "markdown",
   "metadata": {},
   "source": [
    "## LDA training"
   ]
  },
  {
   "cell_type": "code",
   "execution_count": 57,
   "metadata": {},
   "outputs": [
    {
     "name": "stdout",
     "output_type": "stream",
     "text": [
      "[(0,\n",
      "  '0.062*\"staff\" + 0.059*\"friendly\" + 0.051*\"enthusiastic\" + 0.050*\"beautiful\" '\n",
      "  '+ 0.045*\"clean\" + 0.037*\"room\" + 0.022*\"delicious\" + 0.020*\"owner\" + '\n",
      "  '0.019*\"breakfast\" + 0.016*\"service\"'),\n",
      " (1,\n",
      "  '0.028*\"room\" + 0.026*\"location\" + 0.026*\"nice\" + 0.026*\"near\" + '\n",
      "  '0.022*\"view\" + 0.021*\"hotel\" + 0.016*\"convenient\" + 0.016*\"center\" + '\n",
      "  '0.015*\"clean\" + 0.014*\"friendly\"'),\n",
      " (2,\n",
      "  '0.054*\"enthusiastic\" + 0.052*\"clean\" + 0.051*\"staff\" + 0.038*\"convenient\" + '\n",
      "  '0.034*\"location\" + 0.031*\"hotel\" + 0.029*\"near\" + 0.025*\"room\" + '\n",
      "  '0.024*\"friendly\" + 0.019*\"center\"'),\n",
      " (3,\n",
      "  '0.078*\"clean\" + 0.069*\"room\" + 0.053*\"good\" + 0.025*\"comfortable\" + '\n",
      "  '0.022*\"quiet\" + 0.020*\"beautiful\" + 0.019*\"price\" + 0.012*\"cute\" + '\n",
      "  '0.012*\"new\" + 0.011*\"enthusiastic\"'),\n",
      " (4,\n",
      "  '0.022*\"room\" + 0.017*\"great\" + 0.017*\"hotel\" + 0.015*\"time\" + 0.013*\"like\" '\n",
      "  '+ 0.011*\"ok\" + 0.008*\"come\" + 0.008*\"next\" + 0.008*\"back\" + '\n",
      "  '0.007*\"breakfast\"')]\n"
     ]
    }
   ],
   "source": [
    "from pprint import pprint\n",
    "# number of topics\n",
    "num_topics = 5\n",
    "# Build LDA model\n",
    "lda_model = gensim.models.LdaMulticore(corpus=corpus,\n",
    "                                       id2word=id2word,\n",
    "                                       num_topics=num_topics)\n",
    "\n",
    "# Print the Keyword in the 10 topics\n",
    "pprint(lda_model.print_topics())\n",
    "doc_lda = lda_model[corpus]"
   ]
  },
  {
   "cell_type": "code",
   "execution_count": 58,
   "metadata": {},
   "outputs": [
    {
     "data": {
      "text/html": [
       "\n",
       "<link rel=\"stylesheet\" type=\"text/css\" href=\"https://cdn.jsdelivr.net/gh/bmabey/pyLDAvis@3.4.0/pyLDAvis/js/ldavis.v1.0.0.css\">\n",
       "\n",
       "\n",
       "<div id=\"ldavis_el1512817246147599682021342891\" style=\"background-color:white;\"></div>\n",
       "<script type=\"text/javascript\">\n",
       "\n",
       "var ldavis_el1512817246147599682021342891_data = {\"mdsDat\": {\"x\": [-0.14273673772302772, 0.06864932510631257, 0.032596376897991886, 0.08199363005298371, -0.04050259433426045], \"y\": [-0.049532963376119156, 0.06951439949651589, -0.03978220576668413, -0.07954165075628623, 0.09934242040257354], \"topics\": [1, 2, 3, 4, 5], \"cluster\": [1, 1, 1, 1, 1], \"Freq\": [25.51176779960482, 21.296452653217955, 19.479635242958224, 18.160310590755127, 15.551833713463875]}, \"tinfo\": {\"Term\": [\"clean\", \"enthusiastic\", \"staff\", \"friendly\", \"convenient\", \"good\", \"beautiful\", \"location\", \"near\", \"nice\", \"room\", \"center\", \"quiet\", \"view\", \"delicious\", \"market\", \"comfortable\", \"price\", \"hotel\", \"great\", \"service\", \"new\", \"travel\", \"breakfast\", \"owner\", \"night\", \"easy\", \"time\", \"located\", \"happy\", \"offers\", \"idea\", \"planted\", \"saturday\", \"department\", \"route\", \"sugar\", \"refund\", \"journey\", \"everyday\", \"desserts\", \"immense\", \"prepares\", \"carpet\", \"expecting\", \"qui\", \"neighbor\", \"asia\", \"tips\", \"someone\", \"done\", \"treated\", \"rare\", \"outdated\", \"control\", \"enjoyable\", \"poorly\", \"khiem\", \"wonderfull\", \"pressure\", \"head\", \"informed\", \"arrival\", \"cruise\", \"properly\", \"wedding\", \"stopped\", \"event\", \"charged\", \"second\", \"told\", \"cups\", \"improved\", \"nhon\", \"woke\", \"get\", \"cleaner\", \"first\", \"least\", \"went\", \"ask\", \"days\", \"never\", \"time\", \"feel\", \"stayed\", \"different\", \"great\", \"asked\", \"door\", \"ok\", \"stay\", \"another\", \"quy\", \"day\", \"made\", \"said\", \"really\", \"trees\", \"anything\", \"like\", \"much\", \"water\", \"next\", \"better\", \"experience\", \"every\", \"still\", \"free\", \"booked\", \"shower\", \"come\", \"back\", \"check\", \"work\", \"everything\", \"place\", \"many\", \"go\", \"hotel\", \"room\", \"people\", \"guests\", \"satisfied\", \"always\", \"breakfast\", \"extremely\", \"well\", \"comfortable\", \"family\", \"staff\", \"price\", \"clean\", \"owner\", \"keeps\", \"state\", \"treatment\", \"nostalgic\", \"communicate\", \"exercise\", \"boys\", \"chocolate\", \"islands\", \"reliable\", \"planet\", \"bmt\", \"collecting\", \"leaves\", \"uniform\", \"hk\", \"consult\", \"peony\", \"cockroaches\", \"confirmation\", \"vy\", \"overview\", \"letter\", \"colorful\", \"agencies\", \"worthwhile\", \"participate\", \"bm\", \"dung\", \"blooming\", \"cheerful\", \"lending\", \"solved\", \"museum\", \"utility\", \"centers\", \"hygienic\", \"convenient\", \"fully\", \"equipped\", \"fun\", \"moving\", \"travel\", \"bua\", \"support\", \"location\", \"transportation\", \"town\", \"near\", \"central\", \"enthusiastic\", \"center\", \"opportunity\", \"staff\", \"guom\", \"receptionist\", \"hotel\", \"furnished\", \"move\", \"accommodation\", \"clean\", \"reasonable\", \"return\", \"happy\", \"sea\", \"favorable\", \"new\", \"come\", \"back\", \"friendly\", \"rooms\", \"cute\", \"room\", \"comfortable\", \"close\", \"price\", \"owner\", \"spacious\", \"beautiful\", \"good\", \"three\", \"cards\", \"flat\", \"counselor\", \"rat\", \"push\", \"grapefruit\", \"responsibility\", \"tennis\", \"delivery\", \"dangerous\", \"awake\", \"aromatic\", \"height\", \"raining\", \"vk\", \"pole\", \"hao\", \"lakes\", \"insulation\", \"accessible\", \"nhien\", \"stove\", \"oysters\", \"tolet\", \"imagined\", \"incentives\", \"dare\", \"dress\", \"moldy\", \"soundproofing\", \"freedom\", \"genuine\", \"maps\", \"thien\", \"ants\", \"quiet\", \"showers\", \"good\", \"hit\", \"facilities\", \"term\", \"comfort\", \"smooth\", \"bed\", \"toilet\", \"tv\", \"range\", \"compared\", \"large\", \"price\", \"fragrant\", \"clean\", \"room\", \"quality\", \"smart\", \"full\", \"comfortable\", \"new\", \"equipment\", \"pleased\", \"beds\", \"apartment\", \"conditioner\", \"spacious\", \"cheap\", \"suitable\", \"amenities\", \"cool\", \"small\", \"cute\", \"air\", \"beautiful\", \"space\", \"quite\", \"service\", \"reasonable\", \"view\", \"rooms\", \"enthusiastic\", \"hotel\", \"staff\", \"friendly\", \"owner\", \"center\", \"near\", \"location\", \"parents\", \"naturally\", \"vew\", \"xom\", \"thankful\", \"baths\", \"finishing\", \"materials\", \"sharing\", \"multi\", \"viu\", \"flowing\", \"nien\", \"veiw\", \"eats\", \"master\", \"answers\", \"nutrition\", \"renovation\", \"cooler\", \"saltwater\", \"benefit\", \"stronger\", \"increase\", \"bugalow\", \"complementary\", \"concern\", \"de\", \"stood\", \"describe\", \"lemon\", \"employee\", \"assistant\", \"simply\", \"beauty\", \"chu\", \"diversified\", \"ginger\", \"scene\", \"ate\", \"scenery\", \"dish\", \"advertising\", \"friendly\", \"beautiful\", \"delicious\", \"awesome\", \"cycling\", \"swimming\", \"rich\", \"professional\", \"diverse\", \"staff\", \"pool\", \"decor\", \"host\", \"nature\", \"enthusiastic\", \"dedicated\", \"landscape\", \"breakfast\", \"owner\", \"taste\", \"worker\", \"service\", \"food\", \"pools\", \"happy\", \"polite\", \"space\", \"clean\", \"view\", \"resort\", \"room\", \"extremely\", \"wide\", \"cute\", \"thoughtful\", \"nice\", \"comfortable\", \"great\", \"cool\", \"like\", \"good\", \"hotel\", \"accommodation\", \"chay\", \"maintenance\", \"repair\", \"tuy\", \"father\", \"section\", \"cong\", \"plaza\", \"downtown\", \"liver\", \"korean\", \"ensuring\", \"hoping\", \"delayed\", \"cha\", \"salad\", \"history\", \"specially\", \"preparation\", \"kieu\", \"quieter\", \"wharf\", \"laughs\", \"bun\", \"marine\", \"aunts\", \"truong\", \"urgently\", \"legs\", \"toothbrush\", \"hoa\", \"dragon\", \"ta\", \"cai\", \"bridge\", \"han\", \"climbing\", \"market\", \"tien\", \"coc\", \"dl\", \"perfume\", \"tra\", \"ninh\", \"responded\", \"floating\", \"xuan\", \"muong\", \"nice\", \"road\", \"located\", \"easy\", \"night\", \"dance\", \"view\", \"easily\", \"noodle\", \"near\", \"thanh\", \"lake\", \"location\", \"walk\", \"right\", \"center\", \"eat\", \"restaurants\", \"street\", \"find\", \"station\", \"overlooking\", \"river\", \"many\", \"city\", \"convenient\", \"quite\", \"hotel\", \"sea\", \"room\", \"go\", \"area\", \"friendly\", \"breakfast\", \"beautiful\", \"clean\", \"staff\", \"good\", \"delicious\", \"owner\", \"enthusiastic\", \"close\"], \"Freq\": [27852.0, 17991.0, 20077.0, 14774.0, 8310.0, 11119.0, 12517.0, 9745.0, 8721.0, 5623.0, 25742.0, 5886.0, 4239.0, 5672.0, 5362.0, 1571.0, 8576.0, 5706.0, 12534.0, 5020.0, 5288.0, 3662.0, 2008.0, 5910.0, 6548.0, 1889.0, 1577.0, 4015.0, 1553.0, 2735.0, 31.370921319047635, 33.377858948919254, 26.146340291525274, 26.99638621075234, 41.6358206352822, 21.134202681049572, 20.422774322487584, 19.07736763524837, 20.51726565016863, 27.615881323191125, 21.13436576211833, 18.066697645516175, 17.272495536229865, 31.045327943610367, 16.56778045703542, 17.81956378525705, 18.11395880879712, 20.356276331980585, 20.24401860224714, 65.73801116215611, 59.410605863280196, 15.35307313807334, 15.179161329908178, 14.341502833019419, 26.315381232066603, 14.01534473883993, 16.753634920987736, 14.334449913740084, 51.93359493853407, 55.91827733919257, 56.61495966491772, 39.22241220208982, 44.67493743485523, 34.125430654760805, 69.24388215383762, 43.164785173736874, 55.89481522973057, 28.098027133524337, 52.669896529524905, 249.6546784666453, 163.4581660979472, 35.00310601125643, 95.6177569262679, 194.7333952196257, 40.96949025722964, 394.7510699201578, 104.64690607456116, 716.4273297347755, 53.504138410634354, 621.6227246684278, 330.47838933298334, 341.8665694863696, 98.32688659598924, 2710.7339777135608, 591.6864531189968, 220.209235109737, 151.63690731926184, 3197.809957877423, 275.95906722601126, 427.3779365041239, 2114.6206040732077, 1009.8788875109909, 237.63733424555366, 181.15726553671334, 932.4735067968481, 185.07513591472417, 221.49928453468686, 1069.906263280751, 446.6013829958773, 230.8666179951473, 2351.5239063849585, 674.4991600020885, 1101.0441916203113, 1495.5274743389073, 397.6743021209394, 499.5846485595699, 524.8760693686894, 944.7936157393061, 778.0126930821191, 285.06189127961426, 343.8695608239328, 1531.4131157920638, 1458.2096091155042, 903.7328539946702, 384.65089057003127, 1105.4673168004313, 1213.717090712593, 1343.1372780419556, 1182.7135519559072, 3162.710642122265, 4026.35572185293, 639.9735445779299, 907.834841551529, 792.7115321445538, 665.8497498396143, 1363.9383357506404, 1066.9684966481886, 697.4799080602221, 1330.0372264753967, 759.477626607136, 1174.5791005930218, 873.4382677294115, 1101.65800180756, 749.5338325675043, 29.9892002797782, 23.54803443002103, 29.235549355533635, 22.012261209385205, 30.753264980225634, 22.30779373724447, 17.588044445264288, 19.59985189766295, 19.34006778435317, 14.971706933517446, 13.567176995251684, 15.134200545167001, 14.02677150166055, 17.65520407608516, 12.682190531760583, 12.481528450179912, 12.889376974642078, 15.060806824681036, 11.935616384991825, 11.878529629964417, 10.803055218233458, 12.249451777076278, 11.981870832620654, 10.692750871571217, 10.07560074657183, 16.29454228258238, 10.808837024187062, 10.047014615871468, 12.545870871016774, 10.264248057617662, 112.05990951515042, 27.31908150938295, 20.131751043381858, 24.113542080788786, 85.45400741342067, 39.42793380671416, 30.706085713664354, 5894.108188180727, 1243.9956826590796, 1086.272246560085, 700.7563036827543, 296.28932226781586, 1394.536295378014, 23.868264798762475, 1260.2974097271883, 5225.071184732755, 141.05808192751866, 567.3622210002962, 4454.2148480628475, 860.5058988038585, 8276.27960208624, 2989.3848972658084, 908.9951770083727, 7852.007850499818, 44.89795202085746, 1590.2664683531636, 4813.754350756121, 112.60495414068289, 466.94735246176305, 1247.3488285896956, 8077.568406917148, 990.9289320357044, 621.0611955155592, 1126.547512523683, 1802.719311771924, 299.7658133921085, 1361.369615261096, 1311.9504597470993, 1239.9858477813927, 3733.3152589769843, 1176.9899363081652, 1723.0966410039343, 3900.6658126443376, 1945.0599532965077, 941.7793646157687, 1412.6341243206564, 1477.7560662600272, 1068.5611584436183, 1353.7785214501264, 1178.516522094005, 53.094783427130274, 26.9206346798554, 19.477007787658366, 16.630192480621968, 17.215938846752152, 15.460978180312383, 16.004728949763404, 15.60899187074492, 35.55393647942865, 15.733065560061318, 14.523184233826166, 17.515504280483892, 18.579805742647668, 12.698355770637184, 14.010509259143838, 13.294982832799736, 12.099832073386422, 11.683360646154554, 11.982054430445322, 14.454679997300437, 12.666069751851273, 10.685844820083892, 64.32602866726009, 11.516176842632929, 15.021236697402479, 10.35155954120508, 13.191777274963933, 10.759270222638827, 10.50293324984869, 17.140767058009104, 214.94056049174176, 25.99002798212451, 119.10019550587724, 22.463223200923114, 45.04246325117043, 38.9994813041269, 3063.938140182865, 24.0131908543237, 7427.326640126413, 21.707856117603978, 1121.675136678073, 31.317213878085404, 590.3652560708434, 339.03600914199984, 927.118206419216, 412.9782267491855, 215.1607554003442, 152.73707127949845, 522.9306188246587, 1320.2614707545888, 2756.2131126769027, 297.46071420791696, 11067.970805962099, 9815.437225375417, 634.2893735363056, 84.56488070657466, 1231.67465339487, 3571.1476032455503, 1660.277711953638, 305.3636252310571, 85.78449836735649, 290.42063527933936, 377.0628284637975, 244.52459361928913, 1372.9397724634666, 680.9832739035448, 868.1339624896756, 565.7546014943861, 972.923950548512, 727.5591486142476, 1734.9276224623216, 529.3372319247945, 2759.682223938671, 1145.0651609573258, 1245.7905746066563, 1439.8856109317576, 768.6566438132056, 1127.801274187606, 805.75088261953, 1567.9771698899763, 1297.725551784468, 1436.4938222820283, 1175.7926664263675, 927.0599839413263, 871.2075692494899, 886.4895207198264, 808.8320635704725, 71.12704733118304, 24.66179339543845, 21.57552950506716, 20.10388840500841, 21.506751850530456, 19.908101194922846, 19.214698712631883, 17.24425076232211, 19.751868235775223, 16.098831495226992, 15.001354536117223, 15.038380761169323, 14.021524322453875, 14.086223556481768, 15.556551234363017, 159.6485706046718, 12.92329615109795, 15.404354482009222, 13.697828596570858, 14.711424985206577, 12.081937476003636, 12.261525172964937, 21.085545321247334, 25.146046108046885, 10.672507878996694, 10.780287168566122, 14.371348419105397, 25.770912705259676, 13.463931036480252, 10.361305493943062, 25.899386309196316, 750.9145703856952, 18.113156764649887, 16.435612513351753, 90.80550016018924, 40.62474853616518, 48.142750216912056, 29.19898296464379, 164.30468196539653, 34.703787633440925, 494.5307237268997, 151.1410026925426, 38.77426428861276, 7824.311273652715, 6574.388409168105, 2937.9087779613615, 26.207202962427885, 33.69626522274952, 1191.5895891547261, 348.3536855056127, 546.5102362847921, 363.0632770724254, 8236.660981771613, 1441.1074594991628, 297.89877882844456, 536.5160548354222, 211.84496955491977, 6726.781209689497, 627.6781534341148, 202.3728566315611, 2478.178518950432, 2653.8317825471163, 215.95285523678638, 136.92462082113536, 2157.629119398985, 1270.8101492558342, 124.27964832753591, 1130.931888523969, 706.9355545955707, 1382.2421992578581, 5958.999266832421, 1662.0754729306464, 556.1145165121484, 4822.970786019945, 1186.3957364669006, 482.5059858346964, 1567.2860035301144, 772.6232879991404, 1275.6326440553546, 1463.895865787866, 980.0607465984738, 728.6030102214264, 829.817130734235, 1009.9991430759334, 909.8393523085101, 634.8455817247693, 27.243646592672643, 43.717402384170214, 20.5426807415484, 46.57408124940101, 19.811010172055383, 19.3042306188197, 17.328399822394527, 21.553456274920286, 27.421716397657043, 15.325047145306392, 18.89924209438744, 23.53424787842179, 20.049155202846567, 15.149447063089704, 13.94900240802198, 13.993590516672613, 12.96779371205585, 13.091003793605203, 12.438223037869948, 223.35724447479157, 11.927153101303265, 230.92346282666531, 11.50424635204031, 17.06806179379846, 10.76317588295135, 10.713155370129021, 51.64232701731226, 11.458108710076335, 10.191097385559877, 14.673802777320846, 134.48580706637824, 104.37395459236333, 30.38535249819937, 42.00464060718604, 257.72174593939974, 70.8621532584298, 29.453128280321675, 1334.6232240208512, 146.09774351890266, 72.22294256911711, 46.00022481452805, 33.54065255971898, 59.3099962565304, 303.20707874473453, 96.03544094978156, 77.31028884098836, 80.87686429274814, 51.50359202511131, 2944.416537212483, 452.5250909870263, 890.7524359788013, 901.5838545905647, 993.3359976681406, 55.931389219171336, 2445.995866670236, 115.13043691863187, 75.52325462947283, 2916.6554204369495, 113.52671759199065, 305.16697711803545, 2956.106834369829, 509.88870250967136, 926.7407826279741, 1850.0822276647386, 565.0379701293184, 448.22486162886025, 435.8772337075663, 394.69475937312427, 160.06558844919834, 278.26384498975733, 310.57185447948285, 1053.1201281138174, 624.0017122397326, 1861.7037472331522, 1122.7571214143525, 2350.2467360964, 1201.1474826274086, 3176.9510414447336, 794.2627895143423, 558.0732927693305, 1545.6823993492485, 914.2289403257658, 1197.0422808513147, 1646.6675656652183, 1377.359451394562, 1054.2582184309833, 783.6944399220199, 740.4371749881169, 905.5017583760033, 573.6285433817977], \"Total\": [27852.0, 17991.0, 20077.0, 14774.0, 8310.0, 11119.0, 12517.0, 9745.0, 8721.0, 5623.0, 25742.0, 5886.0, 4239.0, 5672.0, 5362.0, 1571.0, 8576.0, 5706.0, 12534.0, 5020.0, 5288.0, 3662.0, 2008.0, 5910.0, 6548.0, 1889.0, 1577.0, 4015.0, 1553.0, 2735.0, 32.15492673429487, 34.32479552485155, 26.92443093911756, 27.861360611098096, 43.18368066591394, 21.925451696778907, 21.20029431536855, 19.849945967594465, 21.38601167184796, 28.81794235055359, 22.076076027337294, 18.886733535051636, 18.057274459043267, 32.46227847431604, 17.34578911104746, 18.67297922309407, 18.983003878915312, 21.352851260855964, 21.235193762612084, 68.99840619009758, 62.40933373795224, 16.129579878888766, 15.95549126009526, 15.117048747444484, 27.744764491265528, 14.78900176654342, 17.69195376022488, 15.142269310297026, 54.93174579249226, 59.2091175099282, 60.124271218215505, 41.53970519767706, 47.484481866334114, 36.20316540903274, 74.16650153786998, 45.91818560226546, 60.31074792100488, 29.79718645820764, 56.957923908641845, 287.86271644810853, 185.4842528912783, 37.43546304942463, 106.82747832964358, 226.9896172575749, 44.261717959021716, 488.05430739170134, 119.30927336289314, 925.367156159974, 58.96934548970563, 811.6420279064967, 413.00919350031404, 430.0020245705229, 113.09914622539303, 4015.5214068444266, 788.1484765730853, 269.2439576824767, 180.86984502143122, 5020.539953986809, 353.65684196053564, 573.5358860359704, 3493.278168811937, 1545.8805049314751, 306.5953968321515, 226.2649310677084, 1457.224049313706, 232.20142512447023, 289.9991598159774, 1793.245335576617, 649.378735255928, 305.5496787528137, 4710.173853295601, 1108.023649396959, 2020.9492064785843, 2924.220596203585, 593.2943641978509, 790.4156636982115, 840.5354154287905, 1750.243414178698, 1375.3820573170358, 398.0182996904513, 504.741064928093, 3504.7128861301294, 3430.928982427549, 1825.8928905961147, 585.0086989276361, 2587.954426730923, 3001.138489393277, 3487.327209588885, 2933.17633845605, 12534.276633067766, 25742.380587337364, 1226.180071449912, 2252.0641230024976, 1806.2786135183885, 1389.7623636677108, 5910.40618718109, 3633.7916067453934, 1566.6772262963018, 8576.944559494854, 2013.4726370660912, 20077.101206541043, 5706.159882729362, 27852.864047184445, 6548.618840304091, 30.980522182527167, 24.45217638543937, 30.358083636726363, 22.863752448916937, 32.04729527390835, 23.384991794376184, 18.44294269126028, 20.57049042430264, 20.435210796052626, 15.865840412438223, 14.38128422681175, 16.050919938070802, 14.889958153282826, 18.796922175734814, 13.504442109017118, 13.303525063409431, 13.743171753137723, 16.067617339419055, 12.767627993770907, 12.764548660754317, 11.631193989205544, 13.208869885693659, 12.922212940373827, 11.538918281486442, 10.887608600406717, 17.631178829673285, 11.69833222211045, 10.874325424129989, 13.607224404411118, 11.139666498721981, 122.34191807464576, 29.988365865320283, 22.051400763049333, 26.651931096248397, 98.94387721453982, 44.74298287918003, 34.52408984483952, 8310.218175298516, 1655.8688454602611, 1454.4829040885077, 923.3061696161399, 380.2268109203718, 2008.6761516577535, 26.5880882639043, 2011.8930236793988, 9745.028427948153, 187.73162552957675, 877.0821435901024, 8721.518872516557, 1429.1378144690175, 17991.32809430593, 5886.130467796814, 1597.6247463455904, 20077.101206541043, 54.14914331884363, 3407.281089454566, 12534.276633067766, 157.99235353004244, 852.7803032836465, 2787.200282460545, 27852.864047184445, 2289.3932253099706, 1318.1081734209085, 2735.257974375238, 4910.232479248593, 544.2632974384379, 3662.8070479887065, 3504.7128861301294, 3430.928982427549, 14774.791278020928, 3237.1300532548594, 6113.7079665941, 25742.380587337364, 8576.944559494854, 2658.698839311981, 5706.159882729362, 6548.618840304091, 3503.9702789485123, 12517.366981471296, 11119.045400550116, 54.72623744763709, 27.79705734455232, 20.34687061040802, 17.460515366280354, 18.079336947743627, 16.338481104693273, 16.91401550181716, 16.512615973275985, 37.70323516124533, 16.68922823619846, 15.415315080976471, 18.623301930730978, 19.76115774289529, 13.522140407272598, 14.928473276519005, 14.229866172061032, 12.958990266448238, 12.542871828262207, 12.86550993003999, 15.553304588729315, 13.644063267200432, 11.51175893030604, 69.36159507019445, 12.460191113944745, 16.26724520588411, 11.218181868346408, 14.297089494379508, 11.662428121903924, 11.387659021837807, 18.62556828862541, 234.5385017795145, 28.38858181965346, 132.55761310598, 24.695767654930588, 50.79814371715741, 43.889923659366154, 4239.801883682841, 26.576033344522912, 11119.045400550116, 24.279913959378277, 1749.8263877676989, 36.082466529470246, 900.7583295554613, 491.4433510311634, 1506.947878765925, 618.6490244477254, 304.15652411480403, 209.08105464063007, 842.7382258000464, 2415.884412337377, 5706.159882729362, 454.65735655371316, 27852.864047184445, 25742.380587337364, 1117.7192282817944, 111.90597270507645, 2483.856683154865, 8576.944559494854, 3662.8070479887065, 520.0975422321928, 116.95376739429193, 509.283178275885, 703.6214310018798, 415.4836125927867, 3503.9702789485123, 1526.6558349989746, 2086.6015337963654, 1219.5432434233444, 2625.103714431578, 1800.446026790255, 6113.7079665941, 1182.8520258427782, 12517.366981471296, 3679.2620195038867, 4194.2587412321145, 5288.317449352945, 2289.3932253099706, 5672.347818008933, 3237.1300532548594, 17991.32809430593, 12534.276633067766, 20077.101206541043, 14774.791278020928, 6548.618840304091, 5886.130467796814, 8721.518872516557, 9745.028427948153, 71.94605053635155, 25.46526646806784, 22.367592937471777, 20.92102051481257, 22.38823255112923, 20.740471601435047, 20.050106891057663, 18.057479221594082, 20.742337353941043, 16.912066609555882, 15.842150847902504, 15.886127246327078, 14.82537849973547, 14.895090471017278, 16.473663176624843, 169.31649757153258, 13.738349910296566, 16.388993337804518, 14.585214367851417, 15.672313581672968, 12.881312632252264, 13.079970752634946, 22.529735218825234, 26.90875599733392, 11.45746849393297, 11.591419116188616, 15.455205013518135, 27.76634872124139, 14.524926945078576, 11.19141547752563, 28.04491842282852, 870.7312296432776, 19.606251302999503, 17.782403659683187, 105.68073879626058, 45.72831181024435, 54.72396822630872, 32.37478080415812, 205.98153450651617, 39.39786328525398, 699.6185054767925, 194.11968900821628, 44.60730672279853, 14774.791278020928, 12517.366981471296, 5362.716535105067, 29.2956305582705, 38.81993061427872, 2086.934431645496, 532.3772499711865, 886.6681224803092, 573.6466386542188, 20077.101206541043, 2923.1675801882866, 478.0290929814181, 947.9682341925509, 322.2685915423484, 17991.32809430593, 1171.2247414873902, 309.8816891879755, 5910.40618718109, 6548.618840304091, 338.92448426780567, 197.94553290020647, 5288.317449352945, 2864.3952216229964, 176.9360463282176, 2735.257974375238, 1533.7214480131654, 3679.2620195038867, 27852.864047184445, 5672.347818008933, 1250.5245784472904, 25742.380587337364, 3633.7916067453934, 1039.0376475232447, 6113.7079665941, 2112.6521693352156, 5623.514728767808, 8576.944559494854, 5020.539953986809, 2625.103714431578, 4710.173853295601, 11119.045400550116, 12534.276633067766, 2787.200282460545, 28.050994566980382, 45.37774533118851, 21.35293589475792, 48.45739670542708, 20.63365228564555, 20.1247173636616, 18.13598311407795, 22.575664233926638, 28.752627768491003, 16.120650576525755, 19.937214771364324, 24.829399868624606, 21.20288774910993, 16.052421288240858, 14.780674943653686, 14.830599444645827, 13.765822153811952, 13.90237297558187, 13.245835301421295, 238.23268628643203, 12.734637432386343, 247.53167112507148, 12.33233729643601, 18.30949750159117, 11.556921488750682, 11.51848349551847, 55.53793430104913, 12.342120428885103, 11.003620698180082, 15.86429120625509, 145.5228142860941, 114.13830561390367, 32.880189480267, 45.66115068155096, 289.55238868629993, 77.79145865712118, 32.004534122731684, 1571.3146362008472, 173.81974850226692, 83.04469941148427, 51.75952484419802, 37.209737862606666, 68.27612778871837, 394.68216894271734, 116.94019759482738, 93.73809473819406, 98.66060066373352, 60.20608314974776, 5623.514728767808, 689.6464225114307, 1553.0965211127045, 1577.9905184068639, 1889.4038433067797, 67.29742477586521, 5672.347818008933, 160.5179921196824, 97.50829113718491, 8721.518872516557, 160.45232794944343, 551.8027621778741, 9745.028427948153, 1104.3702146346718, 2379.536529451725, 5886.130467796814, 1304.6451237117158, 973.3241069169189, 943.0520207842412, 842.840861243483, 253.98062585604393, 545.639891999184, 636.8145217598213, 3487.327209588885, 1707.6794589705667, 8310.218175298516, 4194.2587412321145, 12534.276633067766, 4910.232479248593, 25742.380587337364, 2933.17633845605, 1743.0296683478496, 14774.791278020928, 5910.40618718109, 12517.366981471296, 27852.864047184445, 20077.101206541043, 11119.045400550116, 5362.716535105067, 6548.618840304091, 17991.32809430593, 2658.698839311981], \"Category\": [\"Default\", \"Default\", \"Default\", \"Default\", \"Default\", \"Default\", \"Default\", \"Default\", \"Default\", \"Default\", \"Default\", \"Default\", \"Default\", \"Default\", \"Default\", \"Default\", \"Default\", \"Default\", \"Default\", \"Default\", \"Default\", \"Default\", \"Default\", \"Default\", \"Default\", \"Default\", \"Default\", \"Default\", \"Default\", \"Default\", \"Topic1\", \"Topic1\", \"Topic1\", \"Topic1\", \"Topic1\", \"Topic1\", \"Topic1\", \"Topic1\", \"Topic1\", \"Topic1\", \"Topic1\", \"Topic1\", \"Topic1\", \"Topic1\", \"Topic1\", \"Topic1\", \"Topic1\", \"Topic1\", \"Topic1\", \"Topic1\", \"Topic1\", \"Topic1\", \"Topic1\", \"Topic1\", \"Topic1\", \"Topic1\", \"Topic1\", \"Topic1\", \"Topic1\", \"Topic1\", \"Topic1\", \"Topic1\", \"Topic1\", \"Topic1\", \"Topic1\", \"Topic1\", \"Topic1\", \"Topic1\", \"Topic1\", \"Topic1\", \"Topic1\", \"Topic1\", \"Topic1\", \"Topic1\", \"Topic1\", \"Topic1\", \"Topic1\", \"Topic1\", \"Topic1\", \"Topic1\", \"Topic1\", \"Topic1\", \"Topic1\", \"Topic1\", \"Topic1\", \"Topic1\", \"Topic1\", \"Topic1\", \"Topic1\", \"Topic1\", \"Topic1\", \"Topic1\", \"Topic1\", \"Topic1\", \"Topic1\", \"Topic1\", \"Topic1\", \"Topic1\", \"Topic1\", \"Topic1\", \"Topic1\", \"Topic1\", \"Topic1\", \"Topic1\", \"Topic1\", \"Topic1\", \"Topic1\", \"Topic1\", \"Topic1\", \"Topic1\", \"Topic1\", \"Topic1\", \"Topic1\", \"Topic1\", \"Topic1\", \"Topic1\", \"Topic1\", \"Topic1\", \"Topic1\", \"Topic1\", \"Topic1\", \"Topic1\", \"Topic1\", \"Topic1\", \"Topic1\", \"Topic1\", \"Topic1\", \"Topic1\", \"Topic1\", \"Topic1\", \"Topic1\", \"Topic1\", \"Topic1\", \"Topic1\", \"Topic2\", \"Topic2\", \"Topic2\", \"Topic2\", \"Topic2\", \"Topic2\", \"Topic2\", \"Topic2\", \"Topic2\", \"Topic2\", \"Topic2\", \"Topic2\", \"Topic2\", \"Topic2\", \"Topic2\", \"Topic2\", \"Topic2\", \"Topic2\", \"Topic2\", \"Topic2\", \"Topic2\", \"Topic2\", \"Topic2\", \"Topic2\", \"Topic2\", \"Topic2\", \"Topic2\", \"Topic2\", \"Topic2\", \"Topic2\", \"Topic2\", \"Topic2\", \"Topic2\", \"Topic2\", \"Topic2\", \"Topic2\", \"Topic2\", \"Topic2\", \"Topic2\", \"Topic2\", \"Topic2\", \"Topic2\", \"Topic2\", \"Topic2\", \"Topic2\", \"Topic2\", \"Topic2\", \"Topic2\", \"Topic2\", \"Topic2\", \"Topic2\", \"Topic2\", \"Topic2\", \"Topic2\", \"Topic2\", \"Topic2\", \"Topic2\", \"Topic2\", \"Topic2\", \"Topic2\", \"Topic2\", \"Topic2\", \"Topic2\", \"Topic2\", \"Topic2\", \"Topic2\", \"Topic2\", \"Topic2\", \"Topic2\", \"Topic2\", \"Topic2\", \"Topic2\", \"Topic2\", \"Topic2\", \"Topic2\", \"Topic2\", \"Topic2\", \"Topic2\", \"Topic2\", \"Topic2\", \"Topic3\", \"Topic3\", \"Topic3\", \"Topic3\", \"Topic3\", \"Topic3\", \"Topic3\", \"Topic3\", \"Topic3\", \"Topic3\", \"Topic3\", \"Topic3\", \"Topic3\", \"Topic3\", \"Topic3\", \"Topic3\", \"Topic3\", \"Topic3\", \"Topic3\", \"Topic3\", \"Topic3\", \"Topic3\", \"Topic3\", \"Topic3\", \"Topic3\", \"Topic3\", \"Topic3\", \"Topic3\", \"Topic3\", \"Topic3\", \"Topic3\", \"Topic3\", \"Topic3\", \"Topic3\", \"Topic3\", \"Topic3\", \"Topic3\", \"Topic3\", \"Topic3\", \"Topic3\", \"Topic3\", \"Topic3\", \"Topic3\", \"Topic3\", \"Topic3\", \"Topic3\", \"Topic3\", \"Topic3\", \"Topic3\", \"Topic3\", \"Topic3\", \"Topic3\", \"Topic3\", \"Topic3\", \"Topic3\", \"Topic3\", \"Topic3\", \"Topic3\", \"Topic3\", \"Topic3\", \"Topic3\", \"Topic3\", \"Topic3\", \"Topic3\", \"Topic3\", \"Topic3\", \"Topic3\", \"Topic3\", \"Topic3\", \"Topic3\", \"Topic3\", \"Topic3\", \"Topic3\", \"Topic3\", \"Topic3\", \"Topic3\", \"Topic3\", \"Topic3\", \"Topic3\", \"Topic3\", \"Topic3\", \"Topic3\", \"Topic3\", \"Topic3\", \"Topic3\", \"Topic3\", \"Topic3\", \"Topic4\", \"Topic4\", \"Topic4\", \"Topic4\", \"Topic4\", \"Topic4\", \"Topic4\", \"Topic4\", \"Topic4\", \"Topic4\", \"Topic4\", \"Topic4\", \"Topic4\", \"Topic4\", \"Topic4\", \"Topic4\", \"Topic4\", \"Topic4\", \"Topic4\", \"Topic4\", \"Topic4\", \"Topic4\", \"Topic4\", \"Topic4\", \"Topic4\", \"Topic4\", \"Topic4\", \"Topic4\", \"Topic4\", \"Topic4\", \"Topic4\", \"Topic4\", \"Topic4\", \"Topic4\", \"Topic4\", \"Topic4\", \"Topic4\", \"Topic4\", \"Topic4\", \"Topic4\", \"Topic4\", \"Topic4\", \"Topic4\", \"Topic4\", \"Topic4\", \"Topic4\", \"Topic4\", \"Topic4\", \"Topic4\", \"Topic4\", \"Topic4\", \"Topic4\", \"Topic4\", \"Topic4\", \"Topic4\", \"Topic4\", \"Topic4\", \"Topic4\", \"Topic4\", \"Topic4\", \"Topic4\", \"Topic4\", \"Topic4\", \"Topic4\", \"Topic4\", \"Topic4\", \"Topic4\", \"Topic4\", \"Topic4\", \"Topic4\", \"Topic4\", \"Topic4\", \"Topic4\", \"Topic4\", \"Topic4\", \"Topic4\", \"Topic4\", \"Topic4\", \"Topic4\", \"Topic4\", \"Topic4\", \"Topic4\", \"Topic4\", \"Topic4\", \"Topic4\", \"Topic4\", \"Topic5\", \"Topic5\", \"Topic5\", \"Topic5\", \"Topic5\", \"Topic5\", \"Topic5\", \"Topic5\", \"Topic5\", \"Topic5\", \"Topic5\", \"Topic5\", \"Topic5\", \"Topic5\", \"Topic5\", \"Topic5\", \"Topic5\", \"Topic5\", \"Topic5\", \"Topic5\", \"Topic5\", \"Topic5\", \"Topic5\", \"Topic5\", \"Topic5\", \"Topic5\", \"Topic5\", \"Topic5\", \"Topic5\", \"Topic5\", \"Topic5\", \"Topic5\", \"Topic5\", \"Topic5\", \"Topic5\", \"Topic5\", \"Topic5\", \"Topic5\", \"Topic5\", \"Topic5\", \"Topic5\", \"Topic5\", \"Topic5\", \"Topic5\", \"Topic5\", \"Topic5\", \"Topic5\", \"Topic5\", \"Topic5\", \"Topic5\", \"Topic5\", \"Topic5\", \"Topic5\", \"Topic5\", \"Topic5\", \"Topic5\", \"Topic5\", \"Topic5\", \"Topic5\", \"Topic5\", \"Topic5\", \"Topic5\", \"Topic5\", \"Topic5\", \"Topic5\", \"Topic5\", \"Topic5\", \"Topic5\", \"Topic5\", \"Topic5\", \"Topic5\", \"Topic5\", \"Topic5\", \"Topic5\", \"Topic5\", \"Topic5\", \"Topic5\", \"Topic5\", \"Topic5\", \"Topic5\", \"Topic5\", \"Topic5\", \"Topic5\", \"Topic5\", \"Topic5\", \"Topic5\", \"Topic5\", \"Topic5\", \"Topic5\", \"Topic5\"], \"logprob\": [30.0, 29.0, 28.0, 27.0, 26.0, 25.0, 24.0, 23.0, 22.0, 21.0, 20.0, 19.0, 18.0, 17.0, 16.0, 15.0, 14.0, 13.0, 12.0, 11.0, 10.0, 9.0, 8.0, 7.0, 6.0, 5.0, 4.0, 3.0, 2.0, 1.0, -8.6835, -8.6215, -8.8657, -8.8337, -8.4004, -9.0785, -9.1127, -9.1809, -9.1081, -8.811, -9.0785, -9.2353, -9.2803, -8.6939, -9.3219, -9.2491, -9.2327, -9.116, -9.1215, -7.9437, -8.0449, -9.3981, -9.4095, -9.4662, -8.8592, -9.4892, -9.3108, -9.4667, -8.1794, -8.1055, -8.0931, -8.4601, -8.33, -8.5993, -7.8918, -8.3644, -8.1059, -8.7937, -8.1653, -6.6093, -7.0328, -8.574, -7.569, -6.8578, -8.4166, -6.1511, -7.4788, -5.5551, -8.1496, -5.6971, -6.3289, -6.295, -7.5411, -4.2244, -5.7464, -6.7348, -7.1079, -4.0592, -6.5091, -6.0717, -4.4728, -5.2118, -6.6586, -6.93, -5.2916, -6.9086, -6.729, -5.1541, -6.0277, -6.6876, -4.3666, -5.6154, -5.1254, -4.8192, -6.1438, -5.9156, -5.8662, -5.2784, -5.4726, -6.4767, -6.2891, -4.7954, -4.8444, -5.3229, -6.1771, -5.1214, -5.0279, -4.9266, -5.0538, -4.0702, -3.8288, -5.668, -5.3183, -5.4539, -5.6283, -4.9113, -5.1568, -5.5819, -4.9364, -5.4968, -5.0607, -5.357, -5.1248, -5.5099, -8.548, -8.7898, -8.5734, -8.8572, -8.5228, -8.8439, -9.0816, -8.9733, -8.9866, -9.2426, -9.3411, -9.2318, -9.3078, -9.0778, -9.4086, -9.4245, -9.3924, -9.2367, -9.4693, -9.4741, -9.569, -9.4433, -9.4654, -9.5792, -9.6387, -9.158, -9.5684, -9.6415, -9.4194, -9.6201, -7.2298, -8.6412, -8.9465, -8.766, -7.5008, -8.2743, -8.5243, -3.2671, -4.8227, -4.9583, -5.3966, -6.2575, -4.7085, -8.7762, -4.8097, -3.3876, -6.9996, -5.6078, -3.5472, -5.1913, -2.9276, -3.946, -5.1365, -2.9803, -8.1444, -4.5771, -3.4696, -7.2249, -5.8026, -4.82, -2.9519, -5.0501, -5.5174, -4.9219, -4.4517, -6.2458, -4.7325, -4.7695, -4.8259, -3.7237, -4.8781, -4.4969, -3.6799, -4.3757, -5.101, -4.6956, -4.6505, -4.9747, -4.7381, -4.8768, -7.8875, -8.5667, -8.8904, -9.0484, -9.0138, -9.1213, -9.0867, -9.1118, -8.2886, -9.1039, -9.1839, -8.9965, -8.9375, -9.3181, -9.2198, -9.2722, -9.3664, -9.4015, -9.3762, -9.1886, -9.3207, -9.4907, -7.6957, -9.4159, -9.1502, -9.5225, -9.28, -9.4839, -9.508, -9.0182, -6.4893, -8.6019, -7.0797, -8.7477, -8.052, -8.1961, -3.8322, -8.681, -2.9467, -8.7819, -4.837, -8.4155, -5.4789, -6.0335, -5.0275, -5.8362, -6.4882, -6.8309, -5.6002, -4.674, -3.938, -6.1643, -2.5478, -2.6679, -5.4071, -7.4221, -4.7435, -3.679, -4.4449, -6.1381, -7.4078, -6.1883, -5.9272, -6.3603, -4.6349, -5.3361, -5.0933, -5.5215, -4.9793, -5.2699, -4.4009, -5.588, -3.9368, -4.8164, -4.7321, -4.5873, -5.215, -4.8316, -5.1678, -4.5021, -4.6913, -4.5897, -4.7899, -5.0276, -5.0897, -5.0724, -5.164, -7.525, -8.5842, -8.7179, -8.7886, -8.7211, -8.7984, -8.8338, -8.942, -8.8062, -9.0107, -9.0814, -9.0789, -9.1489, -9.1443, -9.045, -6.7165, -9.2305, -9.0548, -9.1723, -9.1009, -9.2978, -9.283, -8.7409, -8.5648, -9.4218, -9.4118, -9.1243, -8.5402, -9.1895, -9.4514, -8.5353, -5.1682, -8.8929, -8.99, -7.2808, -8.0851, -7.9153, -8.4154, -6.6878, -8.2426, -5.5859, -6.7713, -8.1317, -2.8245, -2.9986, -3.804, -8.5235, -8.2721, -4.7064, -5.9363, -5.4859, -5.8949, -2.7731, -4.5163, -6.0927, -5.5044, -6.4336, -2.9756, -5.3475, -6.4794, -3.9742, -3.9057, -6.4144, -6.8701, -4.1127, -4.6421, -6.967, -4.7587, -5.2286, -4.558, -3.0968, -4.3737, -5.4685, -3.3083, -4.7108, -5.6105, -4.4324, -5.1397, -4.6383, -4.5006, -4.9019, -5.1984, -5.0683, -4.8718, -4.9762, -5.3361, -8.3296, -7.8567, -8.6119, -7.7934, -8.6482, -8.6741, -8.7821, -8.5639, -8.3231, -8.9049, -8.6953, -8.476, -8.6362, -8.9165, -8.999, -8.9958, -9.072, -9.0625, -9.1137, -6.2257, -9.1556, -6.1923, -9.1917, -8.7972, -9.2583, -9.263, -7.6901, -9.1957, -9.3129, -8.9484, -6.733, -6.9865, -8.2205, -7.8967, -6.0826, -7.3737, -8.2516, -4.438, -6.6502, -7.3547, -7.8058, -8.1217, -7.5517, -5.92, -7.0697, -7.2866, -7.2415, -7.6928, -3.6468, -5.5196, -4.8424, -4.8303, -4.7334, -7.6103, -3.8322, -6.8884, -7.31, -3.6562, -6.9024, -5.9136, -3.6428, -5.4002, -4.8028, -4.1114, -5.2975, -5.5291, -5.5571, -5.6563, -6.5588, -6.0059, -5.896, -4.6749, -5.1983, -4.1052, -4.6109, -3.8722, -4.5434, -3.5708, -4.957, -5.3099, -4.2912, -4.8163, -4.5468, -4.2279, -4.4065, -4.6738, -4.9704, -5.0272, -4.8259, -5.2824], \"loglift\": [30.0, 29.0, 28.0, 27.0, 26.0, 25.0, 24.0, 23.0, 22.0, 21.0, 20.0, 19.0, 18.0, 17.0, 16.0, 15.0, 14.0, 13.0, 12.0, 11.0, 10.0, 9.0, 8.0, 7.0, 6.0, 5.0, 4.0, 3.0, 2.0, 1.0, 1.3413, 1.3381, 1.3367, 1.3345, 1.3295, 1.3293, 1.3287, 1.3263, 1.3246, 1.3234, 1.3224, 1.3216, 1.3216, 1.3214, 1.3201, 1.3192, 1.3192, 1.3182, 1.3182, 1.3176, 1.3168, 1.3167, 1.3162, 1.3134, 1.3131, 1.3123, 1.3115, 1.3112, 1.3099, 1.3088, 1.3059, 1.3086, 1.305, 1.3069, 1.2974, 1.3042, 1.29, 1.3073, 1.2878, 1.2236, 1.2396, 1.2988, 1.2552, 1.2128, 1.2887, 1.1539, 1.2349, 1.1101, 1.2688, 1.0993, 1.1431, 1.1367, 1.2261, 0.9731, 1.0793, 1.165, 1.1897, 0.915, 1.118, 1.0719, 0.8641, 0.9403, 1.1112, 1.1437, 0.9196, 1.1392, 1.0966, 0.8496, 0.9917, 1.0858, 0.6714, 0.8697, 0.7587, 0.6955, 0.966, 0.9072, 0.8952, 0.7495, 0.7963, 1.0322, 0.9822, 0.5381, 0.5104, 0.6627, 0.9467, 0.5154, 0.4607, 0.4119, 0.4578, -0.011, -0.4892, 0.7158, 0.4575, 0.5425, 0.6302, -0.1003, 0.1406, 0.5568, -0.4978, 0.391, -1.4726, -0.5108, -1.8641, -0.8015, 1.5141, 1.509, 1.509, 1.5087, 1.5054, 1.4995, 1.4992, 1.4983, 1.4915, 1.4886, 1.4884, 1.4878, 1.4869, 1.484, 1.4838, 1.4829, 1.4825, 1.4819, 1.4792, 1.4747, 1.4728, 1.4712, 1.4711, 1.4705, 1.4691, 1.4678, 1.4675, 1.4675, 1.4654, 1.4648, 1.4588, 1.4534, 1.4556, 1.4465, 1.4001, 1.4202, 1.4294, 1.2031, 1.2606, 1.2547, 1.2708, 1.2972, 1.1817, 1.4387, 1.0789, 0.9233, 1.2608, 1.111, 0.8747, 1.0393, 0.7701, 0.8691, 0.9827, 0.6078, 1.3593, 0.7846, 0.5896, 1.208, 0.9443, 0.7426, 0.3088, 0.7092, 0.7941, 0.6596, 0.5446, 0.9502, 0.5569, 0.564, 0.5289, 0.171, 0.5349, 0.2802, -0.3404, 0.0628, 0.5088, 0.1505, 0.0579, 0.359, -0.6776, -0.6978, 1.6055, 1.6038, 1.5921, 1.5871, 1.5869, 1.5806, 1.5805, 1.5795, 1.5771, 1.5768, 1.5762, 1.5745, 1.5742, 1.5729, 1.5723, 1.5678, 1.5672, 1.5648, 1.5647, 1.5625, 1.5614, 1.5614, 1.5604, 1.557, 1.5561, 1.5554, 1.5553, 1.5552, 1.5549, 1.5527, 1.5485, 1.5475, 1.5287, 1.541, 1.5155, 1.5177, 1.311, 1.5344, 1.2323, 1.5238, 1.1911, 1.4942, 1.2133, 1.2646, 1.15, 1.2317, 1.2896, 1.3218, 1.1586, 1.0316, 0.9081, 1.2115, 0.7129, 0.6716, 1.0693, 1.3557, 0.9344, 0.7596, 0.8446, 1.1033, 1.3259, 1.0741, 1.012, 1.1057, 0.6989, 0.8285, 0.7589, 0.8677, 0.6432, 0.7297, 0.3762, 0.8317, 0.1238, 0.4685, 0.4219, 0.3349, 0.5444, 0.0205, 0.2451, -0.8043, -0.6321, -1.0016, -0.8952, -0.3192, -0.2747, -0.6505, -0.8531, 1.6945, 1.6739, 1.6699, 1.6661, 1.6658, 1.665, 1.6634, 1.6599, 1.657, 1.6567, 1.6514, 1.6511, 1.6502, 1.6501, 1.6487, 1.6471, 1.6448, 1.644, 1.6432, 1.6427, 1.6419, 1.6413, 1.6397, 1.6382, 1.635, 1.6334, 1.6332, 1.6314, 1.6301, 1.6289, 1.6263, 1.5579, 1.6267, 1.6272, 1.5542, 1.5876, 1.5778, 1.6027, 1.4799, 1.5791, 1.359, 1.4557, 1.5658, 1.0702, 1.062, 1.1042, 1.5945, 1.5644, 1.1455, 1.2818, 1.222, 1.2485, 0.8149, 0.9987, 1.233, 1.1367, 1.2864, 0.7221, 1.0822, 1.2799, 0.8367, 0.8027, 1.2552, 1.3374, 0.8094, 0.8932, 1.3527, 0.8227, 0.9314, 0.7269, 0.1639, 0.4784, 0.8956, 0.0312, 0.5866, 0.9389, 0.3447, 0.7, 0.2224, -0.062, 0.0723, 0.4242, -0.0303, -0.6928, -0.917, 0.2265, 1.8318, 1.8237, 1.8223, 1.8214, 1.8203, 1.8194, 1.8154, 1.8147, 1.8136, 1.8104, 1.8075, 1.8074, 1.805, 1.8031, 1.8031, 1.8029, 1.8013, 1.8009, 1.7981, 1.7965, 1.7955, 1.7915, 1.7915, 1.7908, 1.7898, 1.7885, 1.7883, 1.7867, 1.7843, 1.783, 1.7821, 1.7716, 1.7821, 1.7775, 1.7445, 1.7677, 1.7779, 1.6977, 1.6872, 1.7214, 1.743, 1.7572, 1.7202, 1.5973, 1.664, 1.6683, 1.6622, 1.7049, 1.2139, 1.4397, 1.3051, 1.3012, 1.218, 1.676, 1.0198, 1.5287, 1.6055, 0.7656, 1.515, 1.2687, 0.6681, 1.0882, 0.918, 0.7036, 1.0242, 1.0856, 1.0892, 1.1023, 1.3993, 1.1876, 1.1429, 0.6636, 0.8543, 0.365, 0.5431, 0.187, 0.4529, -0.2312, 0.5546, 0.7221, -0.3965, -0.0054, -0.4863, -0.9672, -0.8184, -0.4948, -0.0622, -0.3188, -1.1282, 0.3274]}, \"token.table\": {\"Topic\": [3, 1, 2, 3, 4, 5, 1, 2, 3, 4, 2, 1, 2, 3, 4, 5, 1, 2, 3, 4, 5, 1, 2, 3, 4, 5, 1, 2, 3, 4, 5, 4, 3, 5, 1, 2, 3, 4, 5, 1, 2, 3, 4, 5, 1, 2, 3, 4, 5, 2, 3, 1, 2, 5, 1, 1, 2, 3, 4, 5, 1, 2, 3, 4, 5, 3, 4, 1, 2, 3, 4, 5, 3, 3, 4, 1, 2, 3, 4, 5, 4, 1, 2, 3, 4, 5, 1, 2, 3, 4, 1, 2, 3, 4, 5, 1, 2, 3, 4, 5, 4, 1, 2, 3, 4, 5, 2, 2, 2, 1, 2, 3, 4, 5, 2, 1, 2, 3, 4, 5, 1, 2, 3, 4, 5, 2, 4, 4, 2, 5, 2, 3, 4, 5, 3, 1, 5, 1, 2, 3, 4, 5, 1, 2, 3, 4, 5, 1, 2, 3, 4, 5, 5, 1, 2, 3, 4, 5, 5, 1, 2, 3, 4, 5, 1, 2, 3, 4, 5, 1, 2, 3, 4, 5, 2, 3, 4, 5, 1, 2, 3, 4, 5, 1, 2, 3, 4, 5, 1, 2, 3, 5, 1, 5, 1, 2, 3, 4, 5, 1, 2, 3, 5, 2, 2, 2, 1, 2, 3, 4, 5, 1, 2, 3, 4, 5, 1, 2, 3, 4, 5, 1, 2, 1, 2, 3, 4, 5, 4, 4, 1, 2, 3, 4, 5, 2, 5, 2, 1, 5, 1, 2, 3, 4, 5, 1, 2, 3, 4, 5, 4, 3, 1, 2, 1, 3, 1, 2, 3, 4, 5, 3, 4, 2, 3, 4, 5, 3, 3, 1, 2, 3, 4, 5, 1, 2, 3, 4, 5, 1, 4, 1, 2, 3, 4, 5, 1, 2, 3, 4, 5, 5, 1, 2, 3, 4, 5, 3, 1, 3, 4, 1, 1, 2, 3, 4, 5, 1, 2, 3, 4, 5, 1, 2, 3, 4, 5, 2, 3, 4, 5, 3, 5, 1, 2, 3, 1, 2, 3, 4, 5, 2, 5, 1, 2, 3, 4, 5, 3, 2, 1, 2, 3, 4, 5, 1, 2, 3, 4, 5, 1, 2, 3, 4, 5, 4, 1, 2, 3, 4, 5, 1, 3, 5, 1, 2, 3, 4, 5, 1, 2, 3, 4, 5, 1, 2, 3, 4, 5, 1, 3, 1, 2, 3, 4, 5, 1, 1, 2, 3, 4, 5, 2, 1, 1, 2, 3, 4, 5, 1, 2, 3, 4, 5, 1, 2, 3, 4, 5, 1, 2, 3, 4, 5, 5, 1, 2, 3, 4, 5, 1, 2, 3, 4, 5, 1, 2, 3, 4, 5, 4, 1, 2, 3, 4, 5, 3, 1, 2, 3, 4, 5, 4, 1, 2, 3, 4, 5, 1, 2, 3, 4, 5, 1, 2, 3, 4, 5, 1, 3, 1, 2, 3, 4, 5, 1, 2, 3, 4, 5, 1, 2, 3, 4, 5, 1, 2, 3, 4, 5, 1, 2, 3, 4, 5, 1, 2, 3, 4, 5, 1, 2, 3, 4, 5, 2, 3, 4, 1, 2, 3, 4, 5, 1, 2, 3, 4, 5, 3, 1, 2, 3, 4, 5, 1, 2, 3, 4, 5, 1, 2, 3, 4, 5, 1, 2, 3, 4, 5, 3, 1, 2, 3, 4, 5, 1, 3, 3, 5, 1, 2, 3, 2, 1, 2, 3, 4, 5, 5, 1, 2, 3, 4, 5, 1, 2, 3, 4, 5, 1, 2, 3, 4, 1, 3, 1, 1, 2, 3, 4, 5, 3, 3, 4, 1, 3, 5, 3, 2, 1, 2, 1, 1, 2, 3, 4, 5, 5, 1, 2, 3, 4, 5, 3, 1, 2, 3, 4, 5, 1, 2, 3, 4, 5, 5, 1, 2, 3, 4, 5, 2, 5, 2, 4, 5, 1, 2, 5, 2, 1, 2, 3, 4, 5, 5, 1, 2, 3, 4, 5, 1, 2, 3, 4, 5, 1, 2, 3, 4, 5, 3, 5, 1, 2, 3, 4, 5, 3, 4, 5, 1, 2, 3, 4, 5, 1, 2, 3, 4, 5, 4, 3, 1, 2, 3, 4, 5, 1, 2, 3, 4, 5, 1, 2, 3, 4, 5, 4, 1, 2, 3, 4, 5, 2, 3, 4, 1, 2, 3, 4, 5, 1, 2, 3, 4, 5, 1, 1, 2, 3, 4, 5, 1, 2, 3, 4, 5, 1, 2, 3, 4, 5, 3, 1, 2, 3, 4, 5, 1, 2, 3, 4, 5, 4, 1, 2, 3, 4, 5, 1, 2, 3, 4, 5, 1, 2, 3, 4, 5, 2, 4, 1, 1, 2, 3, 4, 5, 1, 2, 3, 4, 5, 1, 1, 2, 3, 4, 5, 2, 1, 2, 3, 4, 5, 3, 4, 2, 2, 1, 2, 3, 4, 5, 2, 5, 1, 2, 3, 4, 5, 2, 1, 5, 1, 2, 3, 4, 5, 3, 1, 2, 3, 4, 5, 1, 2, 3, 4, 5, 1, 2, 3, 4, 5, 1, 5, 1, 1, 2, 3, 4, 5, 1, 2, 3, 4, 5, 1, 2, 3, 4, 5, 1, 3, 4, 5, 3, 1, 2, 3, 4, 5, 1, 1, 2, 3, 4, 5, 5, 1, 2, 3, 4, 5, 1, 2, 3, 4, 5, 3, 1, 2, 3, 4, 5, 1, 3, 1, 2, 3, 4, 5, 1, 2, 3, 4, 5, 1, 2, 3, 4, 5, 1, 2, 4, 5, 1, 2, 3, 4, 5, 2, 3, 5, 3, 1, 2, 3, 4, 5, 1, 2, 3, 4, 5, 1, 2, 3, 4, 5, 1, 2, 3, 4, 5, 1, 2, 3, 4, 5, 1, 2, 3, 4, 5, 1, 2, 3, 4, 5, 1, 2, 3, 4, 5, 1, 1, 2, 3, 4, 5, 5, 4, 1, 2, 3, 4, 5, 1, 1, 2, 3, 4, 5, 1, 2, 3, 4, 5, 1, 2, 3, 4, 5, 1, 2, 3, 4, 5, 5, 1, 2, 3, 4, 5, 4, 1, 2, 3, 4, 5, 3, 4, 2, 4, 1, 2, 3, 4, 5, 1, 2, 3, 4, 5, 1, 2, 3, 4, 5, 1, 2, 1, 2, 3, 4, 5, 1, 2, 3, 4, 5, 1, 2, 3, 4, 5, 1, 2, 3, 4, 5, 5, 1, 2, 3, 4, 5, 2, 1, 2, 3, 4, 5, 1, 2, 3, 4, 5, 1, 2, 3, 4, 5, 1, 2, 3, 4, 5, 4, 1, 3, 5, 2, 3, 4, 5, 1, 2, 3, 4, 5, 1, 4, 1, 1, 2, 3, 4, 5, 1, 2, 3, 4, 5, 1, 2, 3, 4, 5, 1, 2, 5, 1, 2, 3, 4, 5, 2, 3, 5, 2, 3, 5, 1, 2, 3, 4, 5, 4, 1, 2, 3, 5, 1, 2, 3, 4, 5, 3, 5, 1, 2, 3, 4, 5, 1, 2, 3, 4, 5, 1, 1, 2, 3, 4, 5, 1, 2, 3, 4, 5, 3, 5, 2, 5, 1, 2, 3, 4, 5, 1, 2, 4, 5, 1, 2, 3, 4, 5, 1, 2, 3, 4, 5, 1, 1, 2, 1, 2, 3, 4, 5, 1, 2, 3, 5, 3, 5, 1, 2, 3, 4, 5, 2, 5, 1, 2, 3, 5, 4, 4, 1, 2, 3, 4, 5, 4, 3, 2, 1, 2, 3, 4, 5, 1, 2, 3, 4, 5, 1, 2, 1, 2, 3, 4, 5, 1, 2, 3, 4, 5, 1, 2, 3, 4, 5, 1, 2, 3, 4, 5, 1, 2, 4, 5, 1, 2, 3, 1, 2, 3, 4, 5, 1, 2, 3, 4, 5, 2, 3, 4, 1, 2, 3, 5], \"Freq\": [0.9527953473545726, 0.08790182806085022, 0.4474023656811438, 0.11875716362506702, 0.22782718701485669, 0.11803959768171315, 0.02241785199483711, 0.08967140797934844, 0.02241785199483711, 0.8742962277986474, 0.9184753389854996, 0.3356294712494902, 0.007608728567368796, 0.44722415690423256, 0.08961391423789916, 0.11920341422211114, 0.4792186185286848, 0.11656669099346387, 0.11656669099346387, 0.08994343440853693, 0.19787555569878126, 0.06805826726325269, 0.31159206698838576, 0.4641081839879641, 0.035259102317106814, 0.12053693117708608, 0.7762673623253885, 0.039139530873548996, 0.07501743417430225, 0.026093020582365997, 0.08154068931989375, 0.9462562887743025, 0.8885866446859805, 0.09113709176266466, 0.756014540558154, 0.10800207722259343, 0.04581906306413055, 0.05563743372072995, 0.03600069240753114, 0.18760088050764237, 0.1677038174234985, 0.5357994844801605, 0.011369750333796507, 0.09522165904554576, 0.2128477826494236, 0.21342149634928728, 0.19104666205460394, 0.061961079585276954, 0.3201322445239309, 0.05060432253062344, 0.9614821280818454, 0.9476780251424501, 0.021059511669832227, 0.021059511669832227, 0.9366430625901464, 0.7990136907200568, 0.04600381855660933, 0.041161311340124136, 0.04358256494836673, 0.07021635463903529, 0.7804175326284192, 0.05655199511800139, 0.031103597314900762, 0.05937959487390146, 0.0735175936534018, 0.051004140697054764, 0.9180745325469858, 0.050764174328930406, 0.050764174328930406, 0.025382087164465203, 0.8883730507562821, 0.9549868265453348, 0.966531073112097, 0.06826956654924693, 0.8875043651402101, 0.4249577905772897, 0.36141814836477315, 0.06907750093746068, 0.1023046532871253, 0.04197113981010269, 0.9642982273660637, 0.05048985149476815, 0.10816971348720898, 0.22049365526196218, 0.5251903223522244, 0.09562713961904665, 0.028387386709924783, 0.056774773419849565, 0.056774773419849565, 0.861084063534385, 0.22827597745564343, 0.0637049239411098, 0.6151506718063415, 0.06569570281426948, 0.027870904224235535, 0.23955238500713072, 0.06283341246088675, 0.5694278004267862, 0.0726511331579003, 0.05497923590327591, 0.917433244075306, 0.6708305758779728, 0.04887961482527942, 0.1382113246783763, 0.030339071270863088, 0.11292876528599038, 0.8976929427058942, 0.9195972724717368, 0.9345258750199016, 0.7160474787758543, 0.050248945879007315, 0.1381846011672701, 0.020099578351602927, 0.07537341881851098, 0.9759830793450233, 0.23077940107709355, 0.10354618288796279, 0.09170266523737881, 0.4192605248306729, 0.15464250189476797, 0.062164916275310504, 0.02417524521817631, 0.010360819379218417, 0.010360819379218417, 0.8910304666127838, 0.902659858873048, 0.07522165490608733, 0.9600724632867015, 0.05461646339082194, 0.928479877643973, 0.021900455531096426, 0.021900455531096426, 0.021900455531096426, 0.9198191323060498, 0.9713258373117495, 0.9549545335989591, 0.03080498495480513, 0.021915926041015003, 0.5078038987332856, 0.14797497350173694, 0.00781498137896659, 0.3142981641540911, 0.04469974667090529, 0.8716450600826531, 0.022349873335452644, 0.022349873335452644, 0.022349873335452644, 0.033586683883131276, 0.6024611421536672, 0.03428640646402984, 0.017493064522464203, 0.31277599366166, 0.9471827269979385, 0.9305114435878985, 0.01755681969033771, 0.01755681969033771, 0.03511363938067542, 0.01755681969033771, 0.9625327164614143, 0.12511005795889044, 0.25022011591778087, 0.4460730338743686, 0.12183492555158965, 0.056987303887033866, 0.4951002354277547, 0.15718337120328055, 0.0520293389000406, 0.07722249247269183, 0.2185232233801705, 0.032695253294618434, 0.9154670922493161, 0.016347626647309217, 0.016347626647309217, 0.016347626647309217, 0.9722665618303079, 0.08747316141034304, 0.8965999044560162, 0.02186829035258576, 0.12063153826549049, 0.3613090248048914, 0.11828917829917028, 0.034549809503223006, 0.3654081547459518, 0.03956505148386697, 0.2900240343799251, 0.39737385646410134, 0.21394568220722623, 0.05913215952262151, 0.8800657068845789, 0.02514473448241654, 0.016763156321611024, 0.0670526252864441, 0.06249114554613907, 0.9061216104190165, 0.1884380406656547, 0.3543086513114705, 0.10869978792889064, 0.13314783711704942, 0.21589508052312534, 0.024083415487965745, 0.024083415487965745, 0.0842919542078801, 0.8670029575667667, 0.939877008153322, 0.9402309835849596, 0.9532955977033734, 0.4368403489081571, 0.37435306189908696, 0.05421271475672753, 0.10585745881445217, 0.0285330077666987, 0.051068081738085885, 0.2719930440398053, 0.6550036570754494, 0.0055508784497919446, 0.015542459659417444, 0.1550668761788442, 0.22677073245703158, 0.4163487329583855, 0.17069015543295332, 0.03112996687199354, 0.03120388137136056, 0.9673203225121774, 0.16968495746617424, 0.07712952612098828, 0.6205960332504135, 0.07712952612098828, 0.05458397233177632, 0.9489778507480039, 0.9058436939370705, 0.2984473905629865, 0.012034168974313973, 0.5896742797413846, 0.016847836564039563, 0.0866460166150606, 0.9401037450619005, 0.9373630253770943, 0.9459242912417181, 0.937113739357391, 0.03604283612913042, 0.018892404108795894, 0.709247323676707, 0.04247782579875765, 0.005294686501828148, 0.22406150605463665, 0.1592318039481769, 0.061711847463169045, 0.3706520221090338, 0.2777033135842607, 0.13066150419670977, 0.9571018294032118, 0.9736253279688583, 0.9391443984485663, 0.027621894072016658, 0.9349423554288837, 0.05342527745307907, 0.10975336140790659, 0.2818256955377393, 0.28378849782819365, 0.25630926576183255, 0.0682073795932892, 0.10303985444344722, 0.8758387627693014, 0.014859409603421091, 0.029718819206842183, 0.1337346864307898, 0.8321269377915811, 0.9730582814042511, 0.9431998109673425, 0.6395722060989417, 0.060388791992174756, 0.08509329780715534, 0.12077758398434951, 0.09401436935145388, 0.7953450924831865, 0.048836979363002686, 0.03720912713371633, 0.0720926838215754, 0.04651140891714541, 0.03601481815414193, 0.9363852720076903, 0.1401588333926036, 0.04183845772913541, 0.16526190803008486, 0.6233930201641176, 0.029286920410394785, 0.0700121822015684, 0.3176162412071151, 0.029883248500669434, 0.5361908588120116, 0.04695939050105197, 0.9344384707239272, 0.12400431677617493, 0.09733872685287717, 0.08465858619005026, 0.5478566656968451, 0.14619456293612204, 0.9587022104051796, 0.9725896299791729, 0.023156895951885068, 0.8935420206748461, 0.9512560100805612, 0.8403833153170975, 0.06081721360847417, 0.027644188003851895, 0.011057675201540757, 0.06081721360847417, 0.06181753155133115, 0.06696899251394207, 0.020605843850443714, 0.7778706053542502, 0.072120453476553, 0.05926993676763167, 0.06449963707065799, 0.09936430575750015, 0.6327937366661851, 0.14468837505039495, 0.09136764313806166, 0.01827352862761233, 0.8771293741253919, 0.01827352862761233, 0.09660057767242959, 0.8887253145863523, 0.945371412675746, 0.01602324428263976, 0.03204648856527952, 0.7445044161948392, 0.027897120981539642, 0.036614971288270785, 0.03487140122692455, 0.15517773545981428, 0.03477942983339648, 0.9390446055017049, 0.05256780331308085, 0.017522601104360283, 0.008761300552180142, 0.008761300552180142, 0.9111752574267348, 0.9659579707212514, 0.9553748518901275, 0.10590713087991271, 0.024919324912920638, 0.11213696210814288, 0.03737898736938096, 0.7164305912464684, 0.050697389538669625, 0.2712310340318825, 0.09505760538500554, 0.012040630015434036, 0.5716130670485, 0.2176837170801052, 0.20925230550305887, 0.06898427653946997, 0.0705172604625693, 0.43306795827556144, 0.9712472464960348, 0.009187680110287822, 0.024117660289505533, 0.012633060151645755, 0.8624934703532693, 0.09072834108909224, 0.9466494237407999, 0.04027483569039616, 0.9665960565695079, 0.028624901802718622, 0.4599993928530084, 0.08715309908089865, 0.37390235811046246, 0.05035759423934577, 0.05960420398633672, 0.28071657361306973, 0.5864284585752484, 0.0499906226982179, 0.023072595091485182, 0.05706495398927653, 0.746657108823546, 0.0811284888040317, 0.07219060444426549, 0.042626833100423436, 0.9396860350983707, 0.03356021553922752, 0.6246018791869425, 0.034501818088421586, 0.1510941688699842, 0.10826432572573672, 0.08090081482802304, 0.9716169065575955, 0.42697815254645904, 0.15301660489447763, 0.21406868462510253, 0.17581453340148315, 0.029753228729481763, 0.9407743305383901, 0.9800649535841971, 0.6325785570349033, 0.10627319758186375, 0.07084879838790917, 0.13663696831953911, 0.053136598790931876, 0.29363268879242604, 0.20144248190820607, 0.11723291979903797, 0.32638085183488036, 0.06109321172625922, 0.07943645207986952, 0.17658894742935025, 0.6412064693065727, 0.0434328802738855, 0.060005953009973384, 0.37696067283336326, 0.17134576037880148, 0.10678069125055745, 0.2229978156813967, 0.12217697696575411, 0.9692903477836364, 0.02572284419304161, 0.5512038041366059, 0.02572284419304161, 0.17638521732371387, 0.22048152165464235, 0.7511275065506057, 0.06470861965216367, 0.07105260197100324, 0.062171026724627834, 0.0507518585507166, 0.16135904920337246, 0.19339356632463023, 0.16610490359170696, 0.01067817237375259, 0.46865312084803035, 0.9476258706867039, 0.7737469341047378, 0.05943586784324103, 0.04970999855980159, 0.031338912135527086, 0.08537151926574621, 0.9338045325889548, 0.12801625671521719, 0.02133604278586953, 0.010668021392934764, 0.010668021392934764, 0.8214376472559769, 0.944220058634369, 0.1731604620255445, 0.058651124234458625, 0.1846812185715989, 0.4437236839404578, 0.13999464772629708, 0.11437184343426922, 0.06598375582746302, 0.6532391826918839, 0.10997292637910502, 0.05718592171713461, 0.5656610073259558, 0.1032440398975395, 0.11705838326411168, 0.1090606055255699, 0.10542525200805089, 0.0704508598811159, 0.9158611784545067, 0.03357069420925443, 0.25266008363537656, 0.07959503304452259, 0.5295506280104972, 0.10463768799900675, 0.12480591255621648, 0.2447806284973536, 0.4960028524814797, 0.03422097602347871, 0.10024732976289646, 0.06099516895731334, 0.7512672295336416, 0.07971645843926099, 0.07126168254418787, 0.03683866639996152, 0.06498386123093353, 0.7592281120480733, 0.05740241075399127, 0.07256531170787577, 0.04657176721550236, 0.09494130358117446, 0.715224486978181, 0.12025898453615433, 0.05696478214870468, 0.012658840477489929, 0.05280722725750568, 0.022631668824645294, 0.8977228633775965, 0.022631668824645294, 0.007543889608215097, 0.8093361620164576, 0.022538475397926666, 0.04917485541365818, 0.018440570780121818, 0.09834971082731636, 0.06177648003544555, 0.030888240017722775, 0.8957589605139605, 0.4033170404690709, 0.22467111552757205, 0.06375341214515322, 0.03750200714420778, 0.27069630611364526, 0.04038116437385764, 0.10603428239816962, 0.6679530240637878, 0.09083513589665082, 0.09479231013373264, 0.9459610580515926, 0.6369832785536282, 0.09301788339103953, 0.04362080612984509, 0.19519812788697802, 0.03127153681454648, 0.4031856778524743, 0.2939525536765837, 0.12299827397041341, 0.09902027110253499, 0.08125878749669911, 0.09233756424471494, 0.8310380782024345, 0.018467512848942987, 0.018467512848942987, 0.05540253854682896, 0.012854881721753884, 0.03856464516526165, 0.012854881721753884, 0.02570976344350777, 0.9126966022445258, 0.9567186976240176, 0.06324814756806076, 0.4120269497641877, 0.05191466447783021, 0.41348933467905613, 0.059592185280889616, 0.9480364392796339, 0.049896654698928095, 0.9613862604923273, 0.9443678593799147, 0.04118630740096768, 0.04118630740096768, 0.906098762821289, 0.9020165664967474, 0.020615324234329865, 0.020615324234329865, 0.027487098979106485, 0.006871774744776621, 0.9208178158000673, 0.943267739595498, 0.07278724909888146, 0.07806168743938012, 0.1951542185984503, 0.5664746777695557, 0.0875556764522777, 0.2523480287370884, 0.38406683855211615, 0.10355603582065782, 0.07260091879568462, 0.18748588919764708, 0.05793056410722293, 0.8979237436619554, 0.028965282053611464, 0.028965282053611464, 0.961404124785175, 0.8914100446362284, 0.9530499261078704, 0.898645194111644, 0.018721774877325917, 0.009360887438662958, 0.018721774877325917, 0.05616532463197775, 0.9092759757229315, 0.037162624689862235, 0.9290656172465559, 0.9388607794496557, 0.024073353319221943, 0.024073353319221943, 0.9001302533575459, 0.9297677518291194, 0.9819502730209346, 0.968350366183299, 0.9245641926656092, 0.0041975768127706856, 0.03777819131493617, 0.016790307251082742, 0.0041975768127706856, 0.9360596292478629, 0.9529916900574077, 0.08879984544949561, 0.19390986659379653, 0.11054674637590269, 0.05436725231601772, 0.5527337318795135, 0.9327263408332468, 0.08390298913153366, 0.016135190217602628, 0.09035706521857471, 0.6518616847911461, 0.15812486413250573, 0.10141213658602218, 0.03063060451985976, 0.5463837563002011, 0.13783772033936892, 0.18336970003105235, 0.9730515563718765, 0.9157300212773578, 0.01695796335698811, 0.01695796335698811, 0.03391592671397622, 0.01695796335698811, 0.9576035816776658, 0.9087917762972261, 0.035657083572972766, 0.9270841728972918, 0.035657083572972766, 0.03334626516466638, 0.9003491594459921, 0.03334626516466638, 0.9286335131119463, 0.4993446257518413, 0.07006110820497774, 0.15604519554745042, 0.17621430245494402, 0.09872247065246863, 0.9304835390354779, 0.03026212431815068, 0.20475224538663653, 0.1738462460829933, 0.01738462460829933, 0.5736926120738778, 0.033350338832046876, 0.5361708319921382, 0.08301668958500284, 0.0441250636854774, 0.3033341587308633, 0.7967220696463504, 0.021533028909360822, 0.10766514454680412, 0.04737266360059381, 0.03014624047310515, 0.022037234170660558, 0.9696383035090645, 0.38510868619016797, 0.1731985453900681, 0.04960819263655924, 0.09004030339814798, 0.30195044419824785, 0.8908409047008357, 0.04049276839549253, 0.9518105674341752, 0.03436612805348913, 0.08082404190357628, 0.02291075203565942, 0.012728195575366344, 0.8496070546557035, 0.011812198035546081, 0.023624396071092162, 0.005906099017773041, 0.9449758428436865, 0.01771829705331912, 0.9414381593013551, 0.9127238286942289, 0.012898984600892274, 0.547620528056063, 0.046905398548699184, 0.004690539854869918, 0.3881421729904857, 0.034190119230499236, 0.7784827147867518, 0.028930100887345506, 0.0026300091715768643, 0.155170541123035, 0.6082902656155615, 0.10108087499843159, 0.03249028124949587, 0.08122570312373967, 0.1768915312472553, 0.9460700675669919, 0.08304808647929703, 0.03321923459171881, 0.016609617295859407, 0.016609617295859407, 0.8637000993846892, 0.900497600467619, 0.07504146670563491, 0.981729369741673, 0.20790111651695264, 0.027927015651530954, 0.10239905738894683, 0.6578363686805069, 0.0031030017390589948, 0.04196516746106544, 0.5106908630371189, 0.10158780975547536, 0.011236574893946485, 0.3344600914861418, 0.9482166318257381, 0.866496373055706, 0.0353671989002329, 0.0353671989002329, 0.01768359945011645, 0.0353671989002329, 0.0682536635767582, 0.3715729445118716, 0.45320432614967443, 0.057879106713090954, 0.04886962312095887, 0.5115893109918607, 0.23048876711799068, 0.08686075199995495, 0.0766016080629524, 0.09472609568499024, 0.9555446797136469, 0.8590701299730599, 0.08810975692031384, 0.004405487846015692, 0.030838414922109845, 0.02202743923007846, 0.02525111195558551, 0.11291870487180844, 0.11131828228307414, 0.2269043581361064, 0.5235160112481954, 0.9443266490801434, 0.2985068554814113, 0.08891693567531402, 0.06245356196242294, 0.02381703634160197, 0.5255626019380167, 0.03800526393219716, 0.13681895015590975, 0.04053894819434364, 0.015202105572878863, 0.7677063314303826, 0.10255538153089924, 0.02051107630617985, 0.010255538153089924, 0.09229984337780932, 0.7794208996348343, 0.962221754681487, 0.9152484042689477, 0.9640824330330978, 0.6054484921592462, 0.09160449999572519, 0.11879958593195611, 0.07614624062144656, 0.10792155155746375, 0.2397308885431794, 0.5689696545319846, 0.08137079767784157, 0.08700416059399983, 0.02253345166463305, 0.9261066914510466, 0.05681402781313937, 0.01832710574617399, 0.27124116504337503, 0.14478413539477453, 0.5094935397436369, 0.9084804456282086, 0.11452796662771919, 0.2256964462343586, 0.1415565667518609, 0.4052762979066223, 0.11300092707268293, 0.9630670902447295, 0.9868505563641252, 0.9403049760554273, 0.9335547196036438, 0.521946176505074, 0.08236963097970698, 0.17697237547125164, 0.12722438052311177, 0.09134058088838795, 0.08062405629078087, 0.9137393046288499, 0.404513155354396, 0.15027630400727562, 0.21925012868467264, 0.14161292506228856, 0.08396813438987463, 0.9734874701870572, 0.9656657204303439, 0.9745006734702614, 0.03420154894638499, 0.11115503407575121, 0.7353333023472772, 0.10260464683915496, 0.017100774473192495, 0.9259980718612674, 0.17343436146412727, 0.1779984236079201, 0.08606517185437894, 0.4609702765230751, 0.10171338491881148, 0.15873191914988086, 0.04139345305417152, 0.15565306726981853, 0.4929583954633154, 0.15120583677639512, 0.11303519217842056, 0.016955278826763086, 0.07347287491597336, 0.7008181915062075, 0.09607991335165747, 0.9608887876600416, 0.9059451312000222, 0.9414488348481753, 0.9458002813605507, 0.016889290738581263, 0.016889290738581263, 0.016889290738581263, 0.016889290738581263, 0.15299255855803814, 0.24762713086197927, 0.48298681716604025, 0.06852244031637218, 0.047843033775881345, 0.05864652024992, 0.26390934112464, 0.019172900850935384, 0.6169162803212739, 0.04172925479321231, 0.9303391500105755, 0.013483176087109791, 0.026966352174219582, 0.013483176087109791, 0.9180779965948738, 0.2004081117440758, 0.07067964655259816, 0.5672265305613574, 0.118992316348045, 0.04204991630344447, 0.9639597294543254, 0.08726822859906957, 0.14363878707252262, 0.722675276831214, 0.024293587961362613, 0.02217084726570957, 0.9423118690039785, 0.11944899704800405, 0.20551903284506884, 0.29707275513335935, 0.11038899327989196, 0.2677469534628913, 0.7999472085483581, 0.12816833728122864, 0.004419597837283747, 0.03977638053555372, 0.026517587023702476, 0.9378052089238489, 0.10043951632105043, 0.07174251165789317, 0.7317736189105103, 0.004782834110526211, 0.09565668221052422, 0.9401152089572481, 0.9402999705761702, 0.5966835539856247, 0.08141663446906655, 0.10204961717698068, 0.16840975075108286, 0.0518612808604328, 0.10483127028887988, 0.4328657869011665, 0.3358968618839526, 0.06682993480916093, 0.05940438649703193, 0.15554924471606826, 0.4666477341482048, 0.1749195280203334, 0.07572019837121814, 0.12678730890064432, 0.9571814467917432, 0.9454273842462555, 0.9598761901545073, 0.9834713176446821, 0.368645293299552, 0.04877952904831382, 0.08956241399034669, 0.4446134123092211, 0.04797986463768573, 0.03420551771136166, 0.13682207084544665, 0.8209324250726798, 0.9689561015586142, 0.16746734088022888, 0.3297976467641317, 0.020548139985304158, 0.021575546984569365, 0.4602783356708131, 0.2799466746665625, 0.47112976956080027, 0.09255689514721036, 0.06600368752301067, 0.09028090592227896, 0.10143183241380545, 0.16905305402300908, 0.01878367266922323, 0.6536718088889684, 0.05822938527459201, 0.17734545983088315, 0.305101430893889, 0.11346747429938021, 0.014708746668438176, 0.3895716617612054, 0.06124232200645245, 0.05967200605756905, 0.07851579744416981, 0.31249287382779584, 0.4883682601027362, 0.08845112221109062, 0.11600147175225, 0.07685097503586562, 0.062350791066834374, 0.6568583337971157, 0.156395792003028, 0.1515399862403905, 0.381277868482295, 0.18735640954560456, 0.12341515926319423, 0.14179226427387004, 0.3635936711336493, 0.24898598040248202, 0.17453731876848927, 0.07105058994115492, 0.9577909860386198, 0.7620711733793929, 0.044827716081140764, 0.06206914534311798, 0.10000028971946785, 0.027586286819163544, 0.9439942095566682, 0.9315820788290138, 0.43902418711327285, 0.18712506335975562, 0.14560322977401105, 0.14338873198277133, 0.0852581649627289, 0.9690840435569041, 0.0339836287595894, 0.04854804108512772, 0.07282206162769157, 0.7961878737960946, 0.04854804108512772, 0.06146206777463004, 0.04573921322763166, 0.17009269919025524, 0.7075284546149272, 0.015722854546998382, 0.13400587503357742, 0.36719239009960497, 0.15213128974176646, 0.10223548520798763, 0.24459127038803416, 0.8684695367455346, 0.06947756293964277, 0.017369390734910693, 0.027791025175857107, 0.017369390734910693, 0.9441126380392076, 0.0760166165987609, 0.1571388268496774, 0.2722983281149644, 0.40806930005006475, 0.08641689996426302, 0.9642114897046548, 0.6815375722381679, 0.02971820809178058, 0.21595231213360552, 0.027736994218995205, 0.04556791907406355, 0.9030693064262801, 0.07525577553552334, 0.05623536722806663, 0.8997658756490661, 0.3693529215010842, 0.07886934564384053, 0.4043442509064501, 0.046099687946751865, 0.10164148065368182, 0.08936073525185814, 0.03574429410074326, 0.7595662496407942, 0.03574429410074326, 0.08936073525185814, 0.10784559377758102, 0.10784559377758102, 0.6898048356716975, 0.07528843339189618, 0.01831340271694772, 0.04534859307784478, 0.9069718615568955, 0.9565438340439826, 0.014493088394605795, 0.014493088394605795, 0.014493088394605795, 0.014493088394605795, 0.03410953826046292, 0.029845845977905055, 0.916693840749941, 0.00852738456511573, 0.00852738456511573, 0.19868114750320728, 0.08452782062037957, 0.31120371257342316, 0.3756188041715902, 0.029625506262448142, 0.1275695752003176, 0.3050824963962852, 0.39184122315444303, 0.117295515452641, 0.05850506245204721, 0.9350921618081461, 0.058524384965354934, 0.39109231553018464, 0.07152426962574442, 0.4102683906039392, 0.06858559838067553, 0.9815077243713722, 0.1889907934442463, 0.11024462950914368, 0.05512231475457184, 0.015749232787020524, 0.629969311480821, 0.6533493350734575, 0.11773225641917749, 0.08086006622196257, 0.10544152635343917, 0.042694114965196234, 0.8171028308068817, 0.02599872643476442, 0.014856415105579668, 0.09285259440987292, 0.04828334909313392, 0.5399248997851201, 0.10627093265611888, 0.10969902725792917, 0.08170292134314516, 0.1622631444856869, 0.8950131074087597, 0.9285243829731459, 0.033161585106183784, 0.033161585106183784, 0.014417200166576223, 0.9227008106608783, 0.028834400333152446, 0.014417200166576223, 0.14209184334133096, 0.29054600802630365, 0.0848309512485558, 0.019086964030925056, 0.46232868430462914, 0.04438578573104699, 0.9321015003519869, 0.9433831296154022, 0.15000468222149124, 0.2233296546811978, 0.41598742545768175, 0.19601250807856202, 0.014377445580334623, 0.12972856753719283, 0.6262758432829999, 0.11929063681580951, 0.08151526849080316, 0.04324285584573095, 0.07618830644076942, 0.03641705213521054, 0.1437515215863574, 0.5711727124364601, 0.1725018259036289, 0.03041345003805859, 0.03041345003805859, 0.9124035011417577, 0.16227803700526108, 0.07966376362076454, 0.05310917574717636, 0.6373101089661163, 0.06491121480210443, 0.026522922919566518, 0.9548252251043946, 0.026522922919566518, 0.08314287487940324, 0.8591430404205002, 0.027714291626467748, 0.1371123764993421, 0.09348571124955143, 0.037394284499820574, 0.031161903749850478, 0.710491405496591, 0.9826590799321651, 0.01968575870740417, 0.05905727612221252, 0.8858591418331877, 0.03937151741480834, 0.16046181426385608, 0.3479039335809269, 0.07478751225277068, 0.3658908036164034, 0.05112057799556477, 0.9684568585719275, 0.018272770916451464, 0.06903703464881897, 0.0402716035451444, 0.023012344882939656, 0.02876543110367457, 0.8399505882272974, 0.6751302571514425, 0.1504163317297939, 0.05902097784761781, 0.06300551643648653, 0.05254610264070615, 0.9418327058175077, 0.22468313131841885, 0.014547828646516327, 0.6675836923345826, 0.029095657293032654, 0.06465701620673923, 0.8787807992279676, 0.03234775948078408, 0.010782586493594695, 0.048521639221176124, 0.026956466233986738, 0.9220983522504642, 0.06147322348336428, 0.06303464724637131, 0.9455197086955697, 0.08551080482953108, 0.646461684511255, 0.21776751629920582, 0.013681728772724973, 0.03648461006059993, 0.10252485351339224, 0.01464640764477032, 0.01464640764477032, 0.8641380510414489, 0.042614024021965416, 0.7510721733871405, 0.03728727101921974, 0.005326753002745677, 0.17045609608786166, 0.021407134228438093, 0.6944872615970032, 0.08114797393570719, 0.007965445294302546, 0.19515340971041237, 0.929968425255315, 0.032940155642440745, 0.9552645136307817, 0.6883502272735061, 0.016939267337826774, 0.1062554042100043, 0.06929700274565498, 0.1201148047591353, 0.036011422195841726, 0.018005711097920863, 0.018005711097920863, 0.9362969770918849, 0.020636684345199316, 0.9699241642243679, 0.21699353710094435, 0.0065755617303316465, 0.706872886010652, 0.026302246921326586, 0.03945337038198988, 0.9626462089329633, 0.891256900577307, 0.020213479159133855, 0.8590728642631889, 0.0707471770569685, 0.030320218738700784, 0.9399070134713894, 0.9835658249638494, 0.04759933781613086, 0.029264778064732308, 0.19885945576516895, 0.29300036833485, 0.43121474184539293, 0.946841129339833, 0.9135714870969233, 0.9457326573874247, 0.1946810925819133, 0.25625464744503007, 0.06791200904020231, 0.019015362531256647, 0.4618016614733757, 0.5447935041962011, 0.009401522779044344, 0.18407191967392084, 0.19594752739481894, 0.0658106594533104, 0.9364481509016443, 0.04355572794891369, 0.4448906183743671, 0.09446744837791439, 0.13148847544493492, 0.024255155664599643, 0.3051043265178587, 0.7663476983866292, 0.0505148804402762, 0.035730037384585606, 0.06283558298668504, 0.08378077731558005, 0.012119661239163922, 0.03231909663777045, 0.012119661239163922, 0.008079774159442613, 0.9332139154156219, 0.17708694236306166, 0.13762735194520553, 0.15687593263684266, 0.46485322370303683, 0.06352031628240255, 0.9263083741566138, 0.022592887174551556, 0.022592887174551556, 0.022592887174551556, 0.9466292987743901, 0.03640881918363039, 0.018204409591815195, 0.6581098720510195, 0.08717819084312206, 0.06495629905958114, 0.06837505164166437, 0.12136571666395424, 0.005051894757858195, 0.19702389555646962, 0.04041515806286556, 0.6921095818265728, 0.07072652661001473, 0.9074832803052278, 0.05671770501907674, 0.9559763103257574, 0.06081454967469633, 0.08108606623292844, 0.030407274837348165, 0.8209964206084005], \"Term\": [\"accessible\", \"accommodation\", \"accommodation\", \"accommodation\", \"accommodation\", \"accommodation\", \"advertising\", \"advertising\", \"advertising\", \"advertising\", \"agencies\", \"air\", \"air\", \"air\", \"air\", \"air\", \"always\", \"always\", \"always\", \"always\", \"always\", \"amenities\", \"amenities\", \"amenities\", \"amenities\", \"amenities\", \"another\", \"another\", \"another\", \"another\", \"another\", \"answers\", \"ants\", \"ants\", \"anything\", \"anything\", \"anything\", \"anything\", \"anything\", \"apartment\", \"apartment\", \"apartment\", \"apartment\", \"apartment\", \"area\", \"area\", \"area\", \"area\", \"area\", \"aromatic\", \"aromatic\", \"arrival\", \"arrival\", \"arrival\", \"asia\", \"ask\", \"ask\", \"ask\", \"ask\", \"ask\", \"asked\", \"asked\", \"asked\", \"asked\", \"asked\", \"assistant\", \"assistant\", \"ate\", \"ate\", \"ate\", \"ate\", \"aunts\", \"awake\", \"awesome\", \"awesome\", \"back\", \"back\", \"back\", \"back\", \"back\", \"baths\", \"beautiful\", \"beautiful\", \"beautiful\", \"beautiful\", \"beautiful\", \"beauty\", \"beauty\", \"beauty\", \"beauty\", \"bed\", \"bed\", \"bed\", \"bed\", \"bed\", \"beds\", \"beds\", \"beds\", \"beds\", \"beds\", \"benefit\", \"better\", \"better\", \"better\", \"better\", \"better\", \"blooming\", \"bm\", \"bmt\", \"booked\", \"booked\", \"booked\", \"booked\", \"booked\", \"boys\", \"breakfast\", \"breakfast\", \"breakfast\", \"breakfast\", \"breakfast\", \"bridge\", \"bridge\", \"bridge\", \"bridge\", \"bridge\", \"bua\", \"bua\", \"bugalow\", \"bun\", \"bun\", \"cai\", \"cai\", \"cai\", \"cai\", \"cards\", \"carpet\", \"carpet\", \"center\", \"center\", \"center\", \"center\", \"center\", \"centers\", \"centers\", \"centers\", \"centers\", \"centers\", \"central\", \"central\", \"central\", \"central\", \"central\", \"cha\", \"charged\", \"charged\", \"charged\", \"charged\", \"charged\", \"chay\", \"cheap\", \"cheap\", \"cheap\", \"cheap\", \"cheap\", \"check\", \"check\", \"check\", \"check\", \"check\", \"cheerful\", \"cheerful\", \"cheerful\", \"cheerful\", \"cheerful\", \"chocolate\", \"chu\", \"chu\", \"chu\", \"city\", \"city\", \"city\", \"city\", \"city\", \"clean\", \"clean\", \"clean\", \"clean\", \"clean\", \"cleaner\", \"cleaner\", \"cleaner\", \"cleaner\", \"climbing\", \"climbing\", \"close\", \"close\", \"close\", \"close\", \"close\", \"coc\", \"coc\", \"coc\", \"coc\", \"cockroaches\", \"collecting\", \"colorful\", \"come\", \"come\", \"come\", \"come\", \"come\", \"comfort\", \"comfort\", \"comfort\", \"comfort\", \"comfort\", \"comfortable\", \"comfortable\", \"comfortable\", \"comfortable\", \"comfortable\", \"communicate\", \"communicate\", \"compared\", \"compared\", \"compared\", \"compared\", \"compared\", \"complementary\", \"concern\", \"conditioner\", \"conditioner\", \"conditioner\", \"conditioner\", \"conditioner\", \"confirmation\", \"cong\", \"consult\", \"control\", \"control\", \"convenient\", \"convenient\", \"convenient\", \"convenient\", \"convenient\", \"cool\", \"cool\", \"cool\", \"cool\", \"cool\", \"cooler\", \"counselor\", \"cruise\", \"cruise\", \"cups\", \"cups\", \"cute\", \"cute\", \"cute\", \"cute\", \"cute\", \"cycling\", \"cycling\", \"dance\", \"dance\", \"dance\", \"dance\", \"dangerous\", \"dare\", \"day\", \"day\", \"day\", \"day\", \"day\", \"days\", \"days\", \"days\", \"days\", \"days\", \"de\", \"de\", \"decor\", \"decor\", \"decor\", \"decor\", \"decor\", \"dedicated\", \"dedicated\", \"dedicated\", \"dedicated\", \"dedicated\", \"delayed\", \"delicious\", \"delicious\", \"delicious\", \"delicious\", \"delicious\", \"delivery\", \"department\", \"department\", \"describe\", \"desserts\", \"different\", \"different\", \"different\", \"different\", \"different\", \"dish\", \"dish\", \"dish\", \"dish\", \"dish\", \"diverse\", \"diverse\", \"diverse\", \"diverse\", \"diverse\", \"diversified\", \"diversified\", \"diversified\", \"diversified\", \"dl\", \"dl\", \"done\", \"done\", \"done\", \"door\", \"door\", \"door\", \"door\", \"door\", \"downtown\", \"downtown\", \"dragon\", \"dragon\", \"dragon\", \"dragon\", \"dragon\", \"dress\", \"dung\", \"easily\", \"easily\", \"easily\", \"easily\", \"easily\", \"easy\", \"easy\", \"easy\", \"easy\", \"easy\", \"eat\", \"eat\", \"eat\", \"eat\", \"eat\", \"eats\", \"employee\", \"employee\", \"employee\", \"employee\", \"employee\", \"enjoyable\", \"ensuring\", \"ensuring\", \"enthusiastic\", \"enthusiastic\", \"enthusiastic\", \"enthusiastic\", \"enthusiastic\", \"equipment\", \"equipment\", \"equipment\", \"equipment\", \"equipment\", \"equipped\", \"equipped\", \"equipped\", \"equipped\", \"equipped\", \"event\", \"event\", \"every\", \"every\", \"every\", \"every\", \"every\", \"everyday\", \"everything\", \"everything\", \"everything\", \"everything\", \"everything\", \"exercise\", \"expecting\", \"experience\", \"experience\", \"experience\", \"experience\", \"experience\", \"extremely\", \"extremely\", \"extremely\", \"extremely\", \"extremely\", \"facilities\", \"facilities\", \"facilities\", \"facilities\", \"facilities\", \"family\", \"family\", \"family\", \"family\", \"family\", \"father\", \"favorable\", \"favorable\", \"favorable\", \"favorable\", \"favorable\", \"feel\", \"feel\", \"feel\", \"feel\", \"feel\", \"find\", \"find\", \"find\", \"find\", \"find\", \"finishing\", \"first\", \"first\", \"first\", \"first\", \"first\", \"flat\", \"floating\", \"floating\", \"floating\", \"floating\", \"floating\", \"flowing\", \"food\", \"food\", \"food\", \"food\", \"food\", \"fragrant\", \"fragrant\", \"fragrant\", \"fragrant\", \"fragrant\", \"free\", \"free\", \"free\", \"free\", \"free\", \"freedom\", \"freedom\", \"friendly\", \"friendly\", \"friendly\", \"friendly\", \"friendly\", \"full\", \"full\", \"full\", \"full\", \"full\", \"fully\", \"fully\", \"fully\", \"fully\", \"fully\", \"fun\", \"fun\", \"fun\", \"fun\", \"fun\", \"furnished\", \"furnished\", \"furnished\", \"furnished\", \"furnished\", \"genuine\", \"genuine\", \"genuine\", \"genuine\", \"genuine\", \"get\", \"get\", \"get\", \"get\", \"get\", \"ginger\", \"ginger\", \"ginger\", \"go\", \"go\", \"go\", \"go\", \"go\", \"good\", \"good\", \"good\", \"good\", \"good\", \"grapefruit\", \"great\", \"great\", \"great\", \"great\", \"great\", \"guests\", \"guests\", \"guests\", \"guests\", \"guests\", \"guom\", \"guom\", \"guom\", \"guom\", \"guom\", \"han\", \"han\", \"han\", \"han\", \"han\", \"hao\", \"happy\", \"happy\", \"happy\", \"happy\", \"happy\", \"head\", \"head\", \"height\", \"history\", \"hit\", \"hit\", \"hit\", \"hk\", \"hoa\", \"hoa\", \"hoa\", \"hoa\", \"hoa\", \"hoping\", \"host\", \"host\", \"host\", \"host\", \"host\", \"hotel\", \"hotel\", \"hotel\", \"hotel\", \"hotel\", \"hygienic\", \"hygienic\", \"hygienic\", \"hygienic\", \"idea\", \"imagined\", \"immense\", \"improved\", \"improved\", \"improved\", \"improved\", \"improved\", \"incentives\", \"increase\", \"increase\", \"informed\", \"informed\", \"informed\", \"insulation\", \"islands\", \"journey\", \"keeps\", \"khiem\", \"kieu\", \"kieu\", \"kieu\", \"kieu\", \"kieu\", \"korean\", \"lake\", \"lake\", \"lake\", \"lake\", \"lake\", \"lakes\", \"landscape\", \"landscape\", \"landscape\", \"landscape\", \"landscape\", \"large\", \"large\", \"large\", \"large\", \"large\", \"laughs\", \"least\", \"least\", \"least\", \"least\", \"least\", \"leaves\", \"legs\", \"lemon\", \"lemon\", \"lemon\", \"lending\", \"lending\", \"lending\", \"letter\", \"like\", \"like\", \"like\", \"like\", \"like\", \"liver\", \"located\", \"located\", \"located\", \"located\", \"located\", \"location\", \"location\", \"location\", \"location\", \"location\", \"made\", \"made\", \"made\", \"made\", \"made\", \"maintenance\", \"maintenance\", \"many\", \"many\", \"many\", \"many\", \"many\", \"maps\", \"maps\", \"marine\", \"market\", \"market\", \"market\", \"market\", \"market\", \"master\", \"master\", \"master\", \"master\", \"master\", \"materials\", \"moldy\", \"move\", \"move\", \"move\", \"move\", \"move\", \"moving\", \"moving\", \"moving\", \"moving\", \"moving\", \"much\", \"much\", \"much\", \"much\", \"much\", \"multi\", \"muong\", \"muong\", \"muong\", \"muong\", \"muong\", \"museum\", \"museum\", \"naturally\", \"nature\", \"nature\", \"nature\", \"nature\", \"nature\", \"near\", \"near\", \"near\", \"near\", \"near\", \"neighbor\", \"never\", \"never\", \"never\", \"never\", \"never\", \"new\", \"new\", \"new\", \"new\", \"new\", \"next\", \"next\", \"next\", \"next\", \"next\", \"nhien\", \"nhon\", \"nhon\", \"nhon\", \"nhon\", \"nhon\", \"nice\", \"nice\", \"nice\", \"nice\", \"nice\", \"nien\", \"night\", \"night\", \"night\", \"night\", \"night\", \"ninh\", \"ninh\", \"ninh\", \"ninh\", \"ninh\", \"noodle\", \"noodle\", \"noodle\", \"noodle\", \"noodle\", \"nostalgic\", \"nutrition\", \"offers\", \"ok\", \"ok\", \"ok\", \"ok\", \"ok\", \"opportunity\", \"opportunity\", \"opportunity\", \"opportunity\", \"opportunity\", \"outdated\", \"overlooking\", \"overlooking\", \"overlooking\", \"overlooking\", \"overlooking\", \"overview\", \"owner\", \"owner\", \"owner\", \"owner\", \"owner\", \"oysters\", \"parents\", \"participate\", \"peony\", \"people\", \"people\", \"people\", \"people\", \"people\", \"perfume\", \"perfume\", \"place\", \"place\", \"place\", \"place\", \"place\", \"planet\", \"planted\", \"plaza\", \"pleased\", \"pleased\", \"pleased\", \"pleased\", \"pleased\", \"pole\", \"polite\", \"polite\", \"polite\", \"polite\", \"polite\", \"pool\", \"pool\", \"pool\", \"pool\", \"pool\", \"pools\", \"pools\", \"pools\", \"pools\", \"pools\", \"poorly\", \"preparation\", \"prepares\", \"pressure\", \"pressure\", \"pressure\", \"pressure\", \"pressure\", \"price\", \"price\", \"price\", \"price\", \"price\", \"professional\", \"professional\", \"professional\", \"professional\", \"professional\", \"properly\", \"properly\", \"properly\", \"properly\", \"push\", \"quality\", \"quality\", \"quality\", \"quality\", \"quality\", \"qui\", \"quiet\", \"quiet\", \"quiet\", \"quiet\", \"quiet\", \"quieter\", \"quite\", \"quite\", \"quite\", \"quite\", \"quite\", \"quy\", \"quy\", \"quy\", \"quy\", \"quy\", \"raining\", \"range\", \"range\", \"range\", \"range\", \"range\", \"rare\", \"rat\", \"really\", \"really\", \"really\", \"really\", \"really\", \"reasonable\", \"reasonable\", \"reasonable\", \"reasonable\", \"reasonable\", \"receptionist\", \"receptionist\", \"receptionist\", \"receptionist\", \"receptionist\", \"refund\", \"reliable\", \"renovation\", \"repair\", \"resort\", \"resort\", \"resort\", \"resort\", \"resort\", \"responded\", \"responded\", \"responded\", \"responsibility\", \"restaurants\", \"restaurants\", \"restaurants\", \"restaurants\", \"restaurants\", \"return\", \"return\", \"return\", \"return\", \"return\", \"rich\", \"rich\", \"rich\", \"rich\", \"rich\", \"right\", \"right\", \"right\", \"right\", \"right\", \"river\", \"river\", \"river\", \"river\", \"river\", \"road\", \"road\", \"road\", \"road\", \"road\", \"room\", \"room\", \"room\", \"room\", \"room\", \"rooms\", \"rooms\", \"rooms\", \"rooms\", \"rooms\", \"route\", \"said\", \"said\", \"said\", \"said\", \"said\", \"salad\", \"saltwater\", \"satisfied\", \"satisfied\", \"satisfied\", \"satisfied\", \"satisfied\", \"saturday\", \"scene\", \"scene\", \"scene\", \"scene\", \"scene\", \"scenery\", \"scenery\", \"scenery\", \"scenery\", \"scenery\", \"sea\", \"sea\", \"sea\", \"sea\", \"sea\", \"second\", \"second\", \"second\", \"second\", \"second\", \"section\", \"service\", \"service\", \"service\", \"service\", \"service\", \"sharing\", \"shower\", \"shower\", \"shower\", \"shower\", \"shower\", \"showers\", \"showers\", \"simply\", \"simply\", \"small\", \"small\", \"small\", \"small\", \"small\", \"smart\", \"smart\", \"smart\", \"smart\", \"smart\", \"smooth\", \"smooth\", \"smooth\", \"smooth\", \"smooth\", \"solved\", \"solved\", \"someone\", \"someone\", \"someone\", \"someone\", \"someone\", \"soundproofing\", \"soundproofing\", \"soundproofing\", \"soundproofing\", \"soundproofing\", \"space\", \"space\", \"space\", \"space\", \"space\", \"spacious\", \"spacious\", \"spacious\", \"spacious\", \"spacious\", \"specially\", \"staff\", \"staff\", \"staff\", \"staff\", \"staff\", \"state\", \"station\", \"station\", \"station\", \"station\", \"station\", \"stay\", \"stay\", \"stay\", \"stay\", \"stay\", \"stayed\", \"stayed\", \"stayed\", \"stayed\", \"stayed\", \"still\", \"still\", \"still\", \"still\", \"still\", \"stood\", \"stopped\", \"stopped\", \"stopped\", \"stove\", \"stove\", \"stove\", \"stove\", \"street\", \"street\", \"street\", \"street\", \"street\", \"stronger\", \"stronger\", \"sugar\", \"suitable\", \"suitable\", \"suitable\", \"suitable\", \"suitable\", \"support\", \"support\", \"support\", \"support\", \"support\", \"swimming\", \"swimming\", \"swimming\", \"swimming\", \"swimming\", \"ta\", \"ta\", \"ta\", \"taste\", \"taste\", \"taste\", \"taste\", \"taste\", \"tennis\", \"tennis\", \"tennis\", \"term\", \"term\", \"term\", \"thanh\", \"thanh\", \"thanh\", \"thanh\", \"thanh\", \"thankful\", \"thien\", \"thien\", \"thien\", \"thien\", \"thoughtful\", \"thoughtful\", \"thoughtful\", \"thoughtful\", \"thoughtful\", \"three\", \"three\", \"tien\", \"tien\", \"tien\", \"tien\", \"tien\", \"time\", \"time\", \"time\", \"time\", \"time\", \"tips\", \"toilet\", \"toilet\", \"toilet\", \"toilet\", \"toilet\", \"told\", \"told\", \"told\", \"told\", \"told\", \"tolet\", \"tolet\", \"toothbrush\", \"toothbrush\", \"town\", \"town\", \"town\", \"town\", \"town\", \"tra\", \"tra\", \"tra\", \"tra\", \"transportation\", \"transportation\", \"transportation\", \"transportation\", \"transportation\", \"travel\", \"travel\", \"travel\", \"travel\", \"travel\", \"treated\", \"treatment\", \"treatment\", \"trees\", \"trees\", \"trees\", \"trees\", \"trees\", \"truong\", \"truong\", \"truong\", \"truong\", \"tuy\", \"tuy\", \"tv\", \"tv\", \"tv\", \"tv\", \"tv\", \"uniform\", \"urgently\", \"utility\", \"utility\", \"utility\", \"utility\", \"veiw\", \"vew\", \"view\", \"view\", \"view\", \"view\", \"view\", \"viu\", \"vk\", \"vy\", \"walk\", \"walk\", \"walk\", \"walk\", \"walk\", \"water\", \"water\", \"water\", \"water\", \"water\", \"wedding\", \"wedding\", \"well\", \"well\", \"well\", \"well\", \"well\", \"went\", \"went\", \"went\", \"went\", \"went\", \"wharf\", \"wharf\", \"wharf\", \"wharf\", \"wharf\", \"wide\", \"wide\", \"wide\", \"wide\", \"wide\", \"woke\", \"woke\", \"woke\", \"woke\", \"wonderfull\", \"wonderfull\", \"wonderfull\", \"work\", \"work\", \"work\", \"work\", \"work\", \"worker\", \"worker\", \"worker\", \"worker\", \"worker\", \"worthwhile\", \"worthwhile\", \"xom\", \"xuan\", \"xuan\", \"xuan\", \"xuan\"]}, \"R\": 30, \"lambda.step\": 0.01, \"plot.opts\": {\"xlab\": \"PC1\", \"ylab\": \"PC2\"}, \"topic.order\": [5, 3, 4, 1, 2]};\n",
       "\n",
       "function LDAvis_load_lib(url, callback){\n",
       "  var s = document.createElement('script');\n",
       "  s.src = url;\n",
       "  s.async = true;\n",
       "  s.onreadystatechange = s.onload = callback;\n",
       "  s.onerror = function(){console.warn(\"failed to load library \" + url);};\n",
       "  document.getElementsByTagName(\"head\")[0].appendChild(s);\n",
       "}\n",
       "\n",
       "if(typeof(LDAvis) !== \"undefined\"){\n",
       "   // already loaded: just create the visualization\n",
       "   !function(LDAvis){\n",
       "       new LDAvis(\"#\" + \"ldavis_el1512817246147599682021342891\", ldavis_el1512817246147599682021342891_data);\n",
       "   }(LDAvis);\n",
       "}else if(typeof define === \"function\" && define.amd){\n",
       "   // require.js is available: use it to load d3/LDAvis\n",
       "   require.config({paths: {d3: \"https://d3js.org/d3.v5\"}});\n",
       "   require([\"d3\"], function(d3){\n",
       "      window.d3 = d3;\n",
       "      LDAvis_load_lib(\"https://cdn.jsdelivr.net/gh/bmabey/pyLDAvis@3.4.0/pyLDAvis/js/ldavis.v3.0.0.js\", function(){\n",
       "        new LDAvis(\"#\" + \"ldavis_el1512817246147599682021342891\", ldavis_el1512817246147599682021342891_data);\n",
       "      });\n",
       "    });\n",
       "}else{\n",
       "    // require.js not available: dynamically load d3 & LDAvis\n",
       "    LDAvis_load_lib(\"https://d3js.org/d3.v5.js\", function(){\n",
       "         LDAvis_load_lib(\"https://cdn.jsdelivr.net/gh/bmabey/pyLDAvis@3.4.0/pyLDAvis/js/ldavis.v3.0.0.js\", function(){\n",
       "                 new LDAvis(\"#\" + \"ldavis_el1512817246147599682021342891\", ldavis_el1512817246147599682021342891_data);\n",
       "            })\n",
       "         });\n",
       "}\n",
       "</script>"
      ],
      "text/plain": [
       "<IPython.core.display.HTML object>"
      ]
     },
     "execution_count": 58,
     "metadata": {},
     "output_type": "execute_result"
    }
   ],
   "source": [
    "import os\n",
    "import pickle\n",
    "import pyLDAvis\n",
    "import pyLDAvis.gensim_models\n",
    "\n",
    "# Khai báo đường dẫn đến thư mục lưu trữ dữ liệu\n",
    "LDAvis_data_dir = os.path.join(\"E:\\\\NCKH\\\\NCKHNew\\\\img\", 'pos_Results')\n",
    "if not os.path.exists(LDAvis_data_dir):\n",
    "    os.makedirs(LDAvis_data_dir)\n",
    "\n",
    "# Đường dẫn tới tệp dữ liệu của pyLDAvis\n",
    "LDAvis_data_filepath = os.path.join(LDAvis_data_dir, 'ldavis_prepared_'+str(num_topics))\n",
    "\n",
    "# Kiểm tra xem liệu quá trình chuẩn bị dữ liệu cho trực quan hóa đã được thực hiện chưa\n",
    "if 1 == 1:\n",
    "    # Chuẩn bị dữ liệu cho trực quan hóa\n",
    "    LDAvis_prepared = pyLDAvis.gensim_models.prepare(lda_model, corpus, id2word)\n",
    "    # Lưu trữ dữ liệu vào một tệp\n",
    "    with open(LDAvis_data_filepath, 'wb') as f:\n",
    "        pickle.dump(LDAvis_prepared, f)\n",
    "\n",
    "# Load dữ liệu đã chuẩn bị từ tệp\n",
    "with open(LDAvis_data_filepath, 'rb') as f:\n",
    "    LDAvis_prepared = pickle.load(f)\n",
    "\n",
    "# Lưu trữ trực quan hóa dưới dạng một tệp HTML\n",
    "pyLDAvis.save_html(LDAvis_prepared, 'ldavis_prepared_'+ str(num_topics) +'.html')\n",
    "\n",
    "# Hiển thị trực quan hóa trên trình duyệt web\n",
    "pyLDAvis.display(LDAvis_prepared)\n"
   ]
  },
  {
   "cell_type": "markdown",
   "metadata": {},
   "source": [
    "# 9. Topic modelling negative comments"
   ]
  },
  {
   "cell_type": "code",
   "execution_count": 59,
   "metadata": {},
   "outputs": [
    {
     "data": {
      "text/html": [
       "<div>\n",
       "<style scoped>\n",
       "    .dataframe tbody tr th:only-of-type {\n",
       "        vertical-align: middle;\n",
       "    }\n",
       "\n",
       "    .dataframe tbody tr th {\n",
       "        vertical-align: top;\n",
       "    }\n",
       "\n",
       "    .dataframe thead th {\n",
       "        text-align: right;\n",
       "    }\n",
       "</style>\n",
       "<table border=\"1\" class=\"dataframe\">\n",
       "  <thead>\n",
       "    <tr style=\"text-align: right;\">\n",
       "      <th></th>\n",
       "      <th>rental_date</th>\n",
       "      <th>comments</th>\n",
       "      <th>sentiment</th>\n",
       "      <th>label</th>\n",
       "    </tr>\n",
       "  </thead>\n",
       "  <tbody>\n",
       "    <tr>\n",
       "      <th>1</th>\n",
       "      <td>2023-03-18</td>\n",
       "      <td>wind noisy</td>\n",
       "      <td>negative</td>\n",
       "      <td>2</td>\n",
       "    </tr>\n",
       "    <tr>\n",
       "      <th>42</th>\n",
       "      <td>2023-06-23</td>\n",
       "      <td>blanket soft thin small dirty towels dirty bl...</td>\n",
       "      <td>negative</td>\n",
       "      <td>2</td>\n",
       "    </tr>\n",
       "    <tr>\n",
       "      <th>55</th>\n",
       "      <td>2023-10-05</td>\n",
       "      <td>water room use downstairs heard whole night un...</td>\n",
       "      <td>negative</td>\n",
       "      <td>2</td>\n",
       "    </tr>\n",
       "    <tr>\n",
       "      <th>115</th>\n",
       "      <td>2023-07-21</td>\n",
       "      <td>done day without cleaning ask reason answer af...</td>\n",
       "      <td>negative</td>\n",
       "      <td>2</td>\n",
       "    </tr>\n",
       "    <tr>\n",
       "      <th>127</th>\n",
       "      <td>2023-11-17</td>\n",
       "      <td>sophistication service gentle chronic way good...</td>\n",
       "      <td>negative</td>\n",
       "      <td>2</td>\n",
       "    </tr>\n",
       "    <tr>\n",
       "      <th>...</th>\n",
       "      <td>...</td>\n",
       "      <td>...</td>\n",
       "      <td>...</td>\n",
       "      <td>...</td>\n",
       "    </tr>\n",
       "    <tr>\n",
       "      <th>100359</th>\n",
       "      <td>2023-12-10</td>\n",
       "      <td>apartment really beautiful bright always conta...</td>\n",
       "      <td>negative</td>\n",
       "      <td>2</td>\n",
       "    </tr>\n",
       "    <tr>\n",
       "      <th>100366</th>\n",
       "      <td>2023-12-09</td>\n",
       "      <td>projector bit blurry expected checking problem...</td>\n",
       "      <td>negative</td>\n",
       "      <td>2</td>\n",
       "    </tr>\n",
       "    <tr>\n",
       "      <th>100372</th>\n",
       "      <td>2023-12-09</td>\n",
       "      <td>neighborhood bit noisy</td>\n",
       "      <td>negative</td>\n",
       "      <td>2</td>\n",
       "    </tr>\n",
       "    <tr>\n",
       "      <th>100383</th>\n",
       "      <td>2023-12-08</td>\n",
       "      <td>apartment everything need soon come back</td>\n",
       "      <td>negative</td>\n",
       "      <td>2</td>\n",
       "    </tr>\n",
       "    <tr>\n",
       "      <th>100541</th>\n",
       "      <td>2023-11-25</td>\n",
       "      <td>bathroom best stayed well going good bathroom ...</td>\n",
       "      <td>negative</td>\n",
       "      <td>2</td>\n",
       "    </tr>\n",
       "  </tbody>\n",
       "</table>\n",
       "<p>7385 rows × 4 columns</p>\n",
       "</div>"
      ],
      "text/plain": [
       "       rental_date                                           comments  \\\n",
       "1       2023-03-18                                         wind noisy   \n",
       "42      2023-06-23   blanket soft thin small dirty towels dirty bl...   \n",
       "55      2023-10-05  water room use downstairs heard whole night un...   \n",
       "115     2023-07-21  done day without cleaning ask reason answer af...   \n",
       "127     2023-11-17  sophistication service gentle chronic way good...   \n",
       "...            ...                                                ...   \n",
       "100359  2023-12-10  apartment really beautiful bright always conta...   \n",
       "100366  2023-12-09  projector bit blurry expected checking problem...   \n",
       "100372  2023-12-09                            neighborhood bit noisy    \n",
       "100383  2023-12-08           apartment everything need soon come back   \n",
       "100541  2023-11-25  bathroom best stayed well going good bathroom ...   \n",
       "\n",
       "       sentiment  label  \n",
       "1       negative      2  \n",
       "42      negative      2  \n",
       "55      negative      2  \n",
       "115     negative      2  \n",
       "127     negative      2  \n",
       "...          ...    ...  \n",
       "100359  negative      2  \n",
       "100366  negative      2  \n",
       "100372  negative      2  \n",
       "100383  negative      2  \n",
       "100541  negative      2  \n",
       "\n",
       "[7385 rows x 4 columns]"
      ]
     },
     "execution_count": 59,
     "metadata": {},
     "output_type": "execute_result"
    }
   ],
   "source": [
    "df_neg = df.loc[df['label'] == 2]\n",
    "df_neg"
   ]
  },
  {
   "cell_type": "code",
   "execution_count": 60,
   "metadata": {},
   "outputs": [
    {
     "name": "stdout",
     "output_type": "stream",
     "text": [
      "['wind', 'noisy']\n"
     ]
    }
   ],
   "source": [
    "data = df_neg.comments.values.tolist()#creating the array of token \n",
    "data_words = list(sent_to_words(data))#converting them into list\n",
    "\n",
    "data_words = remove_stopwords(data_words)# remove stop words\n",
    "print(data_words[:1][0][:30])"
   ]
  },
  {
   "cell_type": "code",
   "execution_count": 61,
   "metadata": {},
   "outputs": [
    {
     "name": "stdout",
     "output_type": "stream",
     "text": [
      "[(0, 1), (1, 1)]\n"
     ]
    }
   ],
   "source": [
    "# Create Dictionary \n",
    "id2word = corpora.Dictionary(data_words)\n",
    "\n",
    "# Create Corpus\n",
    "texts = data_words\n",
    "\n",
    "# Term Document Frequency\n",
    "corpus = [id2word.doc2bow(text) for text in texts]\n",
    "\n",
    "# Printing the corpus in a numeric form which implies the frequency of the word\n",
    "print(corpus[:1][0][:30])"
   ]
  },
  {
   "cell_type": "code",
   "execution_count": 62,
   "metadata": {},
   "outputs": [
    {
     "data": {
      "text/plain": [
       "<gensim.corpora.dictionary.Dictionary at 0x191957fbdd0>"
      ]
     },
     "execution_count": 62,
     "metadata": {},
     "output_type": "execute_result"
    }
   ],
   "source": [
    "#Showing the code\n",
    "id2word"
   ]
  },
  {
   "cell_type": "code",
   "execution_count": 63,
   "metadata": {},
   "outputs": [
    {
     "name": "stdout",
     "output_type": "stream",
     "text": [
      "[(0,\n",
      "  '0.041*\"room\" + 0.016*\"hotel\" + 0.011*\"night\" + 0.011*\"rooms\" + 0.010*\"bed\" '\n",
      "  '+ 0.009*\"small\" + 0.009*\"noisy\" + 0.008*\"smell\" + 0.008*\"quite\" + '\n",
      "  '0.007*\"little\"'),\n",
      " (1,\n",
      "  '0.030*\"room\" + 0.010*\"hotel\" + 0.009*\"water\" + 0.008*\"shower\" + '\n",
      "  '0.008*\"poor\" + 0.007*\"nothing\" + 0.007*\"dirty\" + 0.007*\"cold\" + 0.006*\"air\" '\n",
      "  '+ 0.006*\"weak\"'),\n",
      " (2,\n",
      "  '0.013*\"room\" + 0.012*\"hotel\" + 0.011*\"staff\" + 0.011*\"little\" + '\n",
      "  '0.009*\"breakfast\" + 0.009*\"bad\" + 0.009*\"noise\" + 0.008*\"water\" + '\n",
      "  '0.007*\"old\" + 0.006*\"noisy\"'),\n",
      " (3,\n",
      "  '0.044*\"room\" + 0.011*\"hotel\" + 0.010*\"staff\" + 0.007*\"noisy\" + '\n",
      "  '0.007*\"annoying\" + 0.007*\"little\" + 0.007*\"neighbors\" + 0.006*\"breakfast\" + '\n",
      "  '0.006*\"rooms\" + 0.006*\"need\"'),\n",
      " (4,\n",
      "  '0.027*\"room\" + 0.015*\"bad\" + 0.015*\"hotel\" + 0.011*\"breakfast\" + '\n",
      "  '0.008*\"guests\" + 0.008*\"staff\" + 0.006*\"booking\" + 0.006*\"nothing\" + '\n",
      "  '0.006*\"night\" + 0.006*\"cheap\"')]\n"
     ]
    }
   ],
   "source": [
    "from pprint import pprint\n",
    "# number of topics\n",
    "num_topics = 5\n",
    "\n",
    "# Build LDA model\n",
    "lda_model = gensim.models.LdaMulticore(corpus=corpus,\n",
    "                                       id2word=id2word,\n",
    "                                       num_topics=num_topics)\n",
    "\n",
    "# Print the Keyword in the 10 topics\n",
    "pprint(lda_model.print_topics())\n",
    "doc_lda = lda_model[corpus]"
   ]
  },
  {
   "cell_type": "code",
   "execution_count": 64,
   "metadata": {},
   "outputs": [
    {
     "data": {
      "text/html": [
       "\n",
       "<link rel=\"stylesheet\" type=\"text/css\" href=\"https://cdn.jsdelivr.net/gh/bmabey/pyLDAvis@3.4.0/pyLDAvis/js/ldavis.v1.0.0.css\">\n",
       "\n",
       "\n",
       "<div id=\"ldavis_el1512817246147603049152717823\" style=\"background-color:white;\"></div>\n",
       "<script type=\"text/javascript\">\n",
       "\n",
       "var ldavis_el1512817246147603049152717823_data = {\"mdsDat\": {\"x\": [-0.00827599156256789, 0.007691219654255822, -0.028900093740375766, -0.02285943529201975, 0.05234430094070756], \"y\": [-0.01892959368967334, 0.00039995860602284785, -0.032468891872414765, 0.050098223534677314, 0.0009003034213879371], \"topics\": [1, 2, 3, 4, 5], \"cluster\": [1, 1, 1, 1, 1], \"Freq\": [25.610786977673804, 22.635436173244685, 20.242132291033446, 16.785137724703304, 14.726506833344763]}, \"tinfo\": {\"Term\": [\"room\", \"neighbors\", \"bad\", \"annoying\", \"nothing\", \"wifi\", \"shower\", \"weak\", \"cold\", \"conditioner\", \"noise\", \"rooms\", \"water\", \"poor\", \"hard\", \"air\", \"booking\", \"bathroom\", \"small\", \"staff\", \"place\", \"bed\", \"beach\", \"dislike\", \"little\", \"smell\", \"old\", \"still\", \"breakfast\", \"cheap\", \"inconveniences\", \"upside\", \"receptionists\", \"dirtytoilet\", \"shades\", \"traveller\", \"rid\", \"drawn\", \"insect\", \"awakened\", \"choosing\", \"yo\", \"screwdriver\", \"earliest\", \"emanating\", \"seeping\", \"prominent\", \"prayer\", \"scent\", \"busier\", \"lessened\", \"explication\", \"taught\", \"extended\", \"ignores\", \"stopping\", \"crashed\", \"monument\", \"cloak\", \"beeping\", \"horns\", \"steamed\", \"hard\", \"bed\", \"rooms\", \"thin\", \"small\", \"filthy\", \"impact\", \"night\", \"smell\", \"blood\", \"mi\", \"bathroom\", \"complaint\", \"dull\", \"oils\", \"sleep\", \"moldy\", \"dogs\", \"room\", \"windows\", \"quite\", \"equipment\", \"musty\", \"noisy\", \"broken\", \"outside\", \"stay\", \"hotel\", \"dirty\", \"conditioning\", \"time\", \"sheets\", \"door\", \"toilet\", \"water\", \"floor\", \"another\", \"go\", \"little\", \"next\", \"old\", \"get\", \"good\", \"shower\", \"staff\", \"guests\", \"breakfast\", \"really\", \"poor\", \"row\", \"breakfirst\", \"tad\", \"aimed\", \"fullboard\", \"niece\", \"freedom\", \"grade\", \"negligence\", \"purify\", \"walkiny\", \"interval\", \"promote\", \"specify\", \"wildly\", \"housekeeper\", \"groove\", \"babysitter\", \"lod\", \"wasting\", \"soda\", \"removed\", \"headline\", \"hostle\", \"fishermen\", \"maple\", \"bouncy\", \"timms\", \"debris\", \"xg\", \"utilities\", \"andthe\", \"wc\", \"thehotel\", \"boring\", \"option\", \"deserted\", \"money\", \"bad\", \"deliberately\", \"late\", \"center\", \"placement\", \"still\", \"rigid\", \"equal\", \"guests\", \"flexibly\", \"overview\", \"cheap\", \"breakfast\", \"single\", \"nothing\", \"expected\", \"food\", \"booking\", \"toilet\", \"days\", \"paid\", \"hotel\", \"booked\", \"anything\", \"charge\", \"service\", \"room\", \"check\", \"com\", \"expensive\", \"better\", \"like\", \"night\", \"staff\", \"price\", \"poor\", \"clean\", \"get\", \"quite\", \"door\", \"little\", \"water\", \"dirty\", \"time\", \"bed\", \"pay\", \"need\", \"noisy\", \"smell\", \"odour\", \"uncleaned\", \"scraps\", \"neighbors\", \"fifth\", \"spiral\", \"infinity\", \"narrower\", \"nang\", \"specialties\", \"occupant\", \"fork\", \"shade\", \"occasions\", \"stretch\", \"meagre\", \"series\", \"patch\", \"touted\", \"blink\", \"shards\", \"villager\", \"indicates\", \"disco\", \"fundamental\", \"smart\", \"poached\", \"revised\", \"thien\", \"confortable\", \"annoying\", \"mart\", \"mirror\", \"gra\", \"chill\", \"yelling\", \"text\", \"police\", \"orders\", \"baggage\", \"crowded\", \"repaired\", \"room\", \"stairs\", \"rooftop\", \"web\", \"parking\", \"sea\", \"beds\", \"pay\", \"pool\", \"dust\", \"staff\", \"need\", \"slow\", \"day\", \"elevator\", \"noisy\", \"check\", \"tired\", \"coffee\", \"booking\", \"came\", \"people\", \"hotel\", \"view\", \"time\", \"rooms\", \"near\", \"floor\", \"little\", \"small\", \"still\", \"really\", \"breakfast\", \"guests\", \"hard\", \"price\", \"bad\", \"dirty\", \"old\", \"quite\", \"lent\", \"briefs\", \"pointless\", \"shot\", \"rustic\", \"underwhelming\", \"promise\", \"terrifying\", \"camp\", \"nauseous\", \"starred\", \"protected\", \"imposed\", \"dip\", \"refriderator\", \"terra\", \"deterred\", \"football\", \"symphony\", \"chutt\", \"voices\", \"landside\", \"packing\", \"praying\", \"spreading\", \"disorganised\", \"tbh\", \"environs\", \"disappointingly\", \"rule\", \"surroundings\", \"laundry\", \"placing\", \"harm\", \"quit\", \"city\", \"noise\", \"melia\", \"brings\", \"massage\", \"fruit\", \"close\", \"extremely\", \"neighborhood\", \"little\", \"morning\", \"welcoming\", \"safety\", \"equipped\", \"old\", \"boulevard\", \"staff\", \"front\", \"space\", \"wifi\", \"disappointed\", \"much\", \"expensive\", \"difficult\", \"need\", \"everything\", \"bad\", \"water\", \"breakfast\", \"around\", \"many\", \"hotel\", \"want\", \"service\", \"really\", \"problem\", \"location\", \"bathroom\", \"noisy\", \"dirty\", \"place\", \"room\", \"cheap\", \"quite\", \"food\", \"floor\", \"night\", \"small\", \"originally\", \"liquid\", \"component\", \"erosion\", \"lightning\", \"polluted\", \"chlorine\", \"chung\", \"elastic\", \"ceilings\", \"windsurfers\", \"clustered\", \"earn\", \"guessed\", \"toiletaire\", \"crossway\", \"horning\", \"eliminated\", \"renewal\", \"sock\", \"durimg\", \"blockage\", \"algae\", \"truong\", \"waffels\", \"endurable\", \"foodbad\", \"trials\", \"discharged\", \"bordered\", \"dislike\", \"sopha\", \"plastics\", \"conditioner\", \"swear\", \"weak\", \"drilling\", \"cold\", \"pressure\", \"wifi\", \"shower\", \"tolet\", \"tee\", \"direction\", \"air\", \"countryside\", \"main\", \"beach\", \"poor\", \"nothing\", \"damp\", \"invoice\", \"criticize\", \"place\", \"hot\", \"english\", \"room\", \"water\", \"town\", \"issue\", \"makes\", \"services\", \"away\", \"first\", \"booking\", \"dirty\", \"day\", \"dark\", \"times\", \"hotel\", \"smell\", \"slightly\", \"good\", \"time\", \"pool\", \"price\", \"little\", \"breakfast\", \"bad\", \"noisy\", \"staff\", \"old\", \"bathroom\", \"location\", \"check\"], \"Freq\": [3081.0, 152.0, 703.0, 183.0, 363.0, 206.0, 355.0, 197.0, 247.0, 139.0, 363.0, 517.0, 592.0, 402.0, 330.0, 287.0, 413.0, 389.0, 454.0, 771.0, 308.0, 457.0, 152.0, 49.0, 695.0, 421.0, 417.0, 249.0, 718.0, 304.0, 5.753108443063718, 5.744124846909908, 7.241528550792604, 5.15045455398805, 3.833951017600709, 4.305400673999079, 6.319898536283865, 3.2584871947822447, 3.2519025304780254, 5.2935043045337915, 6.988647758032129, 3.176524956898953, 3.162802140015575, 2.684273878991759, 2.6840049177175405, 2.684405825673391, 2.6839746912486344, 2.6829674439464632, 2.6830101591959354, 2.682700111643623, 2.6818503315746756, 2.681696303281028, 2.6815245372990404, 2.68163223040682, 2.6814010974679388, 2.6810930408806444, 2.681446165676068, 2.681307884105743, 2.68119494209019, 2.680833672437875, 7.315650368435924, 5.25759525947332, 183.99248223386962, 246.62847916069114, 269.40736622047626, 31.42470839646491, 223.7723745136569, 12.188370732349876, 5.176294745963207, 269.55679719490075, 198.77947643513096, 8.025540167324076, 3.4694864094225837, 180.2453673365157, 16.88853524415476, 4.962416957900815, 6.7135448997242415, 93.50331041298831, 27.573012088657652, 19.343632578890773, 1010.073041897382, 54.434136173536594, 188.84147101875905, 27.677260464962565, 15.228571418533111, 222.73177890943188, 88.59743360364936, 80.02650151112884, 99.46262346493594, 391.8570375677096, 181.47131526800942, 34.65588389512705, 154.22427989978095, 42.17102533840697, 118.07984630320205, 120.94195915047592, 180.3950531544625, 116.27329532518854, 61.392644341136105, 97.60114212407585, 185.8424145296521, 88.9982619208993, 123.21942620626304, 102.64900152671102, 64.14761286298832, 103.48949863076477, 148.44191513076524, 108.6076485103618, 130.9533826688558, 93.03072047662522, 94.22358508540914, 4.939901784361384, 3.424018730250733, 3.408215034305331, 5.440073915874002, 2.8207072945573866, 2.820347043491824, 2.8201560400405445, 2.8205703607598194, 2.820179395571438, 2.8202760170828056, 2.8201198869584765, 2.8206567442302473, 2.8200731758966895, 2.8188014192487225, 2.8198888911597764, 2.818422291795178, 2.8184082144888856, 2.8184264509993096, 2.8175152653556843, 2.817268912495575, 2.8180367655660454, 2.8169457743284188, 2.8172765910262796, 2.8157389652526623, 2.8163996388320465, 2.8162143942787954, 2.8159066131730484, 2.8155310050460765, 2.814837377772418, 2.814724439383303, 5.646608475258947, 4.729194903354768, 15.60861647407362, 4.66053252197695, 30.590867043951793, 21.450413199846192, 7.156713115075528, 92.18002397104708, 331.3047862248355, 5.277650915693696, 60.48205613204984, 49.06869833061588, 5.3136968182706, 113.43226197193552, 6.342141304287268, 8.800067137476221, 185.64097019621227, 3.2133009713256198, 3.2125459158063236, 122.36315079653805, 248.33021486030935, 24.098413382099437, 137.33435068097702, 31.277097333031364, 120.23096615241437, 141.9361760366348, 121.06816147416892, 51.39083958633305, 32.54366073473167, 321.6025019675973, 67.52132356048666, 35.74144115593162, 31.436155537069112, 93.05948192580034, 584.8054984247931, 115.92765135643273, 44.57606680059949, 63.1846327510419, 37.60633358671426, 83.5368957631341, 136.3675827130908, 167.3920922190806, 98.84611480723518, 104.67436532508954, 65.1010609204043, 84.4278919900263, 95.42085535439809, 80.68288316158383, 116.98830215973517, 107.1622195114552, 93.45251007943094, 84.76076141509577, 79.22512434533635, 69.46260969325041, 71.38554413762992, 74.15808752840326, 69.77650290943832, 6.500938416232138, 5.335472877002122, 6.345803409991449, 132.6157046391364, 4.93319763744164, 5.025715575101657, 7.088762813915199, 3.342461846319301, 3.6488713655706158, 5.3459525439428175, 3.278178182239842, 3.2677342791510515, 4.203300050566147, 6.193335528770448, 2.7655906289761623, 2.7656072234034466, 2.7655388429186036, 2.765005818469807, 2.7642507720283827, 2.765076773951987, 2.762971284462619, 2.7630748565777368, 2.7624339683515937, 2.761192247413442, 2.7618162551014858, 2.7615916581115205, 2.7613510389159015, 2.7605364814249067, 2.7602231900822165, 2.7593485493200207, 138.8895059735856, 5.202677975437183, 10.740265826764414, 6.477799490160232, 22.674902396201144, 3.6349563660713056, 5.862202887863229, 9.11739092165509, 6.383000677081102, 4.456099841922248, 57.247363689070134, 14.262007284911888, 855.8895995420037, 24.11384753040216, 22.728258629914055, 10.84698630529306, 51.23039831124766, 45.55617995676636, 70.60639036331487, 95.52608388260943, 102.0294239130247, 29.026045206226645, 191.64356110921125, 113.83976707766061, 53.20662751206245, 86.05438763289901, 49.7096621060717, 146.4282558666111, 103.55641335617861, 24.83394725240968, 33.064913651832434, 106.1180802182557, 46.24989110606245, 74.25688969942422, 218.96920396272233, 54.081865673640436, 107.88076088434666, 115.7206275326523, 58.212271269031596, 86.3444078663208, 134.70137466011116, 99.65281810401939, 67.09849323529535, 83.91068060527398, 116.57501393801543, 88.31157765428175, 73.51107433734272, 75.64859679358547, 90.38099658095074, 82.13265524393995, 69.98117643207432, 60.64472590917221, 2.989944157948435, 2.968735355161724, 4.786552174169784, 3.357872698820725, 4.745145720422269, 5.094437703485906, 2.895250809619497, 2.4639841169493644, 2.463232751901817, 2.463371067602076, 2.462273082935183, 2.462900604422636, 2.46286644068192, 2.462223023565106, 2.462133818242126, 2.461664778551883, 2.4612818599580266, 2.4617618130654435, 2.461526462851624, 2.461383164939177, 2.4616887406200236, 2.46198624986209, 2.461306771018965, 2.4612956203535927, 2.460796212893824, 2.460504160360344, 2.4605501865110306, 2.459992178746006, 2.459870233171507, 2.4597829258341224, 6.600294255352889, 27.3349024229431, 9.41741164096262, 4.024484385850226, 3.1780838780701854, 42.23595696403566, 139.3286323953847, 2.8208175085278087, 5.547178442429695, 13.858574564949144, 9.135142274233742, 45.055790367032294, 62.87468649129266, 11.93157920879686, 180.61470830450145, 62.48461249174236, 10.09983805571693, 6.740994774512398, 9.162997110830666, 115.62960228214632, 2.7966087022594945, 187.0378863400702, 37.583853818970795, 31.346389877932967, 63.751741838919116, 40.735694250214486, 66.93037423482635, 56.00675728714361, 67.23355086188049, 96.66255393573748, 47.72323830255183, 144.91144314488454, 126.44631329318703, 145.29740231166417, 59.05051123470498, 60.44096788989447, 201.42851941098436, 44.32771929669612, 69.1278012215495, 81.33823342300366, 59.183966193854346, 61.94159122097876, 81.0038311369353, 99.65837235910342, 88.95201782251704, 65.61385550648816, 206.5565424440759, 64.06184990936735, 74.35816363794069, 61.82694529907901, 60.6923902457354, 68.76367648105843, 62.976164189132064, 4.499246112358324, 3.328995090495714, 2.832700052545865, 2.8298912677534305, 2.825909554081096, 2.765089184758388, 3.5282608244196423, 2.3339521674051125, 2.334210482354528, 2.333963823841186, 2.333507765779809, 2.3331751410504245, 2.3329243195241993, 2.3331532852327865, 2.332057788392518, 2.331658763607644, 2.3310952998138745, 2.330810966033938, 2.3303438759884196, 2.330317649007254, 2.329983775374005, 2.3292687779112797, 2.329069785895453, 2.3294538238339473, 2.3290335676833673, 2.328261120642851, 2.32763167309488, 2.328026534866871, 2.327086734708442, 2.327016587941357, 33.81344935874425, 3.87717916992821, 2.690670958303964, 70.29538997575226, 2.6745598902945353, 86.13733918473028, 3.5422781050993613, 93.50469302311171, 21.464644295309185, 76.04612934714609, 118.2686382624712, 7.422382207879453, 3.7037647052570173, 3.9676043890699773, 88.13661779596062, 2.963642419027321, 37.595180218185575, 51.97005371335829, 111.61515787333637, 102.28375450394914, 12.18022135891378, 14.69743538981514, 18.464552408830553, 79.57241440565127, 50.571051586222445, 35.8412029780971, 424.2961913931562, 122.98314044938927, 25.841979073184675, 41.17904474048373, 20.603035510061403, 9.831915747538613, 42.13598152514607, 48.84341456124985, 79.60438634459584, 94.04636427703876, 60.621567140268745, 39.53946043361066, 37.566715201293995, 138.18237375573418, 69.2183552650191, 33.37158384088915, 38.403710589169926, 67.670227355579, 54.46939010173315, 57.697313692089715, 77.67866317539983, 76.97494747758876, 75.66170674626139, 71.03579347350222, 77.1913242352167, 58.674262912285165, 51.7567775677259, 46.93507280344465, 50.314473445782006], \"Total\": [3081.0, 152.0, 703.0, 183.0, 363.0, 206.0, 355.0, 197.0, 247.0, 139.0, 363.0, 517.0, 592.0, 402.0, 330.0, 287.0, 413.0, 389.0, 454.0, 771.0, 308.0, 457.0, 152.0, 49.0, 695.0, 421.0, 417.0, 249.0, 718.0, 304.0, 6.485214439931448, 6.4859049129073085, 8.217381813520353, 5.906738945797675, 4.564956266192973, 5.126944028916188, 7.654459841748677, 3.988413384535372, 3.9869619552738054, 6.494343401840312, 8.686174471575159, 3.9774692742147333, 3.9798031582899824, 3.4117581823314502, 3.4115177132041246, 3.4120366849732786, 3.411736863449569, 3.41091351840781, 3.4115564522416606, 3.4117861673897147, 3.410965843488497, 3.410828891669274, 3.411047490989819, 3.4113627827837973, 3.411389592957504, 3.411020211228288, 3.4116088235831277, 3.41150009944238, 3.411485438764631, 3.4112981686391812, 9.482377374128973, 7.0022774481709895, 330.1407359269855, 457.38471418307046, 517.3860597969566, 50.636589700852525, 454.32867858376414, 18.143693411440363, 7.034784783765157, 572.5628855708683, 421.84664251957884, 11.621538632288358, 4.543887519344391, 389.164767057623, 27.20474794865416, 6.809931138837802, 9.613166329158386, 195.74835560227092, 48.11227311821891, 32.05872593943296, 3081.6208737014113, 106.02961731888738, 451.7084512185698, 48.8094986226229, 24.5216056537166, 614.0122881370519, 204.55186857709592, 181.91744284835227, 238.44042488484294, 1272.0396366647478, 540.054862690936, 68.24664122107227, 462.9975121304813, 87.84177844102, 336.52570645624996, 349.44343093976977, 592.4226424152367, 346.7016473536408, 153.21351570235018, 287.09054112602337, 695.8254628293996, 255.64793088757435, 417.47157985093764, 324.9509462218223, 164.90806185970678, 355.84094906586824, 771.706779034344, 459.44640996468473, 718.1309612564336, 373.0514195904522, 402.1036234632422, 5.940402302155195, 4.1451261016244665, 4.1426586340052145, 6.694446862415051, 3.539461722689321, 3.5390651532921575, 3.5388349201085174, 3.539393393780554, 3.538957286228656, 3.5391342654341846, 3.538983630354269, 3.539718268347254, 3.5394939859563346, 3.538042569642362, 3.5394300658788618, 3.5386518093800152, 3.538821405645426, 3.539185667656522, 3.538078537313875, 3.538246631668911, 3.5396428511124984, 3.5385867648472136, 3.539029379662173, 3.537858409533816, 3.5388316193126337, 3.538605422585549, 3.5386312144137366, 3.5382662319639304, 3.538195354183905, 3.538267912297575, 7.339277294118375, 6.112563448225143, 22.37986818054704, 6.108578072747718, 47.53816464888324, 32.797602565985336, 9.851635945805437, 169.72541664108869, 703.3966292616258, 7.120320710151612, 114.49039265728372, 92.63661179229776, 7.316600874508033, 249.60429779808302, 8.999832577810869, 13.2235497124646, 459.44640996468473, 4.115992396786959, 4.115834222971757, 304.0907273599139, 718.1309612564336, 45.27689420909307, 363.45139652459943, 62.90841164414135, 320.8899277540476, 413.8615997586155, 349.44343093976977, 122.0156208689532, 69.86624454456538, 1272.0396366647478, 179.74530223166204, 82.28185946602343, 69.96800641652436, 281.9487380757771, 3081.6208737014113, 384.9408302893862, 110.34357892985308, 182.10334921313736, 90.89206989405321, 270.83857457283636, 572.5628855708683, 771.706779034344, 365.0627141983471, 402.1036234632422, 204.83637532805352, 324.9509462218223, 451.7084512185698, 336.52570645624996, 695.8254628293996, 592.4226424152367, 540.054862690936, 462.9975121304813, 457.38471418307046, 280.84934326783156, 390.7822204523251, 614.0122881370519, 421.84664251957884, 7.2455935746568985, 6.061497474952865, 7.224111633730303, 152.48575907788296, 5.855513940635051, 6.026227637917909, 8.608535227949432, 4.078463344261793, 4.47697431168905, 6.618656716378521, 4.070246922339426, 4.068141314365069, 5.258473122775933, 7.78190898903666, 3.487254519334059, 3.487295647409501, 3.487294335724625, 3.4868051245220215, 3.486246314058075, 3.4874214854335457, 3.4860498516946823, 3.486509007742076, 3.4871359506061315, 3.485964278518703, 3.486944497361452, 3.4868686853944295, 3.486856077205668, 3.486625184377336, 3.4863824824172793, 3.4857097004216815, 183.11290671824034, 6.634155953181858, 14.282295308653895, 8.50495983720267, 32.35676105521223, 4.656632814657984, 7.743359331618876, 12.799267747562142, 8.835606449515202, 6.013483661654649, 114.15741646233853, 23.449721414678443, 3081.6208737014113, 46.67441326111439, 43.70235508525744, 18.040789735064326, 122.13105601602582, 105.82129977318685, 190.11829410930306, 280.84934326783156, 322.1962588841849, 64.40975489822972, 771.706779034344, 390.7822204523251, 145.81792462447265, 285.1084175547314, 138.17426214897475, 614.0122881370519, 384.9408302893862, 54.67480917986747, 81.4598316978779, 413.8615997586155, 132.05519159895525, 264.67998241946583, 1272.0396366647478, 167.69986908718522, 462.9975121304813, 517.3860597969566, 190.7719248825754, 346.7016473536408, 695.8254628293996, 454.32867858376414, 249.60429779808302, 373.0514195904522, 718.1309612564336, 459.44640996468473, 330.1407359269855, 365.0627141983471, 703.3966292616258, 540.054862690936, 417.47157985093764, 451.7084512185698, 3.7370772769859144, 3.736290730234734, 6.094620074116997, 4.289835798299703, 6.094541342195193, 6.588841078217214, 3.745815119405439, 3.207203412660845, 3.2065550013832422, 3.2072055891155085, 3.20626435137235, 3.207306096291605, 3.2076785025855967, 3.2070270811781767, 3.206996230350208, 3.206613537330243, 3.206333849976049, 3.2069753118496633, 3.2068143837422713, 3.206645104395886, 3.207102152638265, 3.2076345480199784, 3.206782055126337, 3.2077327645766602, 3.2072840873200352, 3.206908134132007, 3.207211860601059, 3.2066912526272597, 3.206602455137912, 3.206553674697304, 9.003773684554623, 46.923240438335675, 14.441386556076452, 5.589191938518247, 4.309953218517708, 88.42304632888695, 363.0688459313497, 3.761108704088741, 8.418771990337435, 25.354331407274135, 15.509144896304752, 109.03467478873631, 170.23633409067006, 23.046111595430485, 695.8254628293996, 183.2552116045377, 18.775732136953863, 11.423912421944515, 16.854301514694438, 417.47157985093764, 3.764222932716084, 771.706779034344, 101.38536489818765, 81.07397475642244, 206.2942823580478, 116.99687059473933, 223.05169341738804, 182.10334921313736, 236.36666664473705, 390.7822204523251, 152.30663008146558, 703.3966292616258, 592.4226424152367, 718.1309612564336, 211.65476035376992, 224.6362466188626, 1272.0396366647478, 146.4529492865167, 281.9487380757771, 373.0514195904522, 233.97920127936007, 252.14394914970515, 389.164767057623, 614.0122881370519, 540.054862690936, 308.194897733915, 3081.6208737014113, 304.0907273599139, 451.7084512185698, 320.8899277540476, 346.7016473536408, 572.5628855708683, 454.32867858376414, 5.260588009719054, 4.091213052679781, 3.588578428193574, 3.589055985848533, 3.5888859159058586, 3.601704997355794, 4.6170359525453195, 3.086952677296394, 3.0874440137807118, 3.0872519159357736, 3.0871852534345763, 3.0869652862942023, 3.086709167668144, 3.087114173634135, 3.087170069201444, 3.087159071358279, 3.0869407165291207, 3.086756832091644, 3.086845484380599, 3.086987695245326, 3.0875685211097865, 3.08702027100893, 3.087043502207255, 3.0875677964142585, 3.087203455052805, 3.0879222135695903, 3.087370925498746, 3.0880573474431317, 3.087126773095796, 3.0876002204172552, 49.46707931666053, 5.391143032725777, 3.6189525210476097, 139.33841727022315, 3.608506575251031, 197.45100311278145, 5.024781513847055, 247.4609458686224, 44.8124880644126, 206.2942823580478, 355.84094906586824, 12.610963095139859, 5.427205525590624, 5.965177254445055, 287.9147196314969, 4.156158001809411, 100.37024431611384, 152.12985401918567, 402.1036234632422, 363.45139652459943, 24.948615871598093, 31.68339681798427, 44.29387665687054, 308.194897733915, 170.1382520287221, 110.1486602662557, 3081.6208737014113, 592.4226424152367, 72.56991578311849, 141.81876234786546, 55.36320300454805, 20.44862845129051, 159.4037456879091, 200.576928362551, 413.8615997586155, 540.054862690936, 285.1084175547314, 154.9809734008683, 150.40704129945988, 1272.0396366647478, 421.84664251957884, 126.78926340242072, 164.90806185970678, 462.9975121304813, 322.1962588841849, 365.0627141983471, 695.8254628293996, 718.1309612564336, 703.3966292616258, 614.0122881370519, 771.706779034344, 417.47157985093764, 389.164767057623, 252.14394914970515, 384.9408302893862], \"Category\": [\"Default\", \"Default\", \"Default\", \"Default\", \"Default\", \"Default\", \"Default\", \"Default\", \"Default\", \"Default\", \"Default\", \"Default\", \"Default\", \"Default\", \"Default\", \"Default\", \"Default\", \"Default\", \"Default\", \"Default\", \"Default\", \"Default\", \"Default\", \"Default\", \"Default\", \"Default\", \"Default\", \"Default\", \"Default\", \"Default\", \"Topic1\", \"Topic1\", \"Topic1\", \"Topic1\", \"Topic1\", \"Topic1\", \"Topic1\", \"Topic1\", \"Topic1\", \"Topic1\", \"Topic1\", \"Topic1\", \"Topic1\", \"Topic1\", \"Topic1\", \"Topic1\", \"Topic1\", \"Topic1\", \"Topic1\", \"Topic1\", \"Topic1\", \"Topic1\", \"Topic1\", \"Topic1\", \"Topic1\", \"Topic1\", \"Topic1\", \"Topic1\", \"Topic1\", \"Topic1\", \"Topic1\", \"Topic1\", \"Topic1\", \"Topic1\", \"Topic1\", \"Topic1\", \"Topic1\", \"Topic1\", \"Topic1\", \"Topic1\", \"Topic1\", \"Topic1\", \"Topic1\", \"Topic1\", \"Topic1\", \"Topic1\", \"Topic1\", \"Topic1\", \"Topic1\", \"Topic1\", \"Topic1\", \"Topic1\", \"Topic1\", \"Topic1\", \"Topic1\", \"Topic1\", \"Topic1\", \"Topic1\", \"Topic1\", \"Topic1\", \"Topic1\", \"Topic1\", \"Topic1\", \"Topic1\", \"Topic1\", \"Topic1\", \"Topic1\", \"Topic1\", \"Topic1\", \"Topic1\", \"Topic1\", \"Topic1\", \"Topic1\", \"Topic1\", \"Topic1\", \"Topic1\", \"Topic1\", \"Topic1\", \"Topic1\", \"Topic1\", \"Topic1\", \"Topic2\", \"Topic2\", \"Topic2\", \"Topic2\", \"Topic2\", \"Topic2\", \"Topic2\", \"Topic2\", \"Topic2\", \"Topic2\", \"Topic2\", \"Topic2\", \"Topic2\", \"Topic2\", \"Topic2\", \"Topic2\", \"Topic2\", \"Topic2\", \"Topic2\", \"Topic2\", \"Topic2\", \"Topic2\", \"Topic2\", \"Topic2\", \"Topic2\", \"Topic2\", \"Topic2\", \"Topic2\", \"Topic2\", \"Topic2\", \"Topic2\", \"Topic2\", \"Topic2\", \"Topic2\", \"Topic2\", \"Topic2\", \"Topic2\", \"Topic2\", \"Topic2\", \"Topic2\", \"Topic2\", \"Topic2\", \"Topic2\", \"Topic2\", \"Topic2\", \"Topic2\", \"Topic2\", \"Topic2\", \"Topic2\", \"Topic2\", \"Topic2\", \"Topic2\", \"Topic2\", \"Topic2\", \"Topic2\", \"Topic2\", \"Topic2\", \"Topic2\", \"Topic2\", \"Topic2\", \"Topic2\", \"Topic2\", \"Topic2\", \"Topic2\", \"Topic2\", \"Topic2\", \"Topic2\", \"Topic2\", \"Topic2\", \"Topic2\", \"Topic2\", \"Topic2\", \"Topic2\", \"Topic2\", \"Topic2\", \"Topic2\", \"Topic2\", \"Topic2\", \"Topic2\", \"Topic2\", \"Topic2\", \"Topic2\", \"Topic2\", \"Topic2\", \"Topic2\", \"Topic2\", \"Topic2\", \"Topic3\", \"Topic3\", \"Topic3\", \"Topic3\", \"Topic3\", \"Topic3\", \"Topic3\", \"Topic3\", \"Topic3\", \"Topic3\", \"Topic3\", \"Topic3\", \"Topic3\", \"Topic3\", \"Topic3\", \"Topic3\", \"Topic3\", \"Topic3\", \"Topic3\", \"Topic3\", \"Topic3\", \"Topic3\", \"Topic3\", \"Topic3\", \"Topic3\", \"Topic3\", \"Topic3\", \"Topic3\", \"Topic3\", \"Topic3\", \"Topic3\", \"Topic3\", \"Topic3\", \"Topic3\", \"Topic3\", \"Topic3\", \"Topic3\", \"Topic3\", \"Topic3\", \"Topic3\", \"Topic3\", \"Topic3\", \"Topic3\", \"Topic3\", \"Topic3\", \"Topic3\", \"Topic3\", \"Topic3\", \"Topic3\", \"Topic3\", \"Topic3\", \"Topic3\", \"Topic3\", \"Topic3\", \"Topic3\", \"Topic3\", \"Topic3\", \"Topic3\", \"Topic3\", \"Topic3\", \"Topic3\", \"Topic3\", \"Topic3\", \"Topic3\", \"Topic3\", \"Topic3\", \"Topic3\", \"Topic3\", \"Topic3\", \"Topic3\", \"Topic3\", \"Topic3\", \"Topic3\", \"Topic3\", \"Topic3\", \"Topic3\", \"Topic3\", \"Topic3\", \"Topic3\", \"Topic3\", \"Topic3\", \"Topic3\", \"Topic4\", \"Topic4\", \"Topic4\", \"Topic4\", \"Topic4\", \"Topic4\", \"Topic4\", \"Topic4\", \"Topic4\", \"Topic4\", \"Topic4\", \"Topic4\", \"Topic4\", \"Topic4\", \"Topic4\", \"Topic4\", \"Topic4\", \"Topic4\", \"Topic4\", \"Topic4\", \"Topic4\", \"Topic4\", \"Topic4\", \"Topic4\", \"Topic4\", \"Topic4\", \"Topic4\", \"Topic4\", \"Topic4\", \"Topic4\", \"Topic4\", \"Topic4\", \"Topic4\", \"Topic4\", \"Topic4\", \"Topic4\", \"Topic4\", \"Topic4\", \"Topic4\", \"Topic4\", \"Topic4\", \"Topic4\", \"Topic4\", \"Topic4\", \"Topic4\", \"Topic4\", \"Topic4\", \"Topic4\", \"Topic4\", \"Topic4\", \"Topic4\", \"Topic4\", \"Topic4\", \"Topic4\", \"Topic4\", \"Topic4\", \"Topic4\", \"Topic4\", \"Topic4\", \"Topic4\", \"Topic4\", \"Topic4\", \"Topic4\", \"Topic4\", \"Topic4\", \"Topic4\", \"Topic4\", \"Topic4\", \"Topic4\", \"Topic4\", \"Topic4\", \"Topic4\", \"Topic4\", \"Topic4\", \"Topic4\", \"Topic4\", \"Topic4\", \"Topic4\", \"Topic4\", \"Topic4\", \"Topic4\", \"Topic4\", \"Topic4\", \"Topic5\", \"Topic5\", \"Topic5\", \"Topic5\", \"Topic5\", \"Topic5\", \"Topic5\", \"Topic5\", \"Topic5\", \"Topic5\", \"Topic5\", \"Topic5\", \"Topic5\", \"Topic5\", \"Topic5\", \"Topic5\", \"Topic5\", \"Topic5\", \"Topic5\", \"Topic5\", \"Topic5\", \"Topic5\", \"Topic5\", \"Topic5\", \"Topic5\", \"Topic5\", \"Topic5\", \"Topic5\", \"Topic5\", \"Topic5\", \"Topic5\", \"Topic5\", \"Topic5\", \"Topic5\", \"Topic5\", \"Topic5\", \"Topic5\", \"Topic5\", \"Topic5\", \"Topic5\", \"Topic5\", \"Topic5\", \"Topic5\", \"Topic5\", \"Topic5\", \"Topic5\", \"Topic5\", \"Topic5\", \"Topic5\", \"Topic5\", \"Topic5\", \"Topic5\", \"Topic5\", \"Topic5\", \"Topic5\", \"Topic5\", \"Topic5\", \"Topic5\", \"Topic5\", \"Topic5\", \"Topic5\", \"Topic5\", \"Topic5\", \"Topic5\", \"Topic5\", \"Topic5\", \"Topic5\", \"Topic5\", \"Topic5\", \"Topic5\", \"Topic5\", \"Topic5\", \"Topic5\", \"Topic5\", \"Topic5\", \"Topic5\", \"Topic5\", \"Topic5\", \"Topic5\", \"Topic5\", \"Topic5\", \"Topic5\", \"Topic5\", \"Topic5\", \"Topic5\"], \"logprob\": [30.0, 29.0, 28.0, 27.0, 26.0, 25.0, 24.0, 23.0, 22.0, 21.0, 20.0, 19.0, 18.0, 17.0, 16.0, 15.0, 14.0, 13.0, 12.0, 11.0, 10.0, 9.0, 8.0, 7.0, 6.0, 5.0, 4.0, 3.0, 2.0, 1.0, -8.3719, -8.3735, -8.1418, -8.4826, -8.7778, -8.6618, -8.278, -8.9404, -8.9424, -8.4552, -8.1774, -8.9659, -8.9702, -9.1342, -9.1343, -9.1342, -9.1344, -9.1347, -9.1347, -9.1348, -9.1352, -9.1352, -9.1353, -9.1352, -9.1353, -9.1354, -9.1353, -9.1354, -9.1354, -9.1355, -8.1316, -8.462, -4.9068, -4.6138, -4.5254, -6.6741, -4.711, -7.6212, -8.4776, -4.5249, -4.8295, -8.039, -8.8777, -4.9273, -7.295, -8.5198, -8.2175, -5.5837, -6.8048, -7.1593, -3.2039, -6.1247, -4.8808, -6.801, -7.3985, -4.7157, -5.6376, -5.7393, -5.5219, -4.1508, -4.9206, -6.5762, -5.0833, -6.3799, -5.3503, -5.3263, -4.9265, -5.3657, -6.0044, -5.5408, -4.8968, -5.633, -5.3077, -5.4903, -5.9605, -5.4822, -5.1215, -5.4339, -5.2468, -5.5887, -5.576, -8.4008, -8.7673, -8.772, -8.3044, -8.9612, -8.9613, -8.9614, -8.9612, -8.9614, -8.9613, -8.9614, -8.9612, -8.9614, -8.9619, -8.9615, -8.962, -8.962, -8.962, -8.9623, -8.9624, -8.9621, -8.9625, -8.9624, -8.9629, -8.9627, -8.9628, -8.9629, -8.963, -8.9633, -8.9633, -8.2671, -8.4444, -7.2503, -8.459, -6.5775, -6.9324, -8.0301, -5.4744, -4.1951, -8.3347, -5.8958, -6.1049, -8.3279, -5.267, -8.1509, -7.8234, -4.7743, -8.8309, -8.8311, -5.1912, -4.4834, -6.816, -5.0757, -6.5553, -5.2087, -5.0428, -5.2018, -6.0587, -6.5156, -4.2248, -5.7857, -6.4219, -6.5502, -5.4649, -3.6269, -5.2452, -6.201, -5.8521, -6.371, -5.5729, -5.0828, -4.8778, -5.4046, -5.3473, -5.8222, -5.5623, -5.4399, -5.6076, -5.2361, -5.3238, -5.4607, -5.5583, -5.6259, -5.7574, -5.7301, -5.692, -5.7529, -8.0145, -8.212, -8.0386, -4.999, -8.2904, -8.2718, -7.9279, -8.6797, -8.592, -8.2101, -8.6991, -8.7023, -8.4505, -8.0629, -8.8692, -8.8692, -8.8692, -8.8694, -8.8696, -8.8693, -8.8701, -8.8701, -8.8703, -8.8707, -8.8705, -8.8706, -8.8707, -8.871, -8.8711, -8.8714, -4.9527, -8.2372, -7.5124, -8.018, -6.7652, -8.5958, -8.1179, -7.6762, -8.0328, -8.3921, -5.839, -7.2288, -3.1343, -6.7036, -6.7628, -7.5025, -5.9501, -6.0675, -5.6293, -5.327, -5.2612, -6.5182, -4.6308, -5.1516, -5.9122, -5.4314, -5.9802, -4.8999, -5.2463, -6.6742, -6.3879, -5.2219, -6.0524, -5.5789, -4.4975, -5.8959, -5.2054, -5.1352, -5.8223, -5.4281, -4.9834, -5.2847, -5.6803, -5.4567, -5.1279, -5.4055, -5.589, -5.5603, -5.3824, -5.4781, -5.6382, -5.7814, -8.6039, -8.611, -8.1333, -8.4878, -8.142, -8.071, -8.6361, -8.7974, -8.7977, -8.7976, -8.7981, -8.7978, -8.7978, -8.7981, -8.7981, -8.7983, -8.7985, -8.7983, -8.7984, -8.7984, -8.7983, -8.7982, -8.7984, -8.7985, -8.7987, -8.7988, -8.7988, -8.799, -8.799, -8.7991, -7.812, -6.391, -7.4566, -8.3067, -8.5429, -5.9559, -4.7623, -8.6621, -7.9859, -7.0702, -7.487, -5.8912, -5.558, -7.22, -4.5028, -5.5642, -7.3866, -7.7909, -7.484, -4.9487, -8.6707, -4.4678, -6.0726, -6.254, -5.5441, -5.992, -5.4955, -5.6737, -5.491, -5.1279, -5.8337, -4.723, -4.8593, -4.7204, -5.6207, -5.5975, -4.3937, -5.9075, -5.4632, -5.3005, -5.6185, -5.5729, -5.3046, -5.0974, -5.211, -5.5154, -4.3686, -5.5393, -5.3902, -5.5748, -5.5933, -5.4685, -5.5564, -8.0644, -8.3656, -8.5271, -8.5281, -8.5295, -8.5512, -8.3075, -8.7207, -8.7206, -8.7207, -8.7209, -8.7211, -8.7212, -8.7211, -8.7215, -8.7217, -8.722, -8.7221, -8.7223, -8.7223, -8.7224, -8.7227, -8.7228, -8.7227, -8.7228, -8.7232, -8.7234, -8.7233, -8.7237, -8.7237, -6.0474, -8.2132, -8.5785, -5.3156, -8.5845, -5.1124, -8.3035, -5.0303, -6.5019, -5.237, -4.7953, -7.5638, -8.2589, -8.1901, -5.0894, -8.4819, -5.9414, -5.6176, -4.8532, -4.9405, -7.0685, -6.8806, -6.6524, -5.1916, -5.6449, -5.9892, -3.5179, -4.7562, -6.3163, -5.8504, -6.5429, -7.2827, -5.8274, -5.6797, -5.1912, -5.0245, -5.4636, -5.891, -5.9422, -4.6397, -5.331, -6.0606, -5.9201, -5.3536, -5.5707, -5.5131, -5.2157, -5.2248, -5.242, -5.3051, -5.222, -5.4963, -5.6217, -5.7195, -5.65], \"loglift\": [30.0, 29.0, 28.0, 27.0, 26.0, 25.0, 24.0, 23.0, 22.0, 21.0, 20.0, 19.0, 18.0, 17.0, 16.0, 15.0, 14.0, 13.0, 12.0, 11.0, 10.0, 9.0, 8.0, 7.0, 6.0, 5.0, 4.0, 3.0, 2.0, 1.0, 1.2424, 1.2407, 1.2357, 1.2251, 1.1876, 1.1875, 1.1706, 1.16, 1.1584, 1.1577, 1.1447, 1.1373, 1.1324, 1.1223, 1.1223, 1.1223, 1.1222, 1.1221, 1.1219, 1.1217, 1.1217, 1.1217, 1.1215, 1.1215, 1.1214, 1.1214, 1.1213, 1.1213, 1.1213, 1.1212, 1.1027, 1.0756, 0.7775, 0.7445, 0.7096, 0.8851, 0.654, 0.9643, 1.0554, 0.6088, 0.6097, 0.9919, 1.0924, 0.5925, 0.8854, 1.0457, 1.0032, 0.6233, 0.8055, 0.857, 0.2467, 0.6954, 0.49, 0.7948, 0.8858, 0.3481, 0.5254, 0.541, 0.4878, 0.1847, 0.2716, 0.6845, 0.2628, 0.6284, 0.3148, 0.3011, 0.1731, 0.2696, 0.4476, 0.2832, 0.042, 0.307, 0.1419, 0.2098, 0.418, 0.1271, -0.2863, -0.0801, -0.3397, -0.0266, -0.0889, 1.3012, 1.2945, 1.2905, 1.2782, 1.2587, 1.2587, 1.2586, 1.2586, 1.2586, 1.2586, 1.2586, 1.2586, 1.2584, 1.2584, 1.2584, 1.2581, 1.258, 1.2579, 1.2579, 1.2578, 1.2577, 1.2576, 1.2576, 1.2574, 1.2573, 1.2573, 1.2572, 1.2572, 1.2569, 1.2569, 1.2235, 1.2291, 1.1253, 1.2151, 1.0448, 1.061, 1.1661, 0.8752, 0.7328, 1.1862, 0.8475, 0.8502, 1.1658, 0.697, 1.1357, 1.0784, 0.5794, 1.2381, 1.2379, 0.5753, 0.4238, 0.855, 0.5124, 0.7869, 0.504, 0.4155, 0.4257, 0.621, 0.7217, 0.1106, 0.5066, 0.6518, 0.6856, 0.3772, -0.1763, 0.2855, 0.5793, 0.4271, 0.6032, 0.3094, 0.0509, -0.0426, 0.1791, 0.1398, 0.3394, 0.1379, -0.0691, 0.0575, -0.2974, -0.2242, -0.2686, -0.2122, -0.2676, 0.0886, -0.2144, -0.6282, -0.3137, 1.489, 1.4698, 1.4678, 1.4578, 1.426, 1.4159, 1.4032, 1.3984, 1.3929, 1.3839, 1.381, 1.3783, 1.3734, 1.3691, 1.3655, 1.3655, 1.3655, 1.3655, 1.3653, 1.3653, 1.3649, 1.3648, 1.3644, 1.3643, 1.3643, 1.3642, 1.3641, 1.3639, 1.3639, 1.3637, 1.321, 1.3543, 1.3124, 1.3251, 1.2418, 1.3497, 1.3191, 1.2582, 1.2723, 1.2977, 0.9072, 1.1001, 0.3163, 0.937, 0.9436, 1.0887, 0.7286, 0.7546, 0.6069, 0.519, 0.4475, 0.8003, 0.2044, 0.364, 0.5892, 0.3995, 0.5751, 0.1639, 0.2844, 0.8082, 0.6958, 0.2364, 0.5482, 0.3264, -0.162, 0.4657, 0.1407, 0.0998, 0.4104, 0.2073, -0.0446, 0.0803, 0.2837, 0.1054, -0.2207, -0.0517, 0.0953, 0.0234, -0.4545, -0.2859, -0.1886, -0.4106, 1.5616, 1.5547, 1.5431, 1.5397, 1.5344, 1.5274, 1.5271, 1.5211, 1.521, 1.5208, 1.5207, 1.5206, 1.5205, 1.5204, 1.5204, 1.5203, 1.5202, 1.5202, 1.5202, 1.5202, 1.5202, 1.5201, 1.5201, 1.5198, 1.5197, 1.5197, 1.5197, 1.5196, 1.5196, 1.5196, 1.4741, 1.2443, 1.3571, 1.4562, 1.48, 1.0458, 0.8269, 1.497, 1.3675, 1.1806, 1.2554, 0.9009, 0.7886, 1.1264, 0.4359, 0.7087, 1.1646, 1.2572, 1.1752, 0.5009, 1.4875, 0.3674, 0.7923, 0.8344, 0.6104, 0.7296, 0.5809, 0.6056, 0.5275, 0.3878, 0.6242, 0.2049, 0.2403, 0.1868, 0.5081, 0.4719, -0.0583, 0.5896, 0.3789, 0.2616, 0.4101, 0.3809, 0.2152, -0.0336, -0.0189, 0.2377, -0.918, 0.2272, -0.0195, 0.1379, 0.042, -0.3348, -0.1914, 1.7592, 1.7094, 1.679, 1.6779, 1.6765, 1.6512, 1.6466, 1.6359, 1.6359, 1.6358, 1.6356, 1.6356, 1.6355, 1.6355, 1.635, 1.6348, 1.6347, 1.6346, 1.6344, 1.6343, 1.634, 1.6339, 1.6338, 1.6338, 1.6337, 1.6331, 1.6331, 1.633, 1.6329, 1.6327, 1.5351, 1.5859, 1.6191, 1.2313, 1.616, 1.086, 1.5659, 0.9423, 1.1794, 0.9176, 0.814, 1.3855, 1.5334, 1.5077, 0.7317, 1.5773, 0.9335, 0.8415, 0.6339, 0.6476, 1.1985, 1.1474, 1.0405, 0.5615, 0.7023, 0.7928, -0.0673, 0.3433, 0.883, 0.6789, 0.927, 1.1832, 0.585, 0.5029, 0.2671, 0.1676, 0.3673, 0.5495, 0.5283, -0.3043, 0.1081, 0.5807, 0.4583, -0.0076, 0.138, 0.0707, -0.277, -0.3177, -0.3141, -0.2413, -0.3868, -0.0467, -0.1019, 0.2343, -0.1193]}, \"token.table\": {\"Topic\": [2, 4, 1, 2, 3, 4, 5, 5, 1, 2, 1, 2, 3, 4, 5, 1, 2, 3, 4, 5, 1, 2, 3, 4, 5, 1, 2, 3, 4, 5, 1, 2, 1, 2, 3, 4, 5, 2, 1, 2, 3, 4, 5, 1, 3, 1, 2, 3, 4, 5, 1, 2, 3, 4, 5, 1, 2, 3, 4, 5, 1, 2, 3, 4, 5, 1, 1, 2, 3, 4, 5, 3, 5, 1, 3, 5, 1, 2, 3, 4, 5, 1, 2, 3, 4, 5, 5, 1, 2, 3, 4, 5, 4, 2, 1, 2, 3, 4, 5, 2, 4, 1, 2, 4, 5, 1, 2, 3, 4, 5, 1, 1, 2, 3, 4, 5, 4, 5, 1, 2, 3, 4, 5, 1, 2, 3, 4, 5, 1, 2, 3, 4, 5, 1, 2, 3, 4, 5, 1, 2, 3, 4, 5, 5, 1, 5, 5, 4, 1, 2, 3, 4, 5, 1, 2, 3, 4, 5, 1, 1, 2, 3, 4, 5, 5, 1, 2, 3, 4, 5, 1, 2, 3, 4, 5, 1, 2, 3, 4, 5, 1, 2, 3, 4, 5, 5, 1, 2, 3, 4, 5, 1, 2, 3, 4, 5, 3, 5, 1, 1, 2, 3, 4, 5, 5, 1, 2, 3, 4, 5, 1, 2, 3, 4, 5, 1, 2, 3, 4, 5, 1, 2, 3, 4, 5, 1, 2, 3, 4, 5, 2, 1, 2, 3, 1, 2, 3, 4, 1, 2, 3, 4, 5, 4, 2, 3, 5, 1, 2, 3, 4, 5, 1, 1, 2, 3, 4, 5, 4, 5, 3, 1, 2, 3, 4, 5, 4, 1, 2, 3, 4, 5, 1, 2, 3, 4, 5, 1, 1, 5, 1, 3, 5, 5, 1, 2, 3, 4, 5, 1, 5, 5, 1, 2, 3, 4, 5, 5, 1, 5, 1, 2, 3, 4, 5, 4, 2, 3, 4, 5, 1, 2, 3, 4, 5, 1, 2, 3, 4, 5, 5, 1, 2, 3, 4, 5, 1, 2, 3, 4, 5, 1, 2, 3, 4, 5, 1, 1, 1, 2, 3, 4, 5, 3, 1, 2, 3, 5, 1, 2, 3, 4, 5, 2, 2, 1, 2, 3, 4, 5, 1, 2, 3, 4, 5, 5, 4, 3, 2, 1, 2, 3, 4, 5, 1, 2, 3, 4, 5, 2, 3, 1, 2, 3, 4, 5, 1, 2, 3, 4, 5, 1, 2, 3, 4, 5, 1, 3, 4, 2, 2, 5, 1, 2, 3, 4, 5, 1, 2, 3, 4, 5, 3, 4, 2, 5, 1, 2, 4, 2, 1, 2, 3, 4, 5, 1, 2, 3, 4, 5, 2, 1, 1, 3, 4, 4, 1, 3, 1, 3, 1, 2, 1, 2, 3, 4, 5, 1, 2, 3, 4, 5, 4, 1, 2, 3, 4, 5, 1, 2, 3, 4, 5, 4, 1, 5, 1, 2, 3, 4, 5, 5, 1, 2, 3, 4, 5, 1, 2, 3, 4, 5, 2, 1, 2, 3, 4, 5, 1, 2, 3, 4, 5, 1, 2, 3, 4, 5, 2, 2, 3, 1, 2, 3, 4, 5, 3, 4, 1, 1, 3, 1, 2, 3, 4, 5, 1, 2, 3, 4, 5, 1, 1, 2, 3, 4, 5, 1, 2, 3, 4, 5, 1, 2, 3, 4, 3, 3, 4, 1, 2, 3, 4, 5, 1, 2, 3, 4, 5, 2, 1, 2, 3, 4, 5, 1, 2, 3, 4, 5, 1, 2, 3, 4, 5, 2, 1, 2, 3, 4, 5, 1, 2, 3, 4, 5, 1, 2, 3, 4, 5, 1, 2, 3, 4, 5, 1, 3, 3, 3, 1, 2, 1, 2, 3, 4, 5, 1, 2, 3, 4, 5, 1, 3, 4, 5, 5, 1, 2, 3, 4, 5, 2, 4, 1, 2, 3, 4, 5, 1, 2, 3, 4, 5, 3, 1, 2, 3, 4, 5, 1, 2, 3, 4, 5, 1, 2, 3, 4, 5, 1, 2, 3, 2, 3, 4, 5, 3, 2, 4, 2, 3, 5, 1, 2, 3, 4, 5, 1, 2, 3, 4, 5, 1, 4, 1, 2, 3, 4, 5, 1, 2, 3, 4, 5, 1, 2, 3, 4, 5, 1, 4, 2, 4, 2, 4, 1, 2, 3, 4, 5, 1, 2, 3, 4, 5, 1, 4, 2, 5, 1, 2, 3, 4, 5, 3, 1, 3, 1, 2, 5, 1, 2, 3, 4, 5, 1, 2, 3, 4, 5, 1, 2, 3, 4, 5, 2, 4, 3, 4, 1, 2, 4, 1, 3, 1, 1, 2, 3, 4, 5, 1, 3, 1, 2, 3, 4, 5, 1, 2, 3, 4, 5, 3, 1, 3, 1, 2, 3, 4, 5, 4, 1, 2, 3, 4, 5, 1, 2, 3, 4, 5, 1, 2, 3, 4, 5, 1, 2, 3, 4, 5, 1, 2, 3, 4, 5, 1, 2, 3, 4, 5, 3, 1, 2, 3, 4, 5, 5, 2, 2, 5, 1, 2, 3, 4, 5, 3, 2, 3, 4, 1, 2, 3, 4, 5, 1, 2, 3, 4, 5, 4, 1, 2, 3, 4, 5, 1, 2, 5, 1, 2, 3, 4, 5, 1, 3, 1, 4, 5, 4, 2, 1, 4, 2, 5, 4, 4, 1, 3, 4, 1, 2, 3, 1, 2, 3, 4, 5, 1, 2, 3, 4, 5, 1, 2, 3, 4, 5, 2, 1, 2, 3, 4, 5, 1, 2, 3, 4, 5, 5, 1, 2, 3, 4, 5, 3, 1, 2, 3, 4, 5, 1, 5, 5, 3, 3, 4, 1, 1, 2, 3, 1, 2, 3, 4, 5, 3, 4, 5, 2, 1, 2, 3, 4, 5, 2, 1, 2, 3, 4, 5, 1, 2, 3, 4, 5, 1, 2, 3, 4, 5, 1, 2, 3, 5, 1, 2, 3, 4, 5, 1, 2, 3, 4, 5, 2, 1, 2, 3, 4, 5, 5, 2, 3, 1], \"Freq\": [0.7468876970361414, 0.14937753940722828, 0.29522630905704234, 0.19450203890816908, 0.11809052362281694, 0.0833580166749296, 0.3056460611414086, 0.6478690690850284, 0.1635974838494907, 0.8179874192474534, 0.07645556094820827, 0.08737778394080946, 0.7590944979857821, 0.04915000346670532, 0.032766668977803545, 0.3981371990608548, 0.20233201919486066, 0.20233201919486066, 0.09137575060413061, 0.10442942926186356, 0.12153347122799638, 0.43752049642078694, 0.20660690108759383, 0.0972267769823971, 0.13368681835079602, 0.18426233331493952, 0.2693064871526039, 0.17953765810173594, 0.27875583757901107, 0.0850441538376644, 0.7699007721986402, 0.15398015443972804, 0.2572085105219073, 0.22584161899484542, 0.15683445763530932, 0.10037405288659797, 0.26348188882731965, 0.8476526189106252, 0.08672205333715251, 0.4705737648294669, 0.12795057049743813, 0.2061425858014281, 0.10804714842005886, 0.16629296033122395, 0.6651718413248958, 0.4625290243023148, 0.06937935364534722, 0.12591067883785237, 0.20813806093604167, 0.13361949590955763, 0.1248933033065544, 0.17747995733036678, 0.10517330804762476, 0.2497866066131088, 0.34181325115478045, 0.5400267921965076, 0.17272111977135263, 0.09838544797102365, 0.10275813454751359, 0.08526738824155383, 0.25773427133650195, 0.25247438824800195, 0.37345169928350286, 0.07363836323900057, 0.047338947796500365, 0.8794306013996852, 0.20903913864154514, 0.41807827728309027, 0.12102265921352613, 0.16503089892753564, 0.088016479428019, 0.8602344203390859, 0.6478739445874583, 0.6883770086839824, 0.0860471260854978, 0.1720942521709956, 0.2169736817362572, 0.3783130861042433, 0.1335222656838506, 0.055634277368271076, 0.2169736817362572, 0.14739226841914835, 0.3431098707462142, 0.2561242697119627, 0.06040666738489687, 0.19330133563166996, 0.6477522532789954, 0.04207146015779101, 0.6521076324457605, 0.08414292031558201, 0.16828584063116403, 0.06310719023668651, 0.7969772390274831, 0.8477854340345623, 0.18241798093596176, 0.3453409104741872, 0.1629229295382254, 0.20191303233369814, 0.10722278268755005, 0.7237415524763664, 0.8029353753773663, 0.11878216931729954, 0.11878216931729954, 0.7126930159037972, 0.11878216931729954, 0.435097467547483, 0.16621701007431935, 0.11732965417010778, 0.10755218298926546, 0.17599448125516168, 0.8793048136118203, 0.29533106217013394, 0.10601627872774039, 0.3483392015340041, 0.14387923541621908, 0.10601627872774039, 0.6237223434923901, 0.6478253328393456, 0.21589736080635555, 0.5289485339755711, 0.06476920824190667, 0.16192302060476665, 0.021589736080635556, 0.12863021916649134, 0.44305964379569235, 0.2000914520367643, 0.08575347944432755, 0.12863021916649134, 0.24005993419720126, 0.40119605441176104, 0.0559043682377044, 0.2104635039537107, 0.09207778297974843, 0.17405272376440697, 0.30134501427867477, 0.27017139211191527, 0.12469448866703782, 0.12989009236149773, 0.061810883870214425, 0.030905441935107213, 0.7108251645074659, 0.18543265161064326, 0.030905441935107213, 0.8663566931496051, 0.8058783556451651, 0.11512547937788073, 0.6478881308124341, 0.6237048176170992, 0.1583297633506926, 0.2374946450260389, 0.09047415048611006, 0.4749892900520778, 0.04523707524305503, 0.1562222527554041, 0.3173264509094146, 0.21968754293728704, 0.19527781594425514, 0.10740279876934032, 0.8793823259249676, 0.17425649259571846, 0.14674230955428924, 0.2017706756371477, 0.41271274562143845, 0.055028366082858465, 0.6478854844528986, 0.28234774760281234, 0.09820791220967384, 0.4051076378649046, 0.14731186831451076, 0.07365593415725538, 0.12527229252755695, 0.23842145997180195, 0.08082083388874642, 0.17780583455524213, 0.37985791927710816, 0.09968862807135202, 0.4078171148373492, 0.2537528714543506, 0.045313012759705465, 0.19937725614270405, 0.6248909209556196, 0.03675828946797762, 0.14703315787191049, 0.14703315787191049, 0.03675828946797762, 0.8359856305300665, 0.20812637726291547, 0.18659606237364837, 0.07176771629755706, 0.03588385814877853, 0.5023740140828994, 0.5128457514359429, 0.1611800933084392, 0.14652735755312654, 0.08791641453187592, 0.08791641453187592, 0.8606568698584042, 0.7218204887046956, 0.8793505220358689, 0.06772945215971883, 0.3838002289050734, 0.09030593621295845, 0.04515296810647922, 0.406376712958313, 0.6478448158228678, 0.19271634451589031, 0.06131883689141964, 0.4993105289729885, 0.11387783994120791, 0.14015734146610204, 0.3206590714760785, 0.08016476786901963, 0.040082383934509816, 0.040082383934509816, 0.4809886072141178, 0.32907265247383116, 0.13550050395981283, 0.13550050395981283, 0.14840531386074737, 0.2580961980186911, 0.15081981924207982, 0.19290907112359046, 0.30163963848415964, 0.1438049439284947, 0.21395369706434578, 0.15571776682926783, 0.41797926885750836, 0.18850045458279788, 0.12293507907573775, 0.10654373519897271, 0.8478898703127031, 0.1404431121444117, 0.7022155607220585, 0.1404431121444117, 0.10150598393008758, 0.7105418875106131, 0.10150598393008758, 0.623765363676942, 0.2496121844823321, 0.2369200395086542, 0.12269073474555307, 0.28345790441213986, 0.10999858977187517, 0.6236305305115332, 0.16763961192516663, 0.16763961192516663, 0.6705584477006665, 0.3351511346423764, 0.17220472663945308, 0.15183642563908764, 0.16479807173022928, 0.17405639036675902, 0.8464907702679546, 0.17094474320836478, 0.11966132024585535, 0.1538502688875283, 0.3504367235771478, 0.213680929010456, 0.6237131131722976, 0.6478515937310808, 0.8605940165499331, 0.060646394358471835, 0.040430929572314554, 0.14150825350310095, 0.060646394358471835, 0.6873258027293475, 0.6236536615169761, 0.5926623545769037, 0.031192755504047567, 0.12477102201619027, 0.06238551100809513, 0.15596377752023782, 0.3506418610411285, 0.24069483681636786, 0.14263397737266245, 0.13669089498213485, 0.13074781259160723, 0.7521788016337939, 0.19901362820338506, 0.7960545128135402, 0.7342218148850931, 0.1468443629770186, 0.1468443629770186, 0.6477589035922435, 0.10867919014845362, 0.13973038733372609, 0.4502423591864507, 0.2484095774821797, 0.04657679577790869, 0.8793120261383612, 0.6479392425269858, 0.6477850257601632, 0.3908108439311154, 0.0651351406551859, 0.36186189252881057, 0.13750751916094803, 0.04342342710345727, 0.6479292373169424, 0.8793740065861702, 0.6476847088994612, 0.20880871310103535, 0.2451232719012154, 0.14525823520072026, 0.07262911760036013, 0.32683102920162055, 0.6236958417376132, 0.6806039373464559, 0.07562265970516176, 0.15124531941032351, 0.07562265970516176, 0.5736588326072699, 0.14341470815181748, 0.06146344635077892, 0.16390252360207713, 0.06146344635077892, 0.1779961036880969, 0.05933203456269897, 0.1779961036880969, 0.5339883110642908, 0.05933203456269897, 0.8358743947792536, 0.17727396361903794, 0.12474834476895262, 0.19040536833155927, 0.3151537131005119, 0.19697107068781994, 0.15896125396660366, 0.4927798872964713, 0.12716900317328292, 0.06358450158664146, 0.15896125396660366, 0.18670716462334652, 0.3459573932726715, 0.1098277438960862, 0.30751768290904136, 0.049422484753238786, 0.8795515973631229, 0.8794139442278519, 0.21734490581953747, 0.15860303938182466, 0.15860303938182466, 0.37007375855759084, 0.09398698630034052, 0.8538960116381744, 0.6613868371713939, 0.2204622790571313, 0.05511556976428283, 0.05511556976428283, 0.25925215040688965, 0.27919462351511193, 0.15455416658872267, 0.05982741932466684, 0.24429529557572294, 0.8477374237383767, 0.7288643201435141, 0.3345816233797075, 0.14421621697401185, 0.24805189319530038, 0.17594378470829444, 0.09806702754232806, 0.18074733727527664, 0.37396000815574476, 0.11218800244672343, 0.19321267088046815, 0.14023500305840428, 0.6478003609744145, 0.6236405976092391, 0.7374375097066219, 0.8477366330238444, 0.1775404173775555, 0.1479503478146296, 0.10849692173072836, 0.3748075477970616, 0.1972671304195061, 0.19343426217616855, 0.12895617478411237, 0.06447808739205618, 0.5803027865285056, 0.06447808739205618, 0.8475865075101215, 0.8603520940095492, 0.31697091883428086, 0.2585005551658213, 0.17541109100537874, 0.15386937807489362, 0.09539901440643406, 0.34135572567325095, 0.1532617543839086, 0.19506041467042912, 0.16371141945553871, 0.14977853269336522, 0.3880950347621398, 0.13340766819948555, 0.13340766819948555, 0.10915172852685182, 0.2304314268900205, 0.11757845059135585, 0.7054707035481351, 0.11757845059135585, 0.8476028703877959, 0.8477398704591724, 0.6478542378125297, 0.2372420322282598, 0.40483502747207634, 0.19153485170721893, 0.10012049066513716, 0.0674725045786794, 0.5573380682131083, 0.09995737092952485, 0.22414683178135877, 0.054522202325195376, 0.0666382472863499, 0.17891673984363302, 0.7156669593745321, 0.8476900523177834, 0.6478906411421954, 0.7382114973717762, 0.10545878533882516, 0.10545878533882516, 0.8479706231079243, 0.2644907859544911, 0.1704496176151165, 0.05289815719089822, 0.2115926287635929, 0.2997562240817566, 0.3081664978835196, 0.25313676611860536, 0.17216444652166016, 0.15801394406782507, 0.1084871854794023, 0.847780499920282, 0.8794070328974505, 0.710753797548857, 0.1421507595097714, 0.1421507595097714, 0.6235038824457845, 0.9251814347195932, 0.8603048583404218, 0.11616378088960923, 0.8131464662272646, 0.752452627753749, 0.8475250775821613, 0.0631245447415143, 0.15781136185378575, 0.2524981789660572, 0.0631245447415143, 0.4734340855613573, 0.1762813296782115, 0.19038383605246842, 0.18333258286533996, 0.16217882330395458, 0.28910138067226687, 0.6235124263874038, 0.10481228792638415, 0.5240614396319208, 0.11354664525358284, 0.12228100258078152, 0.1310153599079802, 0.10655700572450374, 0.14917980801430525, 0.14917980801430525, 0.5754078309123202, 0.02131140114490075, 0.8027663806887094, 0.8795162829692279, 0.8359140051524263, 0.17722733947963312, 0.31014784408935797, 0.18091957571879214, 0.17353510324047408, 0.162458394522997, 0.7332788494197273, 0.2673084127213133, 0.16814561445372933, 0.19401417052353384, 0.26012270270192317, 0.11209707630248622, 0.19036744749127812, 0.24985727483230255, 0.1269116316608521, 0.24589128634290092, 0.18640145900187652, 0.8479178651239363, 0.22915157930234795, 0.08966800929222311, 0.22915157930234795, 0.07970489714864276, 0.37859826145605313, 0.18062538757337626, 0.144500310058701, 0.10837523254402576, 0.18062538757337626, 0.3793133139040901, 0.23593699056913292, 0.16025908793375065, 0.21367878391166753, 0.2670984798895844, 0.12019431595031299, 0.84779161328702, 0.15073507572886985, 0.7536753786443492, 0.1972049635103178, 0.15776397080825424, 0.03944099270206356, 0.5521738978288898, 0.07888198540412712, 0.86026546164175, 0.7976371426698378, 0.6602276106590004, 0.21005027099406404, 0.7701843269782348, 0.5819720870639368, 0.1247083043708436, 0.0831388695805624, 0.0623541521854218, 0.1662777391611248, 0.14140486719647774, 0.5420519909198314, 0.07070243359823887, 0.12962112826343794, 0.11194551986387821, 0.8793785468422994, 0.1746198633032908, 0.24555918277025268, 0.1637061218468351, 0.3383259851501259, 0.07639619019518971, 0.12104817312225441, 0.2600294089292872, 0.1300147044646436, 0.3003787999700387, 0.18381389251897892, 0.6117054572944141, 0.2446821829177656, 0.0815607276392552, 0.0407803638196276, 0.8934605654440086, 0.7355711567742443, 0.6235958202328916, 0.19394887388578988, 0.1782232895166718, 0.3040279644696166, 0.2463674884495169, 0.0786279218455905, 0.20215863431186448, 0.18168687387521998, 0.2917225862221842, 0.24822009529431463, 0.0767691016374169, 0.8477073209315267, 0.08678253560121414, 0.1301738034018212, 0.17356507120242828, 0.5206952136072848, 0.04339126780060707, 0.0327899472726907, 0.0327899472726907, 0.8722125974535727, 0.026231957818152563, 0.03934793672722885, 0.34813502965192905, 0.17993495914594085, 0.21905125461244973, 0.1290837750394793, 0.12126051594617752, 0.8476814836848366, 0.47156392215468024, 0.23752849412235744, 0.09431278443093605, 0.12051078010619605, 0.0768474539807627, 0.21758958634235886, 0.1680122122390366, 0.12394343525830567, 0.38284750002009976, 0.10741764389053159, 0.3631849138990274, 0.12051876066604497, 0.23778025753030493, 0.16286319008924996, 0.11563286496336747, 0.19534936632220237, 0.37694173501608064, 0.09079618434693912, 0.05502799051329644, 0.2806427516178118, 0.1285031733741456, 0.7710190402448736, 0.7370560207378554, 0.9661044230363793, 0.7281679896422677, 0.20804799704064791, 0.2946308346161393, 0.1197686319577802, 0.1676760847408923, 0.27786322614205006, 0.14132698571018065, 0.06098006694166776, 0.6402907028875114, 0.09147010041250163, 0.12196013388333551, 0.09147010041250163, 0.11317842252411194, 0.6790705351446715, 0.11317842252411194, 0.11317842252411194, 0.7603712726809077, 0.4397599193755631, 0.09344898286730716, 0.23087395767217062, 0.1539159717814471, 0.08245498488291808, 0.7288923308077042, 0.6236781813103935, 0.18606982649121392, 0.4723310980161584, 0.18606982649121392, 0.10019144503373056, 0.0572522543049889, 0.2702015447706421, 0.06550340479288293, 0.4175842055546287, 0.2210739911759799, 0.0245637767973311, 0.8603864835753464, 0.1958345330633347, 0.2456833232976381, 0.341820275892366, 0.05340941810818219, 0.1602282543245466, 0.2871392060150394, 0.12467886576968815, 0.27958291111990674, 0.1926855198258817, 0.11334442342698924, 0.2693101041265757, 0.13303270203842896, 0.12329860188927562, 0.21415020328137344, 0.25957600397742236, 0.13667548868001356, 0.6833774434000678, 0.13667548868001356, 0.06924542848548247, 0.2769817139419299, 0.6232088563693423, 0.8289691513088887, 0.8603739109312967, 0.16407913665477866, 0.8203956832738933, 0.23438840870966277, 0.7031652261289882, 0.8329388448533297, 0.23277737693086975, 0.2110514884173219, 0.31657723262598286, 0.07138506225880006, 0.16759971139022622, 0.2337705867716283, 0.26112671926618053, 0.10942452997820898, 0.11937221452168252, 0.27853516721725924, 0.8795297751789317, 0.6234933352572933, 0.24546728992571923, 0.04463041635013077, 0.08926083270026154, 0.1562064572254577, 0.4686193716763731, 0.23557596176002293, 0.27118628156095664, 0.208183408066997, 0.12600574698791925, 0.15887681141955035, 0.18377701849088732, 0.14958594528328037, 0.21796809169849427, 0.2521591649061012, 0.19232478679278905, 0.8793175206855588, 0.8008937719478745, 0.8475787815724827, 0.6235762786447065, 0.8476649301780464, 0.6960632396450394, 0.41841147645153953, 0.21031264689363097, 0.1350428574790683, 0.1638224828434599, 0.07084215474311781, 0.24929539231374157, 0.18496109752309858, 0.22517003176725045, 0.21712824491842006, 0.12330739834873239, 0.8518528357149778, 0.6236365297447193, 0.8477960833975854, 0.6479106291908604, 0.12793328956659325, 0.12793328956659325, 0.5970220179774351, 0.04264442985553108, 0.08528885971106216, 0.8604308869913011, 0.7838567480980196, 0.13064279134966994, 0.11111317809016857, 0.6666790685410114, 0.11111317809016857, 0.06864618609563265, 0.16017443422314284, 0.5262874267331836, 0.16017443422314284, 0.06864618609563265, 0.3277495971744454, 0.18983516271985204, 0.2777758962191339, 0.06717244219317842, 0.1375899299029355, 0.5199212365821503, 0.06764774453671099, 0.22420395332167073, 0.10050522045454205, 0.08890846424824873, 0.8416938358174809, 0.6237226015525215, 0.16408125630005327, 0.8204062815002663, 0.08753568506697161, 0.2626070552009149, 0.6127497954688014, 0.8793640210845007, 0.8305519493892136, 0.7538061257504559, 0.07559914702566384, 0.12284861391670374, 0.43469509539756707, 0.20789765432057555, 0.16064818742953565, 0.8792402535447811, 0.8602657852155832, 0.15605673676813717, 0.32984719362356263, 0.17733720087288316, 0.24472533720457873, 0.08866860043644158, 0.29341821209633945, 0.0489030353493899, 0.0978060706987798, 0.0489030353493899, 0.48903035349389906, 0.7606770837479172, 0.8762405961308084, 0.8605728912745187, 0.47813239605799024, 0.22768209336094772, 0.09107283734437908, 0.04553641867218954, 0.14799336068461602, 0.6993274663773995, 0.289455163241862, 0.17142490250246198, 0.07587659618961431, 0.12927123795267623, 0.33160882779164774, 0.11043160285927557, 0.5300716937245228, 0.19877688514669603, 0.11043160285927557, 0.04417264114371023, 0.4802083762634146, 0.1328235934345615, 0.14304079292952776, 0.18901819065687597, 0.061303196969797615, 0.26816150743053263, 0.15774206319443096, 0.2129517853124818, 0.10253234107638012, 0.26027440427081106, 0.1851624213520632, 0.16458881897961175, 0.3634669752466426, 0.23316749355445, 0.05486293965987058, 0.4930351319627324, 0.10344933572432333, 0.22010496962621984, 0.13866613086451848, 0.04622204362150616, 0.8603707999002677, 0.4717354126879509, 0.1659370798399827, 0.07822748049599185, 0.1208970153119874, 0.16356655012798296, 0.6478807813456665, 0.8475431353355635, 0.18548942106149188, 0.7419576842459675, 0.20968504444335645, 0.12334414379020968, 0.22201945882237742, 0.38236684574965, 0.06167207189510484, 0.7554402976705236, 0.8479264850403568, 0.8297064598986048, 0.6235805577394842, 0.19178268744146074, 0.21640343785624286, 0.24879916208621933, 0.24232001724022403, 0.09977883062832754, 0.19282513418327474, 0.06427504472775825, 0.514200357822066, 0.171400119274022, 0.085700059637011, 0.6237788843405745, 0.41519805229257156, 0.2013081465660953, 0.1467871902044445, 0.10904191272330162, 0.12581759160380956, 0.7140533971995084, 0.1428106794399017, 0.1428106794399017, 0.13220926198432406, 0.4527165637645036, 0.26842486524090037, 0.048076095267026935, 0.09615219053405387, 0.8795022644910444, 0.8602756074635163, 0.11106454193927971, 0.777451793574958, 0.8313688606182741, 0.6236718938705927, 0.7241726304393885, 0.8794952306950904, 0.6235946008335049, 0.18425688787438604, 0.7370275514975442, 0.623710957593336, 0.6235962434140425, 0.1291429155194498, 0.7748574931166989, 0.1291429155194498, 0.16370421857441972, 0.8185210928720986, 0.8604907852565715, 0.612205525355079, 0.11849139200420883, 0.03949713066806961, 0.15798852267227845, 0.059245696002104414, 0.3326151781925773, 0.1835862996517472, 0.23326259249869055, 0.10367226333275135, 0.14686903972139775, 0.1130266233091645, 0.2925394956237199, 0.13962112291132087, 0.19945874701617267, 0.25264774622048536, 0.8478728855671317, 0.18289958666526507, 0.10973975199915904, 0.45724896666316267, 0.09144979333263253, 0.14631966933221205, 0.3462649152527798, 0.3462649152527798, 0.08871249894905929, 0.11732943409391713, 0.10015927300700243, 0.6478425079177249, 0.07929608487914695, 0.1585921697582939, 0.1585921697582939, 0.07929608487914695, 0.5550725941540287, 0.8605243949352298, 0.06889907403148895, 0.26181648131965807, 0.1377981480629779, 0.19291740728816908, 0.3582751849637426, 0.7801918603830714, 0.6476563661150827, 0.6477590556303562, 0.824878674067068, 0.15177175896775105, 0.7588587948387553, 0.925082942252155, 0.13625319768220098, 0.8175191860932058, 0.13625319768220098, 0.16696494846661522, 0.2504474226999228, 0.3220038291856151, 0.11926067747615374, 0.14311281297138448, 0.86045955806747, 0.6236159326433478, 0.6478355019739996, 0.8477010106146452, 0.2389846033863539, 0.19801581423440753, 0.17070328813310995, 0.3004377871142735, 0.08876570982921717, 0.8478775824015885, 0.30383713773356363, 0.18061429854161837, 0.09283912541858888, 0.21268599641349453, 0.20762204411793514, 0.1340490469290454, 0.7149282502882421, 0.08936603128603027, 0.044683015643015134, 0.08936603128603027, 0.11648459434193251, 0.09622640402159642, 0.14687187982243663, 0.19751735562327685, 0.4355510918872259, 0.1108598919099851, 0.1108598919099851, 0.609729405504918, 0.16628983786497767, 0.10652048002238255, 0.10652048002238255, 0.15978072003357383, 0.5326024001119127, 0.10652048002238255, 0.09694888181771158, 0.07755910545416926, 0.15027076681745294, 0.31023642181667704, 0.368405750907304, 0.8475940883592743, 0.509291661758934, 0.1791952143225879, 0.15090123311375822, 0.09431327069609889, 0.06601928948726922, 0.6478393215227193, 0.8478724829098511, 0.8589897806434172, 0.7542484412006643], \"Term\": [\"aimed\", \"aimed\", \"air\", \"air\", \"air\", \"air\", \"air\", \"algae\", \"andthe\", \"andthe\", \"annoying\", \"annoying\", \"annoying\", \"annoying\", \"annoying\", \"another\", \"another\", \"another\", \"another\", \"another\", \"anything\", \"anything\", \"anything\", \"anything\", \"anything\", \"around\", \"around\", \"around\", \"around\", \"around\", \"awakened\", \"awakened\", \"away\", \"away\", \"away\", \"away\", \"away\", \"babysitter\", \"bad\", \"bad\", \"bad\", \"bad\", \"bad\", \"baggage\", \"baggage\", \"bathroom\", \"bathroom\", \"bathroom\", \"bathroom\", \"bathroom\", \"beach\", \"beach\", \"beach\", \"beach\", \"beach\", \"bed\", \"bed\", \"bed\", \"bed\", \"bed\", \"beds\", \"beds\", \"beds\", \"beds\", \"beds\", \"beeping\", \"better\", \"better\", \"better\", \"better\", \"better\", \"blink\", \"blockage\", \"blood\", \"blood\", \"blood\", \"booked\", \"booked\", \"booked\", \"booked\", \"booked\", \"booking\", \"booking\", \"booking\", \"booking\", \"booking\", \"bordered\", \"boring\", \"boring\", \"boring\", \"boring\", \"boring\", \"boulevard\", \"bouncy\", \"breakfast\", \"breakfast\", \"breakfast\", \"breakfast\", \"breakfast\", \"breakfirst\", \"briefs\", \"brings\", \"brings\", \"brings\", \"brings\", \"broken\", \"broken\", \"broken\", \"broken\", \"broken\", \"busier\", \"came\", \"came\", \"came\", \"came\", \"came\", \"camp\", \"ceilings\", \"center\", \"center\", \"center\", \"center\", \"center\", \"charge\", \"charge\", \"charge\", \"charge\", \"charge\", \"cheap\", \"cheap\", \"cheap\", \"cheap\", \"cheap\", \"check\", \"check\", \"check\", \"check\", \"check\", \"chill\", \"chill\", \"chill\", \"chill\", \"chill\", \"chlorine\", \"choosing\", \"choosing\", \"chung\", \"chutt\", \"city\", \"city\", \"city\", \"city\", \"city\", \"clean\", \"clean\", \"clean\", \"clean\", \"clean\", \"cloak\", \"close\", \"close\", \"close\", \"close\", \"close\", \"clustered\", \"coffee\", \"coffee\", \"coffee\", \"coffee\", \"coffee\", \"cold\", \"cold\", \"cold\", \"cold\", \"cold\", \"com\", \"com\", \"com\", \"com\", \"com\", \"complaint\", \"complaint\", \"complaint\", \"complaint\", \"complaint\", \"component\", \"conditioner\", \"conditioner\", \"conditioner\", \"conditioner\", \"conditioner\", \"conditioning\", \"conditioning\", \"conditioning\", \"conditioning\", \"conditioning\", \"confortable\", \"countryside\", \"crashed\", \"criticize\", \"criticize\", \"criticize\", \"criticize\", \"criticize\", \"crossway\", \"crowded\", \"crowded\", \"crowded\", \"crowded\", \"crowded\", \"damp\", \"damp\", \"damp\", \"damp\", \"damp\", \"dark\", \"dark\", \"dark\", \"dark\", \"dark\", \"day\", \"day\", \"day\", \"day\", \"day\", \"days\", \"days\", \"days\", \"days\", \"days\", \"debris\", \"deliberately\", \"deliberately\", \"deliberately\", \"deserted\", \"deserted\", \"deserted\", \"deterred\", \"difficult\", \"difficult\", \"difficult\", \"difficult\", \"difficult\", \"dip\", \"direction\", \"direction\", \"direction\", \"dirty\", \"dirty\", \"dirty\", \"dirty\", \"dirty\", \"dirtytoilet\", \"disappointed\", \"disappointed\", \"disappointed\", \"disappointed\", \"disappointed\", \"disappointingly\", \"discharged\", \"disco\", \"dislike\", \"dislike\", \"dislike\", \"dislike\", \"dislike\", \"disorganised\", \"dogs\", \"dogs\", \"dogs\", \"dogs\", \"dogs\", \"door\", \"door\", \"door\", \"door\", \"door\", \"drawn\", \"drilling\", \"drilling\", \"dull\", \"dull\", \"dull\", \"durimg\", \"dust\", \"dust\", \"dust\", \"dust\", \"dust\", \"earliest\", \"earn\", \"elastic\", \"elevator\", \"elevator\", \"elevator\", \"elevator\", \"elevator\", \"eliminated\", \"emanating\", \"endurable\", \"english\", \"english\", \"english\", \"english\", \"english\", \"environs\", \"equal\", \"equal\", \"equal\", \"equal\", \"equipment\", \"equipment\", \"equipment\", \"equipment\", \"equipment\", \"equipped\", \"equipped\", \"equipped\", \"equipped\", \"equipped\", \"erosion\", \"everything\", \"everything\", \"everything\", \"everything\", \"everything\", \"expected\", \"expected\", \"expected\", \"expected\", \"expected\", \"expensive\", \"expensive\", \"expensive\", \"expensive\", \"expensive\", \"explication\", \"extended\", \"extremely\", \"extremely\", \"extremely\", \"extremely\", \"extremely\", \"fifth\", \"filthy\", \"filthy\", \"filthy\", \"filthy\", \"first\", \"first\", \"first\", \"first\", \"first\", \"fishermen\", \"flexibly\", \"floor\", \"floor\", \"floor\", \"floor\", \"floor\", \"food\", \"food\", \"food\", \"food\", \"food\", \"foodbad\", \"football\", \"fork\", \"freedom\", \"front\", \"front\", \"front\", \"front\", \"front\", \"fruit\", \"fruit\", \"fruit\", \"fruit\", \"fruit\", \"fullboard\", \"fundamental\", \"get\", \"get\", \"get\", \"get\", \"get\", \"go\", \"go\", \"go\", \"go\", \"go\", \"good\", \"good\", \"good\", \"good\", \"good\", \"gra\", \"gra\", \"gra\", \"grade\", \"groove\", \"guessed\", \"guests\", \"guests\", \"guests\", \"guests\", \"guests\", \"hard\", \"hard\", \"hard\", \"hard\", \"hard\", \"harm\", \"harm\", \"headline\", \"horning\", \"horns\", \"horns\", \"horns\", \"hostle\", \"hot\", \"hot\", \"hot\", \"hot\", \"hot\", \"hotel\", \"hotel\", \"hotel\", \"hotel\", \"hotel\", \"housekeeper\", \"ignores\", \"impact\", \"impact\", \"impact\", \"imposed\", \"inconveniences\", \"indicates\", \"infinity\", \"infinity\", \"insect\", \"interval\", \"invoice\", \"invoice\", \"invoice\", \"invoice\", \"invoice\", \"issue\", \"issue\", \"issue\", \"issue\", \"issue\", \"landside\", \"late\", \"late\", \"late\", \"late\", \"late\", \"laundry\", \"laundry\", \"laundry\", \"laundry\", \"laundry\", \"lent\", \"lessened\", \"lightning\", \"like\", \"like\", \"like\", \"like\", \"like\", \"liquid\", \"little\", \"little\", \"little\", \"little\", \"little\", \"location\", \"location\", \"location\", \"location\", \"location\", \"lod\", \"main\", \"main\", \"main\", \"main\", \"main\", \"makes\", \"makes\", \"makes\", \"makes\", \"makes\", \"many\", \"many\", \"many\", \"many\", \"many\", \"maple\", \"mart\", \"mart\", \"massage\", \"massage\", \"massage\", \"massage\", \"massage\", \"meagre\", \"melia\", \"mi\", \"mirror\", \"mirror\", \"moldy\", \"moldy\", \"moldy\", \"moldy\", \"moldy\", \"money\", \"money\", \"money\", \"money\", \"money\", \"monument\", \"morning\", \"morning\", \"morning\", \"morning\", \"morning\", \"much\", \"much\", \"much\", \"much\", \"much\", \"musty\", \"musty\", \"musty\", \"musty\", \"nang\", \"narrower\", \"nauseous\", \"near\", \"near\", \"near\", \"near\", \"near\", \"need\", \"need\", \"need\", \"need\", \"need\", \"negligence\", \"neighborhood\", \"neighborhood\", \"neighborhood\", \"neighborhood\", \"neighborhood\", \"neighbors\", \"neighbors\", \"neighbors\", \"neighbors\", \"neighbors\", \"next\", \"next\", \"next\", \"next\", \"next\", \"niece\", \"night\", \"night\", \"night\", \"night\", \"night\", \"noise\", \"noise\", \"noise\", \"noise\", \"noise\", \"noisy\", \"noisy\", \"noisy\", \"noisy\", \"noisy\", \"nothing\", \"nothing\", \"nothing\", \"nothing\", \"nothing\", \"occasions\", \"occasions\", \"occupant\", \"odour\", \"oils\", \"oils\", \"old\", \"old\", \"old\", \"old\", \"old\", \"option\", \"option\", \"option\", \"option\", \"option\", \"orders\", \"orders\", \"orders\", \"orders\", \"originally\", \"outside\", \"outside\", \"outside\", \"outside\", \"outside\", \"overview\", \"packing\", \"paid\", \"paid\", \"paid\", \"paid\", \"paid\", \"parking\", \"parking\", \"parking\", \"parking\", \"parking\", \"patch\", \"pay\", \"pay\", \"pay\", \"pay\", \"pay\", \"people\", \"people\", \"people\", \"people\", \"people\", \"place\", \"place\", \"place\", \"place\", \"place\", \"placement\", \"placement\", \"placement\", \"placing\", \"placing\", \"placing\", \"plastics\", \"poached\", \"pointless\", \"pointless\", \"police\", \"police\", \"polluted\", \"pool\", \"pool\", \"pool\", \"pool\", \"pool\", \"poor\", \"poor\", \"poor\", \"poor\", \"poor\", \"prayer\", \"praying\", \"pressure\", \"pressure\", \"pressure\", \"pressure\", \"pressure\", \"price\", \"price\", \"price\", \"price\", \"price\", \"problem\", \"problem\", \"problem\", \"problem\", \"problem\", \"prominent\", \"promise\", \"promote\", \"protected\", \"purify\", \"quit\", \"quite\", \"quite\", \"quite\", \"quite\", \"quite\", \"really\", \"really\", \"really\", \"really\", \"really\", \"receptionists\", \"refriderator\", \"removed\", \"renewal\", \"repaired\", \"repaired\", \"repaired\", \"repaired\", \"repaired\", \"revised\", \"rid\", \"rid\", \"rigid\", \"rigid\", \"rigid\", \"rooftop\", \"rooftop\", \"rooftop\", \"rooftop\", \"rooftop\", \"room\", \"room\", \"room\", \"room\", \"room\", \"rooms\", \"rooms\", \"rooms\", \"rooms\", \"rooms\", \"row\", \"rule\", \"rustic\", \"rustic\", \"safety\", \"safety\", \"safety\", \"scent\", \"scraps\", \"screwdriver\", \"sea\", \"sea\", \"sea\", \"sea\", \"sea\", \"seeping\", \"series\", \"service\", \"service\", \"service\", \"service\", \"service\", \"services\", \"services\", \"services\", \"services\", \"services\", \"shade\", \"shades\", \"shards\", \"sheets\", \"sheets\", \"sheets\", \"sheets\", \"sheets\", \"shot\", \"shower\", \"shower\", \"shower\", \"shower\", \"shower\", \"single\", \"single\", \"single\", \"single\", \"single\", \"sleep\", \"sleep\", \"sleep\", \"sleep\", \"sleep\", \"slightly\", \"slightly\", \"slightly\", \"slightly\", \"slightly\", \"slow\", \"slow\", \"slow\", \"slow\", \"slow\", \"small\", \"small\", \"small\", \"small\", \"small\", \"smart\", \"smell\", \"smell\", \"smell\", \"smell\", \"smell\", \"sock\", \"soda\", \"sopha\", \"sopha\", \"space\", \"space\", \"space\", \"space\", \"space\", \"specialties\", \"specify\", \"spiral\", \"spreading\", \"staff\", \"staff\", \"staff\", \"staff\", \"staff\", \"stairs\", \"stairs\", \"stairs\", \"stairs\", \"stairs\", \"starred\", \"stay\", \"stay\", \"stay\", \"stay\", \"stay\", \"steamed\", \"steamed\", \"steamed\", \"still\", \"still\", \"still\", \"still\", \"still\", \"stopping\", \"stretch\", \"surroundings\", \"surroundings\", \"swear\", \"symphony\", \"tad\", \"taught\", \"tbh\", \"tee\", \"tee\", \"terra\", \"terrifying\", \"text\", \"text\", \"text\", \"thehotel\", \"thehotel\", \"thien\", \"thin\", \"thin\", \"thin\", \"thin\", \"thin\", \"time\", \"time\", \"time\", \"time\", \"time\", \"times\", \"times\", \"times\", \"times\", \"times\", \"timms\", \"tired\", \"tired\", \"tired\", \"tired\", \"tired\", \"toilet\", \"toilet\", \"toilet\", \"toilet\", \"toilet\", \"toiletaire\", \"tolet\", \"tolet\", \"tolet\", \"tolet\", \"tolet\", \"touted\", \"town\", \"town\", \"town\", \"town\", \"town\", \"traveller\", \"trials\", \"truong\", \"uncleaned\", \"underwhelming\", \"underwhelming\", \"upside\", \"utilities\", \"utilities\", \"utilities\", \"view\", \"view\", \"view\", \"view\", \"view\", \"villager\", \"voices\", \"waffels\", \"walkiny\", \"want\", \"want\", \"want\", \"want\", \"want\", \"wasting\", \"water\", \"water\", \"water\", \"water\", \"water\", \"wc\", \"wc\", \"wc\", \"wc\", \"wc\", \"weak\", \"weak\", \"weak\", \"weak\", \"weak\", \"web\", \"web\", \"web\", \"web\", \"welcoming\", \"welcoming\", \"welcoming\", \"welcoming\", \"welcoming\", \"wifi\", \"wifi\", \"wifi\", \"wifi\", \"wifi\", \"wildly\", \"windows\", \"windows\", \"windows\", \"windows\", \"windows\", \"windsurfers\", \"xg\", \"yelling\", \"yo\"]}, \"R\": 30, \"lambda.step\": 0.01, \"plot.opts\": {\"xlab\": \"PC1\", \"ylab\": \"PC2\"}, \"topic.order\": [1, 5, 4, 3, 2]};\n",
       "\n",
       "function LDAvis_load_lib(url, callback){\n",
       "  var s = document.createElement('script');\n",
       "  s.src = url;\n",
       "  s.async = true;\n",
       "  s.onreadystatechange = s.onload = callback;\n",
       "  s.onerror = function(){console.warn(\"failed to load library \" + url);};\n",
       "  document.getElementsByTagName(\"head\")[0].appendChild(s);\n",
       "}\n",
       "\n",
       "if(typeof(LDAvis) !== \"undefined\"){\n",
       "   // already loaded: just create the visualization\n",
       "   !function(LDAvis){\n",
       "       new LDAvis(\"#\" + \"ldavis_el1512817246147603049152717823\", ldavis_el1512817246147603049152717823_data);\n",
       "   }(LDAvis);\n",
       "}else if(typeof define === \"function\" && define.amd){\n",
       "   // require.js is available: use it to load d3/LDAvis\n",
       "   require.config({paths: {d3: \"https://d3js.org/d3.v5\"}});\n",
       "   require([\"d3\"], function(d3){\n",
       "      window.d3 = d3;\n",
       "      LDAvis_load_lib(\"https://cdn.jsdelivr.net/gh/bmabey/pyLDAvis@3.4.0/pyLDAvis/js/ldavis.v3.0.0.js\", function(){\n",
       "        new LDAvis(\"#\" + \"ldavis_el1512817246147603049152717823\", ldavis_el1512817246147603049152717823_data);\n",
       "      });\n",
       "    });\n",
       "}else{\n",
       "    // require.js not available: dynamically load d3 & LDAvis\n",
       "    LDAvis_load_lib(\"https://d3js.org/d3.v5.js\", function(){\n",
       "         LDAvis_load_lib(\"https://cdn.jsdelivr.net/gh/bmabey/pyLDAvis@3.4.0/pyLDAvis/js/ldavis.v3.0.0.js\", function(){\n",
       "                 new LDAvis(\"#\" + \"ldavis_el1512817246147603049152717823\", ldavis_el1512817246147603049152717823_data);\n",
       "            })\n",
       "         });\n",
       "}\n",
       "</script>"
      ],
      "text/plain": [
       "<IPython.core.display.HTML object>"
      ]
     },
     "execution_count": 64,
     "metadata": {},
     "output_type": "execute_result"
    }
   ],
   "source": [
    "# Khai báo đường dẫn đến thư mục lưu trữ dữ liệu\n",
    "LDAvis_data_dir = os.path.join(\"E:\\\\NCKH\\\\NCKHNew\\\\img\", 'neg_Results')\n",
    "if not os.path.exists(LDAvis_data_dir):\n",
    "    os.makedirs(LDAvis_data_dir)\n",
    "\n",
    "# Đường dẫn tới tệp dữ liệu của pyLDAvis\n",
    "LDAvis_data_filepath = os.path.join(LDAvis_data_dir, 'ldavis_prepared_'+str(num_topics))\n",
    "\n",
    "# Kiểm tra xem liệu quá trình chuẩn bị dữ liệu cho trực quan hóa đã được thực hiện chưa\n",
    "if 1 == 1:\n",
    "    # Chuẩn bị dữ liệu cho trực quan hóa\n",
    "    LDAvis_prepared = pyLDAvis.gensim_models.prepare(lda_model, corpus, id2word)\n",
    "    # Lưu trữ dữ liệu vào một tệp\n",
    "    with open(LDAvis_data_filepath, 'wb') as f:\n",
    "        pickle.dump(LDAvis_prepared, f)\n",
    "\n",
    "# Load dữ liệu đã chuẩn bị từ tệp\n",
    "with open(LDAvis_data_filepath, 'rb') as f:\n",
    "    LDAvis_prepared = pickle.load(f)\n",
    "\n",
    "# Lưu trữ trực quan hóa dưới dạng một tệp HTML\n",
    "pyLDAvis.save_html(LDAvis_prepared, 'ldavis_prepared_'+ str(num_topics) +'.html')\n",
    "\n",
    "# Hiển thị trực quan hóa trên trình duyệt web\n",
    "pyLDAvis.display(LDAvis_prepared)\n"
   ]
  }
 ],
 "metadata": {
  "kernelspec": {
   "display_name": "Python 3",
   "language": "python",
   "name": "python3"
  },
  "language_info": {
   "codemirror_mode": {
    "name": "ipython",
    "version": 3
   },
   "file_extension": ".py",
   "mimetype": "text/x-python",
   "name": "python",
   "nbconvert_exporter": "python",
   "pygments_lexer": "ipython3",
   "version": "3.11.8"
  }
 },
 "nbformat": 4,
 "nbformat_minor": 2
}
