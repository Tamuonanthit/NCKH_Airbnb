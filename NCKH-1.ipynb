{
 "cells": [
  {
   "cell_type": "markdown",
   "metadata": {},
   "source": [
    "# LIBRARY"
   ]
  },
  {
   "cell_type": "code",
   "execution_count": 3,
   "metadata": {},
   "outputs": [
    {
     "name": "stderr",
     "output_type": "stream",
     "text": [
      "[nltk_data] Downloading package stopwords to\n",
      "[nltk_data]     C:\\Users\\hkhiy\\AppData\\Roaming\\nltk_data...\n",
      "[nltk_data]   Unzipping corpora\\stopwords.zip.\n"
     ]
    }
   ],
   "source": [
    "import pandas as pd\n",
    "import numpy as np\n",
    "import nltk\n",
    "from nltk.corpus import stopwords\n",
    "from nltk.tokenize import word_tokenize \n",
    "from nltk import tokenize\n",
    "import re\n",
    "nltk.download('stopwords')\n",
    "import csv"
   ]
  },
  {
   "cell_type": "code",
   "execution_count": 13,
   "metadata": {},
   "outputs": [
    {
     "data": {
      "text/html": [
       "<div>\n",
       "<style scoped>\n",
       "    .dataframe tbody tr th:only-of-type {\n",
       "        vertical-align: middle;\n",
       "    }\n",
       "\n",
       "    .dataframe tbody tr th {\n",
       "        vertical-align: top;\n",
       "    }\n",
       "\n",
       "    .dataframe thead th {\n",
       "        text-align: right;\n",
       "    }\n",
       "</style>\n",
       "<table border=\"1\" class=\"dataframe\">\n",
       "  <thead>\n",
       "    <tr style=\"text-align: right;\">\n",
       "      <th></th>\n",
       "      <th>reviewer_name</th>\n",
       "      <th>reviewer_country</th>\n",
       "      <th>rental_date</th>\n",
       "      <th>comments</th>\n",
       "      <th>langugage</th>\n",
       "    </tr>\n",
       "  </thead>\n",
       "  <tbody>\n",
       "    <tr>\n",
       "      <th>0</th>\n",
       "      <td>Igor</td>\n",
       "      <td>Kraków, Ba Lan</td>\n",
       "      <td>2023-12-02 00:00:00</td>\n",
       "      <td>The best support I have ever witnessed. Answer...</td>\n",
       "      <td>en</td>\n",
       "    </tr>\n",
       "    <tr>\n",
       "      <th>1</th>\n",
       "      <td>Kevin</td>\n",
       "      <td>Cannes, Pháp</td>\n",
       "      <td>2023-12-04 00:00:00</td>\n",
       "      <td>Everything is very ok.</td>\n",
       "      <td>en</td>\n",
       "    </tr>\n",
       "    <tr>\n",
       "      <th>2</th>\n",
       "      <td>Walid</td>\n",
       "      <td>Cannes, Pháp</td>\n",
       "      <td>2023-12-09 00:00:00</td>\n",
       "      <td>Great accommodation for some games, the owner ...</td>\n",
       "      <td>en</td>\n",
       "    </tr>\n",
       "    <tr>\n",
       "      <th>3</th>\n",
       "      <td>Maxence</td>\n",
       "      <td>Vương quốc Anh</td>\n",
       "      <td>2023-12-11 00:00:00</td>\n",
       "      <td>Thanks Nigel &amp; Tra for friendly stay in Ho Chi...</td>\n",
       "      <td>en</td>\n",
       "    </tr>\n",
       "    <tr>\n",
       "      <th>4</th>\n",
       "      <td>Lisa</td>\n",
       "      <td>Ai/len</td>\n",
       "      <td>2023-12-10 00:00:00</td>\n",
       "      <td>Nigel and others were very dedicated and respo...</td>\n",
       "      <td>en</td>\n",
       "    </tr>\n",
       "  </tbody>\n",
       "</table>\n",
       "</div>"
      ],
      "text/plain": [
       "  reviewer_name reviewer_country          rental_date  \\\n",
       "0          Igor   Kraków, Ba Lan  2023-12-02 00:00:00   \n",
       "1         Kevin     Cannes, Pháp  2023-12-04 00:00:00   \n",
       "2         Walid     Cannes, Pháp  2023-12-09 00:00:00   \n",
       "3       Maxence   Vương quốc Anh  2023-12-11 00:00:00   \n",
       "4          Lisa           Ai/len  2023-12-10 00:00:00   \n",
       "\n",
       "                                            comments langugage  \n",
       "0  The best support I have ever witnessed. Answer...        en  \n",
       "1                             Everything is very ok.        en  \n",
       "2  Great accommodation for some games, the owner ...        en  \n",
       "3  Thanks Nigel & Tra for friendly stay in Ho Chi...        en  \n",
       "4  Nigel and others were very dedicated and respo...        en  "
      ]
     },
     "execution_count": 13,
     "metadata": {},
     "output_type": "execute_result"
    }
   ],
   "source": [
    "df=pd.read_excel(r'C:\\Users\\hkhiy\\Documents\\NCKH_Airbnb\\Data1.xlsx')\n",
    "df.head()"
   ]
  },
  {
   "cell_type": "code",
   "execution_count": 16,
   "metadata": {},
   "outputs": [],
   "source": [
    "TAG_RE = re.compile(r'<[^>]+>')\n",
    "\n",
    "def remove_tags(text):\n",
    "    return TAG_RE.sub('', text)\n",
    "\n",
    "stopwords_list = set(stopwords.words('english'))\n",
    "class CustomPreprocess():\n",
    "    '''Cleans text data up, leaving only 2 or more char long non-stepwords composed of A-Z & a-z only\n",
    "    in lowercase'''\n",
    "\n",
    "    def __init__(self):\n",
    "        pass\n",
    "        \n",
    "    def preprocess_text(self,sen):\n",
    "        if pd.isna(sen):\n",
    "            return \"\"\n",
    "        sen = str(sen).lower()\n",
    "\n",
    "        # Remove html tags\n",
    "        sentence = remove_tags(sen)\n",
    "\n",
    "        # Remove punctuations and numbers\n",
    "        sentence = re.sub('[^a-zA-Z]', ' ', sentence)\n",
    "        \n",
    "        # Single character removal\n",
    "        sentence = re.sub(r\"\\s+[a-zA-Z]\\s+\", ' ', sentence)  # When we remove apostrophe from the word \"Mark's\", the apostrophe is replaced by an empty space. Hence, we are left with single character \"s\" that we are removing here.\n",
    "\n",
    "        # Remove multiple spaces\n",
    "        sentence = re.sub(r'\\s+', ' ', sentence)  # Next, we remove all the single characters and replace it by a space which creates multiple spaces in our text. Finally, we remove the multiple spaces from our text as well.\n",
    "        \n",
    "        # Remove Stopwords\n",
    "        pattern = re.compile(r'\\b(' + r'|'.join(stopwords_list) + r')\\b\\s*')\n",
    "        sentence = pattern.sub('', sentence)\n",
    "         # Remove lỗi font\n",
    "        sentence =  re.sub(\"[^\\x00-\\x7F]\", \" \", sentence)\n",
    "        \n",
    "        return sentence\n",
    "\n",
    "\n",
    "\n"
   ]
  },
  {
   "cell_type": "code",
   "execution_count": 17,
   "metadata": {},
   "outputs": [],
   "source": [
    "test=CustomPreprocess()\n",
    "X = []\n",
    "sentences= list(df['comments'])\n",
    "for sen in sentences:\n",
    "    X.append(test.preprocess_text(sen))"
   ]
  },
  {
   "cell_type": "code",
   "execution_count": 18,
   "metadata": {},
   "outputs": [
    {
     "data": {
      "text/plain": [
       "'great place money friendly supportive staff '"
      ]
     },
     "execution_count": 18,
     "metadata": {},
     "output_type": "execute_result"
    }
   ],
   "source": [
    "X[159750]\n"
   ]
  },
  {
   "cell_type": "code",
   "execution_count": 20,
   "metadata": {},
   "outputs": [
    {
     "data": {
      "text/plain": [
       "reviewer_name       533508\n",
       "reviewer_country    533294\n",
       "rental_date         533515\n",
       "comments            533515\n",
       "langugage           125716\n",
       "dtype: int64"
      ]
     },
     "execution_count": 20,
     "metadata": {},
     "output_type": "execute_result"
    }
   ],
   "source": [
    "df['comments'] = X\n",
    "df.count()"
   ]
  },
  {
   "cell_type": "code",
   "execution_count": 22,
   "metadata": {},
   "outputs": [
    {
     "data": {
      "text/html": [
       "<div>\n",
       "<style scoped>\n",
       "    .dataframe tbody tr th:only-of-type {\n",
       "        vertical-align: middle;\n",
       "    }\n",
       "\n",
       "    .dataframe tbody tr th {\n",
       "        vertical-align: top;\n",
       "    }\n",
       "\n",
       "    .dataframe thead th {\n",
       "        text-align: right;\n",
       "    }\n",
       "</style>\n",
       "<table border=\"1\" class=\"dataframe\">\n",
       "  <thead>\n",
       "    <tr style=\"text-align: right;\">\n",
       "      <th></th>\n",
       "      <th>reviewer_name</th>\n",
       "      <th>reviewer_country</th>\n",
       "      <th>rental_date</th>\n",
       "      <th>comments</th>\n",
       "      <th>langugage</th>\n",
       "    </tr>\n",
       "  </thead>\n",
       "  <tbody>\n",
       "    <tr>\n",
       "      <th>0</th>\n",
       "      <td>Igor</td>\n",
       "      <td>Kraków, Ba Lan</td>\n",
       "      <td>2023-12-02 00:00:00</td>\n",
       "      <td>best support ever witnessed answer fast kind s...</td>\n",
       "      <td>en</td>\n",
       "    </tr>\n",
       "    <tr>\n",
       "      <th>1</th>\n",
       "      <td>Kevin</td>\n",
       "      <td>Cannes, Pháp</td>\n",
       "      <td>2023-12-04 00:00:00</td>\n",
       "      <td>everything ok</td>\n",
       "      <td>en</td>\n",
       "    </tr>\n",
       "    <tr>\n",
       "      <th>2</th>\n",
       "      <td>Walid</td>\n",
       "      <td>Cannes, Pháp</td>\n",
       "      <td>2023-12-09 00:00:00</td>\n",
       "      <td>great accommodation games owner responded quickly</td>\n",
       "      <td>en</td>\n",
       "    </tr>\n",
       "    <tr>\n",
       "      <th>3</th>\n",
       "      <td>Maxence</td>\n",
       "      <td>Vương quốc Anh</td>\n",
       "      <td>2023-12-11 00:00:00</td>\n",
       "      <td>thanks nigel tra friendly stay ho chi minh cit...</td>\n",
       "      <td>en</td>\n",
       "    </tr>\n",
       "    <tr>\n",
       "      <th>4</th>\n",
       "      <td>Lisa</td>\n",
       "      <td>Ai/len</td>\n",
       "      <td>2023-12-10 00:00:00</td>\n",
       "      <td>nigel others dedicated responded quickly stay ...</td>\n",
       "      <td>en</td>\n",
       "    </tr>\n",
       "  </tbody>\n",
       "</table>\n",
       "</div>"
      ],
      "text/plain": [
       "  reviewer_name reviewer_country          rental_date  \\\n",
       "0          Igor   Kraków, Ba Lan  2023-12-02 00:00:00   \n",
       "1         Kevin     Cannes, Pháp  2023-12-04 00:00:00   \n",
       "2         Walid     Cannes, Pháp  2023-12-09 00:00:00   \n",
       "3       Maxence   Vương quốc Anh  2023-12-11 00:00:00   \n",
       "4          Lisa           Ai/len  2023-12-10 00:00:00   \n",
       "\n",
       "                                            comments langugage  \n",
       "0  best support ever witnessed answer fast kind s...        en  \n",
       "1                                     everything ok         en  \n",
       "2  great accommodation games owner responded quickly        en  \n",
       "3  thanks nigel tra friendly stay ho chi minh cit...        en  \n",
       "4  nigel others dedicated responded quickly stay ...        en  "
      ]
     },
     "execution_count": 22,
     "metadata": {},
     "output_type": "execute_result"
    }
   ],
   "source": [
    "df = df.dropna(subset=['comments'])\n",
    "# Lưu dataframe sau khi xóa\n",
    "df.head()\n",
    "\n",
    "\n"
   ]
  },
  {
   "cell_type": "code",
   "execution_count": 23,
   "metadata": {},
   "outputs": [],
   "source": [
    "import pandas as pd\n",
    "from openpyxl import Workbook\n",
    "\n",
    "df.to_csv(r'C:\\Users\\hkhiy\\Documents\\NCKH_Airbnb\\after_preprocess.csv', encoding='utf-8')\n",
    "\n",
    "# Create a new Excel workbook and save the DataFrame to an Excel file\n",
    "workbook = Workbook()\n",
    "worksheet = workbook.active\n",
    "\n",
    "# Provide the correct file path using a raw string\n",
    "with open(r'C:\\Users\\hkhiy\\Documents\\NCKH_Airbnb\\after_preprocess.csv', 'r', encoding='utf-8') as f:\n",
    "    csv_reader = csv.reader(f)\n",
    "    for row in csv_reader:\n",
    "        worksheet.append(row)\n",
    "\n",
    "workbook.save(\"Data3.xlsx\")"
   ]
  }
 ],
 "metadata": {
  "kernelspec": {
   "display_name": "Python 3",
   "language": "python",
   "name": "python3"
  },
  "language_info": {
   "codemirror_mode": {
    "name": "ipython",
    "version": 3
   },
   "file_extension": ".py",
   "mimetype": "text/x-python",
   "name": "python",
   "nbconvert_exporter": "python",
   "pygments_lexer": "ipython3",
   "version": "3.12.2"
  }
 },
 "nbformat": 4,
 "nbformat_minor": 2
}
