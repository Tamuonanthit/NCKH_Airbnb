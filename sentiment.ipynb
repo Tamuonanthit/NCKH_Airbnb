{
 "cells": [
  {
   "cell_type": "code",
   "execution_count": 2,
   "metadata": {},
   "outputs": [],
   "source": [
    "from sklearn.model_selection import train_test_split\n",
    "from sklearn import svm\n",
    "from sklearn.metrics import accuracy_score\n",
    "from numpy import loadtxt\n",
    "import numpy as np\n",
    "import pickle\n",
    "import utils\n",
    "\n"
   ]
  },
  {
   "cell_type": "code",
   "execution_count": null,
   "metadata": {},
   "outputs": [],
   "source": [
    "# Performs SVM classification on features extracted from penultimate layer of CNN model.\n",
    "TRAIN_FEATURES_FILE = './train-feats.npy'\n",
    "TRAIN_LABELS_FILE = './train-labels.txt'\n",
    "TEST_FEATURES_FILE = './test-feats.npy'\n",
    "CLASSIFIER = 'SVM'\n",
    "MODEL_FILE = 'cnn-feats-%s.pkl' % CLASSIFIER\n",
    "TRAIN = True\n",
    "C = 1\n",
    "MAX_ITER = 1000\n",
    "\n",
    "if TRAIN:\n",
    "    X_train = np.load(TRAIN_FEATURES_FILE)\n",
    "    y_train = loadtxt(TRAIN_LABELS_FILE, dtype=float).astype(int)\n",
    "\n",
    "    X_train, X_val, y_train, y_val = train_test_split(X_train, y_train, test_size=0.1)\n",
    "\n",
    "    print (X_train.shape, y_train.shape, X_val.shape, y_val.shape)\n",
    "\n",
    "    if CLASSIFIER == 'SVM':\n",
    "        model = svm.LinearSVC(C=C, verbose=1, max_iter=MAX_ITER)\n",
    "        model.fit(X_train, y_train)\n",
    "\n",
    "    print (model)\n",
    "    del X_train\n",
    "    del y_train\n",
    "    with open(MODEL_FILE, 'wb') as mf:\n",
    "        pickle.dump(model, mf)\n",
    "    val_preds = model.predict(X_val)\n",
    "    accuracy = accuracy_score(y_val, val_preds)\n",
    "    print(\"Val Accuracy: %.2f%%\" % (accuracy * 100.0))\n",
    "\n",
    "else:\n",
    "    with open(MODEL_FILE, 'rb') as mf:\n",
    "        model = pickle.load(mf)\n",
    "    X_test = np.load(TEST_FEATURES_FILE)\n",
    "    print (X_test.shape)\n",
    "    test_preds = model.predict(X_test)\n",
    "    results = zip(map(str, range(X_test.shape[0])), test_preds)\n",
    "    utils.save_results_to_csv(results, 'cnn-feats-svm-linear-%.2f-%d.csv' % (C, MAX_ITER))"
   ]
  }
 ],
 "metadata": {
  "kernelspec": {
   "display_name": "Python 3",
   "language": "python",
   "name": "python3"
  },
  "language_info": {
   "codemirror_mode": {
    "name": "ipython",
    "version": 3
   },
   "file_extension": ".py",
   "mimetype": "text/x-python",
   "name": "python",
   "nbconvert_exporter": "python",
   "pygments_lexer": "ipython3",
   "version": "3.12.2"
  }
 },
 "nbformat": 4,
 "nbformat_minor": 2
}
